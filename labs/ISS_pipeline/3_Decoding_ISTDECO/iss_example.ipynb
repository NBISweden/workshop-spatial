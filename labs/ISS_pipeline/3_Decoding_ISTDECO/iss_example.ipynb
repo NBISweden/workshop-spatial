{
 "cells": [
  {
   "cell_type": "markdown",
   "metadata": {},
   "source": [
    "# Example In Situ Sequencing Data\n",
    "Here is a small example on how to run ISTDECO on an In Situ Sequencing dataset from [1]. (References are in the end of the notebook)."
   ]
  },
  {
   "cell_type": "markdown",
   "metadata": {},
   "source": [
    "## Set path variables\n",
    "The data and codebook can be downloaded from [2]."
   ]
  },
  {
   "cell_type": "code",
   "execution_count": 1,
   "metadata": {
    "ExecuteTime": {
     "end_time": "2021-02-25T14:31:54.569656Z",
     "start_time": "2021-02-25T14:31:54.554445Z"
    }
   },
   "outputs": [],
   "source": [
    "# Where to load the images and codebook from\n",
    "data_path = r'F:\\BIIFProjects\\MariaUlvmar2021-1\\data\\MU\\shared' \n",
    "\n",
    "# Where to save .csv with results\n",
    "csv_save_path = data_path + r'\\results.csv'"
   ]
  },
  {
   "cell_type": "markdown",
   "metadata": {},
   "source": [
    "## Load the data"
   ]
  },
  {
   "cell_type": "code",
   "execution_count": 7,
   "metadata": {},
   "outputs": [],
   "source": [
    "import csv\n",
    "import numpy as np\n",
    "\n",
    "def loadCodebook (csvFilename):\n",
    "    with open(csvFilename, 'r') as csvFile:\n",
    "        csvData = list(csv.reader(csvFile))\n",
    "    print (csvData)\n",
    "    target_names = np.array([line[1] for line in csvData])\n",
    "    target_letters = np.array([line[0] for line in csvData])\n",
    "    def oneHotEncode (tag):\n",
    "        letters = ['A', 'C', 'G', 'T']\n",
    "        return [\n",
    "            [int(l1 == letter) for l1 in letters]\n",
    "            for letter in tag\n",
    "        ]\n",
    "    codebook = np.array([\n",
    "        oneHotEncode(line[0]) for line in csvData\n",
    "    ])\n",
    "    return {\"codebook\":codebook, \"target_names\":target_names, \"target_letters\":target_letters}\n",
    "csvFilename = f'{data_path}/codebook.csv'\n"
   ]
  },
  {
   "cell_type": "code",
   "execution_count": 3,
   "metadata": {},
   "outputs": [
    {
     "name": "stdout",
     "output_type": "stream",
     "text": [
      "[['CGTCG', 'A2M'], ['TCCAC', 'ACKR1'], ['CACGG', 'ACTA2'], ['GCCGT', 'AGER'], ['TAACC', 'AIRE'], ['AGACC', 'ASCL1'], ['TCGCT', 'ASCL3'], ['GTCTT', 'BPIFB1'], ['CCCTA', 'CAV1'], ['GGACC', 'CD34'], ['ACTAC', 'CFTR'], ['GTTCG', 'CLDN5'], ['CTGAG', 'COL1A1'], ['TCTGC', 'COL1A2'], ['GCCTA', 'CYP2F1'], ['ATCTA', 'DES'], ['GATGT', 'EDN1'], ['ATGAC', 'EPCAM'], ['GCCCT', 'FBLN1'], ['TAAGG', 'FOXI1'], ['CAGTC', 'FOXJ1'], ['AAAGT', 'FOXN4'], ['CGTGT', 'GJA5'], ['CACAG', 'GSTA1'], ['TTAGA', 'INMT'], ['GAACC', 'KRT13'], ['CGGAG', 'KRT14'], ['TGTTA', 'KRT15'], ['TGTGA', 'KRT19'], ['CGGTA', 'KRT5'], ['CTTCG', 'LGR6'], ['AAGTC', 'LTF'], ['AAGCA', 'MSLN'], ['ACACT', 'MUC5AC'], ['TAATG', 'MUC5B'], ['GTTAG', 'PCSK1N'], ['GAGTC', 'PECAM1'], ['GACAA', 'PLIN2'], ['GCGAG', 'PPARG'], ['CCGAT', 'PTN'], ['ATGCG', 'PTPRC'], ['TGTAC', 'SCGB1A1'], ['CCGCT', 'SCGB3A2'], ['AGCAC', 'SEMA3A'], ['CCAGA', 'SFTA2'], ['ACCGA', 'SFTPC'], ['TATAC', 'TAGLN'], ['TCGTA', 'TP63'], ['GGCAC', 'TPPP3'], ['AGATG', 'TRPM5'], ['CTGGG', 'TUBB4B'], ['GTCGT', 'VIM'], ['TTGTG', 'WT1'], ['GGACA', 'ARG1'], ['AAGTG', 'BCL2'], ['TTCGT', 'CCL2'], ['CACTA', 'CCL5'], ['AATCG', 'CD226'], ['GCGAC', 'CD24'], ['GTTGA', 'CD244'], ['CAATT', 'CD27'], ['CGCGA', 'CD274'], ['GGTAG', 'CD38'], ['CGCAA', 'CD74'], ['TGCAC', 'CDH1'], ['TGCGG', 'CDH2'], ['TATGG', 'COL6A1'], ['CCCAG', 'CSF1R'], ['TCCCG', 'CTLA4'], ['AACGA', 'CTSD'], ['GGTCC', 'CXCL10'], ['GACCA', 'CXCL11'], ['CACAA', 'CXCL9'], ['AGTCG', 'CXCR4'], ['CCCGT', 'ENTPD1'], ['TTCGG', 'FAP'], ['ACGTT', 'FAS'], ['TAAAG', 'GNLY'], ['TTCAG', 'GZMA'], ['ACTAT', 'GZMB'], ['ACACC', 'GZMH'], ['CGTTG', 'GZMK'], ['TCCAA', 'HAVCR2'], ['TTCGC', 'ICOS'], ['GTTTC', 'IL10'], ['TCAGA', 'KLRC1'], ['GCGCA', 'LAG3'], ['AGTTT', 'MKI67'], ['CTATA', 'MMP9'], ['TCCGC', 'MYC'], ['GGGCT', 'PDCD1'], ['GTTAT', 'PDCD1LG2'], ['GTTCC', 'PDGFRA'], ['AAGGT', 'PDGFRB'], ['CGTTC', 'PRF1'], ['GACAC', 'SNAI1'], ['GACCC', 'SNAI2'], ['TCCGG', 'STMN1'], ['GACGC', 'TGFB1'], ['GTGTT', 'TIGIT'], ['ATGCT', 'VEGFA'], ['TGCAT', 'ZEB2'], ['TTTTT', 'TTTTT']]\n",
      "['A2M' 'ACKR1' 'ACTA2' 'AGER' 'AIRE' 'ASCL1' 'ASCL3' 'BPIFB1' 'CAV1'\n",
      " 'CD34' 'CFTR' 'CLDN5' 'COL1A1' 'COL1A2' 'CYP2F1' 'DES' 'EDN1' 'EPCAM'\n",
      " 'FBLN1' 'FOXI1' 'FOXJ1' 'FOXN4' 'GJA5' 'GSTA1' 'INMT' 'KRT13' 'KRT14'\n",
      " 'KRT15' 'KRT19' 'KRT5' 'LGR6' 'LTF' 'MSLN' 'MUC5AC' 'MUC5B' 'PCSK1N'\n",
      " 'PECAM1' 'PLIN2' 'PPARG' 'PTN' 'PTPRC' 'SCGB1A1' 'SCGB3A2' 'SEMA3A'\n",
      " 'SFTA2' 'SFTPC' 'TAGLN' 'TP63' 'TPPP3' 'TRPM5' 'TUBB4B' 'VIM' 'WT1'\n",
      " 'ARG1' 'BCL2' 'CCL2' 'CCL5' 'CD226' 'CD24' 'CD244' 'CD27' 'CD274' 'CD38'\n",
      " 'CD74' 'CDH1' 'CDH2' 'COL6A1' 'CSF1R' 'CTLA4' 'CTSD' 'CXCL10' 'CXCL11'\n",
      " 'CXCL9' 'CXCR4' 'ENTPD1' 'FAP' 'FAS' 'GNLY' 'GZMA' 'GZMB' 'GZMH' 'GZMK'\n",
      " 'HAVCR2' 'ICOS' 'IL10' 'KLRC1' 'LAG3' 'MKI67' 'MMP9' 'MYC' 'PDCD1'\n",
      " 'PDCD1LG2' 'PDGFRA' 'PDGFRB' 'PRF1' 'SNAI1' 'SNAI2' 'STMN1' 'TGFB1'\n",
      " 'TIGIT' 'VEGFA' 'ZEB2' 'TTTTT']\n",
      "[[[0.  0.2 0.  0. ]\n",
      "  [0.  0.  0.2 0. ]\n",
      "  [0.  0.  0.  0.2]\n",
      "  [0.  0.2 0.  0. ]\n",
      "  [0.  0.  0.2 0. ]]\n",
      "\n",
      " [[0.  0.  0.  0.2]\n",
      "  [0.  0.2 0.  0. ]\n",
      "  [0.  0.2 0.  0. ]\n",
      "  [0.2 0.  0.  0. ]\n",
      "  [0.  0.2 0.  0. ]]\n",
      "\n",
      " [[0.  0.2 0.  0. ]\n",
      "  [0.2 0.  0.  0. ]\n",
      "  [0.  0.2 0.  0. ]\n",
      "  [0.  0.  0.2 0. ]\n",
      "  [0.  0.  0.2 0. ]]\n",
      "\n",
      " ...\n",
      "\n",
      " [[0.2 0.  0.  0. ]\n",
      "  [0.  0.  0.  0.2]\n",
      "  [0.  0.  0.2 0. ]\n",
      "  [0.  0.2 0.  0. ]\n",
      "  [0.  0.  0.  0.2]]\n",
      "\n",
      " [[0.  0.  0.  0.2]\n",
      "  [0.  0.  0.2 0. ]\n",
      "  [0.  0.2 0.  0. ]\n",
      "  [0.2 0.  0.  0. ]\n",
      "  [0.  0.  0.  0.2]]\n",
      "\n",
      " [[0.  0.  0.  0.2]\n",
      "  [0.  0.  0.  0.2]\n",
      "  [0.  0.  0.  0.2]\n",
      "  [0.  0.  0.  0.2]\n",
      "  [0.  0.  0.  0.2]]]\n"
     ]
    }
   ],
   "source": [
    "temp = loadCodebook(f'{data_path}/codebook.csv')\n",
    "codebook = temp['codebook']\n",
    "target_names = temp['target_names']\n",
    "codebook = codebook / codebook.sum(axis=(1,2), keepdims=True)"
   ]
  },
  {
   "cell_type": "code",
   "execution_count": null,
   "metadata": {
    "ExecuteTime": {
     "end_time": "2021-02-25T14:31:59.704592Z",
     "start_time": "2021-02-25T14:31:54.571602Z"
    }
   },
   "outputs": [],
   "source": [
    "from PIL import Image\n",
    "\n",
    "rounds = 5\n",
    "channels = 4 # A, C, G, T\n",
    "tile_height, tile_width = 512, 512\n",
    "ntile_y, ntile_x = 20, 20\n",
    "\n",
    "data_shape = (rounds, channels, ntile_y*tile_height, ntile_x*tile_width)\n",
    "image_data = np.zeros(data_shape, dtype='float32')\n",
    "\n",
    "channels = ['A', 'C', 'G', 'T']\n",
    "# Load images and tile\n",
    "for r in range(rounds):\n",
    "    print (\"Loading round {r}\".format(r=r+1))\n",
    "    for c in range(len(channels)):\n",
    "        print (r,c)\n",
    "        filepath = f'{data_path}/Round{r+1}/{channels[c]}.tif'\n",
    "        im = np.array(Image.open(filepath), dtype='float32')\n",
    "        pad_x, pad_y = ntile_x*tile_width-im.shape[0], ntile_y*tile_height-im.shape[1]\n",
    "        im = np.pad(im, [(0,pad_x),(0,pad_y)], 'constant', constant_values=0)\n",
    "        image_data[r,c] = im   \n",
    "\n",
    "# Load gene names and codebook\n",
    "temp = loadCodebook(f'{data_path}/codebook.csv')\n",
    "codebook = temp['codebook']\n",
    "target_names = temp['target_names']\n",
    "target_letters = temp['target_letters']\n",
    "codebook = codebook / codebook.sum(axis=(1,2), keepdims=True)"
   ]
  },
  {
   "cell_type": "markdown",
   "metadata": {},
   "source": [
    "We need to set appropriate variables before we can run ISTDECO.\n",
    "\n",
    "#### Notation\n",
    "- $r$ Number of imaging rounds\n",
    "- $c$ Number of channels\n",
    "- $m$ Number of codes in codebook\n",
    "- $h$ Image height\n",
    "- $w$ Image width\n",
    "- $\\sigma_{psf}$ Standard deviation of the Gaussians describing the spatial shape of the spots\n",
    "- $Y \\in \\mathbb{R}_+^{r\\times c \\times h \\times w}$ Image data\n",
    "- $D \\in \\mathbb{R}_+^{m \\times r\\times c}$ Codebook (Combinatorial labels)\n",
    "- $b \\in \\mathbb{R}_+^{m \\times r\\times c}$ Background"
   ]
  },
  {
   "cell_type": "code",
   "execution_count": 5,
   "metadata": {
    "ExecuteTime": {
     "end_time": "2021-02-25T14:31:59.709120Z",
     "start_time": "2021-02-25T14:31:59.705929Z"
    }
   },
   "outputs": [],
   "source": [
    "r = 5\n",
    "c = 4\n",
    "m = codebook.shape[0]\n",
    "h = 512\n",
    "w = 512\n",
    "sigma_psf = 1.\n",
    "D = codebook\n",
    "Y = image_data\n",
    "\n",
    "# The images are already pre-processed\n",
    "# with a baseline removal, hence we \n",
    "# put the baseline to an small-nonzero\n",
    "# number. Mainly to avoid divisions by\n",
    "# zero in the algorithm.\n",
    "b = 1e-5\n",
    "\n",
    "# Standard deviation of the point-spread-function\n",
    "psf_std = 1.\n",
    "\n",
    "# Number of iterations\n",
    "niter = 3\n",
    "\n",
    "# Suppression radius\n",
    "local_max_radius = 1\n",
    "\n",
    "# We want to use GPU\n",
    "device = 'cpu'\n",
    "\n",
    "# The images are too large to fit all on the GPU at once,\n",
    "# hence we need to tile the images.\n",
    "tiles = [(tiley,tilex) for tiley in range(ntile_y) for tilex in range(ntile_x)]"
   ]
  },
  {
   "cell_type": "markdown",
   "metadata": {},
   "source": [
    "## Decode dataset"
   ]
  },
  {
   "cell_type": "code",
   "execution_count": 6,
   "metadata": {
    "ExecuteTime": {
     "end_time": "2021-02-25T14:37:40.606766Z",
     "start_time": "2021-02-25T14:31:59.710941Z"
    }
   },
   "outputs": [
    {
     "name": "stderr",
     "output_type": "stream",
     "text": [
      "  4%|▍         | 18/400 [01:09<24:37,  3.87s/it]C:\\Users\\chrav452\\AppData\\Local\\Temp/ipykernel_10260/4290453298.py:28: RuntimeWarning: invalid value encountered in greater\n",
      "  code_id, y, x = np.where(np.logical_and(X>tau,Q>0.5))\n",
      "100%|██████████| 400/400 [26:49<00:00,  4.02s/it]\n"
     ]
    }
   ],
   "source": [
    "from tqdm import tqdm\n",
    "import pandas as pd\n",
    "from istdeco import ISTDeco\n",
    "\n",
    "results = pd.DataFrame()\n",
    "tau = np.percentile(image_data,99)\n",
    "\n",
    "# Loop over the tiles\n",
    "for iy, ix in tqdm(tiles):\n",
    "    \n",
    "    # Slice the image\n",
    "    sy = slice(iy*tile_height, (iy+1)*tile_height)\n",
    "    sx = slice(ix*tile_width, (ix+1)*tile_width)\n",
    "    \n",
    "    # Pick a tile\n",
    "    tile = image_data[:,:, sy, sx] \n",
    "    \n",
    "    # Create the model\n",
    "    model = ISTDeco(tile,codebook, (psf_std,psf_std), b=b).to(device)\n",
    "    \n",
    "    # Run for few iterations and pick out \n",
    "    # deconvolved images\n",
    "    X, Q, _ = model.run(niter=niter)\n",
    "    \n",
    "    # Pick out barcodes.\n",
    "    # 99th percentile might seem like a strict choice, but recall \n",
    "    # that the images are very sparse, especially X. \n",
    "    code_id, y, x = np.where(np.logical_and(X>tau,Q>0.5))\n",
    "        \n",
    "    intensity = X[code_id, y, x]\n",
    "    quality = Q[code_id, y, x]\n",
    "                                 \n",
    "    # Store in dataframe\n",
    "    df = pd.DataFrame(data={\n",
    "            'x': x.astype('float') + ix*tile_width, \n",
    "            'y': y.astype('float') + iy*tile_height,\n",
    "            'target_id': code_id + 1, # Add a one here so id match with the benchmark\n",
    "            'intensity': intensity, \n",
    "            'quality': quality,\n",
    "            'target_name': target_names[code_id],\n",
    "            'target_letters': target_letters[code_id]\n",
    "    })\n",
    "                                 \n",
    "    results = results.append(df)\n",
    "\n",
    "results.to_csv(csv_save_path)"
   ]
  },
  {
   "cell_type": "markdown",
   "metadata": {},
   "source": [
    "# View in TissUUmaps"
   ]
  },
  {
   "cell_type": "code",
   "execution_count": 2,
   "metadata": {},
   "outputs": [],
   "source": [
    "import os, json, csv\n",
    "\n",
    "rounds = 5\n",
    "channels = ['A', 'C', 'G', 'T']\n",
    "\n",
    "#results.to_csv(csv_save_path)\n",
    "with open(csv_save_path, \"r\") as f:\n",
    "    csvData = list(csv.DictReader(f))\n",
    "with open(csv_save_path.replace(\".csv\",\"_tmap.csv\"), 'w', newline='') as csvfile:\n",
    "    fieldnames = list(csvData[0].keys()) + [\"channels\",\"rounds\"]\n",
    "    writer = csv.DictWriter(csvfile, fieldnames=fieldnames)\n",
    "    writer.writeheader()\n",
    "    for line in csvData:\n",
    "        line[\"quality\"] = 2*(float(line[\"quality\"]) - 3.)\n",
    "        line[\"channels\"] = \";\".join([str(\"ACGT\".index(l)) for l in line[\"target_letters\"]])\n",
    "        line[\"rounds\"] = \";\".join([str(r) for r in range(rounds)])\n",
    "        writer.writerow(line)\n",
    "\n",
    "def getJsonProject(markerFile, layers):\n",
    "    return {\n",
    "        \"markerFiles\": [\n",
    "                    {\n",
    "                        \"path\": markerFile,\n",
    "                        \"title\": \"Download markers\",\"comment\": \"\",\n",
    "                        \"expectedCSV\": { \n",
    "                            \"group\": \"target_letters\", \"name\": \"target_name\", \"X_col\": \"x\", \"Y_col\": \"y\", \"key\": \"letters\",\"scale\":\"quality\"\n",
    "                        },\n",
    "                        \"autoLoad\": True\n",
    "                    }\n",
    "                ], \n",
    "        \"filters\": [\"Contrast\",\"Color\"],\n",
    "        \"compositeMode\": \"source-over\",\n",
    "        \"layers\": [\n",
    "            {\n",
    "                \"tileSource\": l + \".dzi\",\n",
    "                \"name\": \"{round}_{channel}\".format(round=os.path.dirname(l), channel=os.path.basename(l))\n",
    "            } for l in layers\n",
    "        ], \n",
    "        \"filename\": \"\",\n",
    "        \"plugins\": [\"Spot_Detection\"],\n",
    "        \"settings\": [\n",
    "            {\"module\":\"dataUtils\",\"function\":\"_autoLoadCSV\",\"value\":True},\n",
    "            {\"module\":\"glUtils\",\"function\":\"_globalMarkerScale\",\"value\":1},\n",
    "            {\"module\": \"markerUtils\",\"function\": \"_startMarkersOn\",\"value\": True}\n",
    "        ]\n",
    "    }\n",
    "\n",
    "layers = [\"Round{r}/{c}.tif\".format(r=r+1, c=c) for r in range(rounds) for c in channels + [\"DAPI\"]]\n",
    "jsonProject = getJsonProject(\"results_tmap.csv\", layers)\n",
    "projectFile = \"{dir}/project.tmap\".format(dir=data_path)\n",
    "with open(projectFile, \"w\") as f:\n",
    "    json.dump(jsonProject, f)"
   ]
  },
  {
   "cell_type": "code",
   "execution_count": 5,
   "metadata": {},
   "outputs": [
    {
     "data": {
      "text/html": [
       "<iframe src=\"http://localhost:5100/project.tmap?path=BIIFProjects\\MariaUlvmar2021-1\\data\\MU\\shared\" style=\"width: 100%; height: 700px; border: none\" id=\"tissUUmapsViewer_1\" allowfullscreen></iframe>"
      ],
      "text/plain": [
       "<IPython.core.display.HTML object>"
      ]
     },
     "metadata": {},
     "output_type": "display_data"
    }
   ],
   "source": [
    "import os\n",
    "import sys\n",
    "module_path = r\"C:\\Users\\chrav452\\Documents\\GitHub\\TissUUmaps\\flask\"\n",
    "if module_path not in sys.path:\n",
    "    sys.path.append(module_path)\n",
    "\n",
    "from tissuumaps import jupyter as tj\n",
    "\n",
    "tj.opentmap(projectFile)"
   ]
  },
  {
   "cell_type": "code",
   "execution_count": 4,
   "metadata": {},
   "outputs": [
    {
     "data": {
      "text/html": [
       "<iframe src=\"http://localhost:5018/project.tmap\" style=\"width: 100%; height: 700px; border: none\" id=\"tissUUmapsViewer_1\"></iframe>"
      ],
      "text/plain": [
       "<IPython.core.display.HTML object>"
      ]
     },
     "metadata": {},
     "output_type": "display_data"
    }
   ],
   "source": [
    "viewer = tmapp.viewer(\"project.tmap\")"
   ]
  },
  {
   "cell_type": "markdown",
   "metadata": {},
   "source": [
    "# Plot results\n",
    "In the codebook we added nine additional \"fake\", or \"non-targeted\" codes. We can use these codes to assess the quality of the decoded barcodes."
   ]
  },
  {
   "cell_type": "code",
   "execution_count": 27,
   "metadata": {
    "ExecuteTime": {
     "end_time": "2021-02-25T14:37:45.744489Z",
     "start_time": "2021-02-25T14:37:40.609102Z"
    },
    "scrolled": true
   },
   "outputs": [
    {
     "data": {
      "text/plain": [
       "<matplotlib.legend.Legend at 0x13f9d1a8f40>"
      ]
     },
     "execution_count": 27,
     "metadata": {},
     "output_type": "execute_result"
    },
    {
     "data": {
      "image/png": "[encoded data removed]",
      "text/plain": [
       "<Figure size 720x360 with 2 Axes>"
      ]
     },
     "metadata": {
      "needs_background": "light"
     },
     "output_type": "display_data"
    }
   ],
   "source": [
    "import matplotlib.pyplot as plt\n",
    "# Name of nontargeted genes\n",
    "non_targeted_names = [ f'blank-{i+1}' for i in range(9)]\n",
    "\n",
    "# Load the raw decoding from the csv\n",
    "results = pd.read_csv(csv_save_path)\n",
    "\n",
    "# Split the dataframe into targeted and non targeted detections\n",
    "ntargeted = results[results['target_name'].isin(non_targeted_names)]\n",
    "targeted = results[~results['target_name'].isin(non_targeted_names)]\n",
    "\n",
    "# Sort data by intensity and quality\n",
    "ntargeted_quality = ntargeted.sort_values('quality',ascending=False)\n",
    "ntargeted_intensity = ntargeted.sort_values('intensity',ascending=False)\n",
    "targeted_quality = targeted.sort_values('quality',ascending=False)\n",
    "targeted_intensity = targeted.sort_values('intensity',ascending=False)\n",
    "\n",
    "# Plot curves\n",
    "plt.figure(figsize=(10,5))\n",
    "plt.subplot(121)\n",
    "plt.semilogy(targeted_quality['quality'].to_numpy(), \\\n",
    "             np.arange(0,targeted_quality.shape[0]), \\\n",
    "             label='Targeted')\n",
    "\n",
    "plt.semilogy(ntargeted_quality['quality'].to_numpy(), \\\n",
    "             np.arange(0,ntargeted_quality.shape[0]), \\\n",
    "             label='Non-targeted')\n",
    "plt.xlabel('Quality score')\n",
    "plt.ylabel('Number of detections')\n",
    "plt.legend()\n",
    "\n",
    "plt.subplot(122)\n",
    "plt.semilogy(targeted_intensity['intensity'].to_numpy(), \\\n",
    "             np.arange(0,targeted_quality.shape[0]), \\\n",
    "             label='Targeted')\n",
    "\n",
    "plt.semilogy(ntargeted_intensity['intensity'].to_numpy(), \\\n",
    "             np.arange(0,ntargeted_quality.shape[0]), \\\n",
    "             label='Non-targeted')\n",
    "plt.xlabel('Intensity')\n",
    "plt.ylabel('Number of detections')\n",
    "plt.legend()"
   ]
  },
  {
   "cell_type": "markdown",
   "metadata": {},
   "source": [
    "From the above images we note that a quality threshold set to 0.6 seems to filter out many of the non-targeted detections while still keeping many the targeted detections. Let's use this threshold and check correlation with benchmark computed using pipeline in [1]."
   ]
  },
  {
   "cell_type": "code",
   "execution_count": 28,
   "metadata": {
    "ExecuteTime": {
     "end_time": "2021-02-25T14:51:58.549251Z",
     "start_time": "2021-02-25T14:51:57.926805Z"
    }
   },
   "outputs": [
    {
     "ename": "IndexError",
     "evalue": "single positional indexer is out-of-bounds",
     "output_type": "error",
     "traceback": [
      "\u001b[1;31m---------------------------------------------------------------------------\u001b[0m",
      "\u001b[1;31mIndexError\u001b[0m                                Traceback (most recent call last)",
      "\u001b[1;32m~\\AppData\\Local\\Temp/ipykernel_19304/211107153.py\u001b[0m in \u001b[0;36m<module>\u001b[1;34m\u001b[0m\n\u001b[0;32m     14\u001b[0m \u001b[1;31m# Filter detections such that less than n non targeted barcodes are detected\u001b[0m\u001b[1;33m\u001b[0m\u001b[1;33m\u001b[0m\u001b[1;33m\u001b[0m\u001b[0m\n\u001b[0;32m     15\u001b[0m \u001b[0mn\u001b[0m \u001b[1;33m=\u001b[0m \u001b[1;36m10\u001b[0m\u001b[1;33m\u001b[0m\u001b[1;33m\u001b[0m\u001b[0m\n\u001b[1;32m---> 16\u001b[1;33m \u001b[0mthreshold\u001b[0m \u001b[1;33m=\u001b[0m \u001b[0mntargeted\u001b[0m\u001b[1;33m[\u001b[0m\u001b[1;34m'quality'\u001b[0m\u001b[1;33m]\u001b[0m\u001b[1;33m.\u001b[0m\u001b[0mnlargest\u001b[0m\u001b[1;33m(\u001b[0m\u001b[0mn\u001b[0m\u001b[1;33m)\u001b[0m\u001b[1;33m.\u001b[0m\u001b[0miloc\u001b[0m\u001b[1;33m[\u001b[0m\u001b[1;33m-\u001b[0m\u001b[1;36m1\u001b[0m\u001b[1;33m]\u001b[0m\u001b[1;33m\u001b[0m\u001b[1;33m\u001b[0m\u001b[0m\n\u001b[0m\u001b[0;32m     17\u001b[0m \u001b[0mresult_counts\u001b[0m \u001b[1;33m=\u001b[0m \u001b[0mcount_targets\u001b[0m\u001b[1;33m(\u001b[0m\u001b[0mresults\u001b[0m\u001b[1;33m[\u001b[0m\u001b[0mresults\u001b[0m\u001b[1;33m[\u001b[0m\u001b[1;34m'quality'\u001b[0m\u001b[1;33m]\u001b[0m \u001b[1;33m>\u001b[0m \u001b[0mthreshold\u001b[0m\u001b[1;33m]\u001b[0m\u001b[1;33m[\u001b[0m\u001b[1;34m'target_id'\u001b[0m\u001b[1;33m]\u001b[0m\u001b[1;33m)\u001b[0m\u001b[1;33m\u001b[0m\u001b[1;33m\u001b[0m\u001b[0m\n\u001b[0;32m     18\u001b[0m \u001b[1;33m\u001b[0m\u001b[0m\n",
      "\u001b[1;32m~\\Anaconda3\\envs\\MariaUlvmar2020-1\\lib\\site-packages\\pandas\\core\\indexing.py\u001b[0m in \u001b[0;36m__getitem__\u001b[1;34m(self, key)\u001b[0m\n\u001b[0;32m    929\u001b[0m \u001b[1;33m\u001b[0m\u001b[0m\n\u001b[0;32m    930\u001b[0m             \u001b[0mmaybe_callable\u001b[0m \u001b[1;33m=\u001b[0m \u001b[0mcom\u001b[0m\u001b[1;33m.\u001b[0m\u001b[0mapply_if_callable\u001b[0m\u001b[1;33m(\u001b[0m\u001b[0mkey\u001b[0m\u001b[1;33m,\u001b[0m \u001b[0mself\u001b[0m\u001b[1;33m.\u001b[0m\u001b[0mobj\u001b[0m\u001b[1;33m)\u001b[0m\u001b[1;33m\u001b[0m\u001b[1;33m\u001b[0m\u001b[0m\n\u001b[1;32m--> 931\u001b[1;33m             \u001b[1;32mreturn\u001b[0m \u001b[0mself\u001b[0m\u001b[1;33m.\u001b[0m\u001b[0m_getitem_axis\u001b[0m\u001b[1;33m(\u001b[0m\u001b[0mmaybe_callable\u001b[0m\u001b[1;33m,\u001b[0m \u001b[0maxis\u001b[0m\u001b[1;33m=\u001b[0m\u001b[0maxis\u001b[0m\u001b[1;33m)\u001b[0m\u001b[1;33m\u001b[0m\u001b[1;33m\u001b[0m\u001b[0m\n\u001b[0m\u001b[0;32m    932\u001b[0m \u001b[1;33m\u001b[0m\u001b[0m\n\u001b[0;32m    933\u001b[0m     \u001b[1;32mdef\u001b[0m \u001b[0m_is_scalar_access\u001b[0m\u001b[1;33m(\u001b[0m\u001b[0mself\u001b[0m\u001b[1;33m,\u001b[0m \u001b[0mkey\u001b[0m\u001b[1;33m:\u001b[0m \u001b[0mtuple\u001b[0m\u001b[1;33m)\u001b[0m\u001b[1;33m:\u001b[0m\u001b[1;33m\u001b[0m\u001b[1;33m\u001b[0m\u001b[0m\n",
      "\u001b[1;32m~\\Anaconda3\\envs\\MariaUlvmar2020-1\\lib\\site-packages\\pandas\\core\\indexing.py\u001b[0m in \u001b[0;36m_getitem_axis\u001b[1;34m(self, key, axis)\u001b[0m\n\u001b[0;32m   1564\u001b[0m \u001b[1;33m\u001b[0m\u001b[0m\n\u001b[0;32m   1565\u001b[0m             \u001b[1;31m# validate the location\u001b[0m\u001b[1;33m\u001b[0m\u001b[1;33m\u001b[0m\u001b[1;33m\u001b[0m\u001b[0m\n\u001b[1;32m-> 1566\u001b[1;33m             \u001b[0mself\u001b[0m\u001b[1;33m.\u001b[0m\u001b[0m_validate_integer\u001b[0m\u001b[1;33m(\u001b[0m\u001b[0mkey\u001b[0m\u001b[1;33m,\u001b[0m \u001b[0maxis\u001b[0m\u001b[1;33m)\u001b[0m\u001b[1;33m\u001b[0m\u001b[1;33m\u001b[0m\u001b[0m\n\u001b[0m\u001b[0;32m   1567\u001b[0m \u001b[1;33m\u001b[0m\u001b[0m\n\u001b[0;32m   1568\u001b[0m             \u001b[1;32mreturn\u001b[0m \u001b[0mself\u001b[0m\u001b[1;33m.\u001b[0m\u001b[0mobj\u001b[0m\u001b[1;33m.\u001b[0m\u001b[0m_ixs\u001b[0m\u001b[1;33m(\u001b[0m\u001b[0mkey\u001b[0m\u001b[1;33m,\u001b[0m \u001b[0maxis\u001b[0m\u001b[1;33m=\u001b[0m\u001b[0maxis\u001b[0m\u001b[1;33m)\u001b[0m\u001b[1;33m\u001b[0m\u001b[1;33m\u001b[0m\u001b[0m\n",
      "\u001b[1;32m~\\Anaconda3\\envs\\MariaUlvmar2020-1\\lib\\site-packages\\pandas\\core\\indexing.py\u001b[0m in \u001b[0;36m_validate_integer\u001b[1;34m(self, key, axis)\u001b[0m\n\u001b[0;32m   1498\u001b[0m         \u001b[0mlen_axis\u001b[0m \u001b[1;33m=\u001b[0m \u001b[0mlen\u001b[0m\u001b[1;33m(\u001b[0m\u001b[0mself\u001b[0m\u001b[1;33m.\u001b[0m\u001b[0mobj\u001b[0m\u001b[1;33m.\u001b[0m\u001b[0m_get_axis\u001b[0m\u001b[1;33m(\u001b[0m\u001b[0maxis\u001b[0m\u001b[1;33m)\u001b[0m\u001b[1;33m)\u001b[0m\u001b[1;33m\u001b[0m\u001b[1;33m\u001b[0m\u001b[0m\n\u001b[0;32m   1499\u001b[0m         \u001b[1;32mif\u001b[0m \u001b[0mkey\u001b[0m \u001b[1;33m>=\u001b[0m \u001b[0mlen_axis\u001b[0m \u001b[1;32mor\u001b[0m \u001b[0mkey\u001b[0m \u001b[1;33m<\u001b[0m \u001b[1;33m-\u001b[0m\u001b[0mlen_axis\u001b[0m\u001b[1;33m:\u001b[0m\u001b[1;33m\u001b[0m\u001b[1;33m\u001b[0m\u001b[0m\n\u001b[1;32m-> 1500\u001b[1;33m             \u001b[1;32mraise\u001b[0m \u001b[0mIndexError\u001b[0m\u001b[1;33m(\u001b[0m\u001b[1;34m\"single positional indexer is out-of-bounds\"\u001b[0m\u001b[1;33m)\u001b[0m\u001b[1;33m\u001b[0m\u001b[1;33m\u001b[0m\u001b[0m\n\u001b[0m\u001b[0;32m   1501\u001b[0m \u001b[1;33m\u001b[0m\u001b[0m\n\u001b[0;32m   1502\u001b[0m     \u001b[1;31m# -------------------------------------------------------------------\u001b[0m\u001b[1;33m\u001b[0m\u001b[1;33m\u001b[0m\u001b[1;33m\u001b[0m\u001b[0m\n",
      "\u001b[1;31mIndexError\u001b[0m: single positional indexer is out-of-bounds"
     ]
    }
   ],
   "source": [
    "n_genes = 170\n",
    "def count_targets(target_ids):\n",
    "    return np.array([np.sum(target_ids == i+1) for i in range(n_genes)])\n",
    "        \n",
    "# Load benchmark genes\n",
    "benchmark = pd.read_csv('benchmark/iss_benchmark.csv')\n",
    "    \n",
    "# remove barcodes near the border of the image\n",
    "fov = [100,100,9215-200,5120-200]\n",
    "results = results[ (results['x'] >= fov[0]) & (results['x'] <= fov[2])  & (results['y'] >= fov[1]) & (results['y'] <= fov[3])]\n",
    "benchmark = benchmark[ (benchmark['x'] >= fov[0]) & (benchmark['x'] <= fov[2])  & (benchmark['y'] >= fov[1]) & (benchmark['y'] <= fov[3])]\n",
    "\n",
    "\n",
    "# Filter detections such that less than n non targeted barcodes are detected\n",
    "n = 10\n",
    "threshold = ntargeted['quality'].nlargest(n).iloc[-1]\n",
    "result_counts = count_targets(results[results['quality'] > threshold]['target_id'])\n",
    "\n",
    "# Load the benchmark data and filter so that less than n non targeted barcodes are detected\n",
    "threshold = benchmark[benchmark['is_non_targeted'] == 1]['quality'].nlargest(n).iloc[-1]\n",
    "benchmark_counts = count_targets(benchmark[benchmark['quality'] > threshold]['target_id'])\n",
    "\n",
    "\n",
    "# Plot the count of the different detected barcodes\n",
    "tmp = np.vstack((result_counts, benchmark_counts)).T\n",
    "r = np.corrcoef(tmp[:, 1], tmp[:, 0])[0, 1]\n",
    "x = np.linspace(50, 25000)\n",
    "f, ax = plt.subplots(figsize=(6, 6))\n",
    "ax.scatter(tmp[:, 1], tmp[:, 0], 50, zorder=2)\n",
    "ax.plot(x, x, '-k', zorder=1)\n",
    "\n",
    "plt.xlabel('Benchmark barcode type counts')\n",
    "plt.ylabel('ISTDECO barcode type counts')\n",
    "plt.title(f'r = {r}')"
   ]
  },
  {
   "cell_type": "code",
   "execution_count": 10,
   "metadata": {},
   "outputs": [
    {
     "name": "stdout",
     "output_type": "stream",
     "text": [
      "[0 0 0] [254 255 255]\n"
     ]
    }
   ],
   "source": [
    "import pandas as pd\n",
    "import numpy as np\n",
    "import umap\n",
    "\n",
    "# Where to load the images and codebook from\n",
    "data_path = r'F:\\BIIFProjects\\MariaUlvmar2021-1\\data\\MU\\shared' \n",
    "\n",
    "# Where to save .csv with results\n",
    "csv_save_path = data_path + r'\\results.csv'\n",
    "\n",
    "def rgb_to_hex(r, g, b):\n",
    "  return ('#{:X}{:X}{:X}').format(r, g, b)\n",
    "\n",
    "tile_height, tile_width = 512, 512\n",
    "ntile_y, ntile_x = 20, 20\n",
    "\n",
    "df = pd.DataFrame(csvData)\n",
    "# Convert x and y columns to numeric\n",
    "df[\"x\"], df[\"y\"] = pd.to_numeric(df[\"x\"]), pd.to_numeric(df[\"y\"])\n",
    "\n",
    "# Remove TTTTT\n",
    "df = df[df.target_name != \"TTTTT\"]\n",
    "\n",
    "output_dict = []\n",
    "\n",
    "for i in range(50,tile_width * ntile_x, 100):\n",
    "    for j in range(50,tile_height * ntile_y, 100):\n",
    "        df['dist'] = np.sqrt( (df.x-i)**2 + (df.y-j)**2)\n",
    "        # ignore if not enough markers in close neighborhood \n",
    "        if len(df.loc[df['dist'] < 200]) <= 15 or len(df.loc[df['dist'] < 50]) <= 0:\n",
    "            continue\n",
    "        # Get all markers closer in a 300 pixels neighborhood\n",
    "        point_dict = dict(df.loc[df['dist'] < 300]['target_id'].value_counts())\n",
    "        # Keep x and y info\n",
    "        point_dict[\"x\"],point_dict[\"y\"] = i, j\n",
    "        output_dict.append(point_dict)\n",
    "\n",
    "# Convert to dataframe and add missing 0\n",
    "df_out_xy = pd.DataFrame(output_dict).fillna(0)\n",
    "\n",
    "reducer = umap.UMAP(n_components=3)\n",
    "df_out = df_out_xy.drop(\"x\",axis=1)\n",
    "df_out = df_out.drop(\"y\",axis=1)\n",
    "\n",
    "embedding = reducer.fit_transform(df_out)\n",
    "embedding.shape\n",
    "embedding = embedding-embedding.min(axis=0)\n",
    "normalized_embedding=255*embedding/embedding.max(axis=0)\n",
    "normalized_embedding = normalized_embedding.astype(int)\n",
    "print (normalized_embedding.min(axis=0),normalized_embedding.max(axis=0))\n",
    "n=0\n",
    "final_output = []\n",
    "for ((r,g,b),row) in zip(normalized_embedding, df_out_xy.to_dict(orient=\"records\")):\n",
    "    dictionary = {\n",
    "        \"x\":row[\"x\"],\"y\":row[\"y\"],\"r\":r,\"g\":g,\"b\":b,\"umap\":rgb_to_hex(r, g, b),\"barcode\":\"All\"\n",
    "    }\n",
    "    final_output.append(dictionary)\n",
    "    #break\n",
    "\n",
    "final_df = pd.DataFrame(final_output)\n",
    "final_df.to_csv(csv_save_path.replace(\".csv\",\"_umap_TTTTT.csv\"))"
   ]
  },
  {
   "cell_type": "markdown",
   "metadata": {},
   "source": [
    "# References\n",
    "[1] *Qian, Xiaoyan, et al. \"Probabilistic cell typing enables fine mapping of closely related cell types in situ.\" Nature methods 17.1 (2020): 101-106.*\n",
    "\n",
    "[2] Axel Andersson, Ferran Diego, Fred A. Hamprecht, & Carolina Wählby. (2021). In Situ Sequencing data used in \"ISTDECO: In Situ Transcriptomics Decoding by Deconvolution\" [Data set]. Zenodo. http://doi.org/10.5281/zenodo.4560687"
   ]
  },
  {
   "cell_type": "code",
   "execution_count": 69,
   "metadata": {},
   "outputs": [
    {
     "name": "stdout",
     "output_type": "stream",
     "text": [
      "F:\\BIIFProjects\\MariaUlvmar2021-1\\data\\MU\n",
      "F:\\BIIFProjects\\MariaUlvmar2021-1\\data\\MU\n"
     ]
    },
    {
     "data": {
      "text/html": [
       "<iframe src=\"http://localhost:5015/project.tmap\" style=\"width: 100%; height: 700px; border: none\" id=\"tissUUmapsViewer_1\"></iframe>"
      ],
      "text/plain": [
       "<IPython.core.display.HTML object>"
      ]
     },
     "metadata": {},
     "output_type": "display_data"
    }
   ],
   "source": []
  }
 ],
 "metadata": {
  "interpreter": {
   "hash": "4e8941e6c96d87015fb345beab1a9ce6ed77d06e3fa10987e64717dd87244478"
  },
  "kernelspec": {
   "display_name": "Python 3.8.12 64-bit ('tmap_hackathon_flask': conda)",
   "name": "python3"
  },
  "language_info": {
   "codemirror_mode": {
    "name": "ipython",
    "version": 3
   },
   "file_extension": ".py",
   "mimetype": "text/x-python",
   "name": "python",
   "nbconvert_exporter": "python",
   "pygments_lexer": "ipython3",
   "version": "3.8.12"
  }
 },
 "nbformat": 4,
 "nbformat_minor": 2
}
