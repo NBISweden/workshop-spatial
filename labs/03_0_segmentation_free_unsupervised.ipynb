{
 "cells": [
  {
   "cell_type": "markdown",
   "id": "4ce5702e",
   "metadata": {},
   "source": [
    "# Tutorial 'QC, topographical analysis and segmentaton-free of Spot-based transcriptomics data'\n",
    "\n",
    "This is the fast lane of the tutorial. Just start a session and click 'run the whole notebook' on the top to start executing.\n",
    "\n",
    "UMAP calculation takes a few minutes, which we can use in the main notebook to get familiar with the general exploratory workflow."
   ]
  },
  {
   "cell_type": "code",
   "execution_count": null,
   "id": "9358334f",
   "metadata": {},
   "outputs": [],
   "source": [
    "# widens the screen:\n",
    "\n",
    "%load_ext autoreload\n",
    "%autoreload 2\n",
    "\n",
    "from IPython.display import display, HTML\n",
    "display(HTML(\"<style>.container { width:95% !important; }</style>\"))\n",
    "import plotly.offline as pyo\n",
    "pyo.init_notebook_mode(connected=True)  \n",
    "import sys\n",
    "import os\n",
    "\n",
    "sys.path.append(os.path.join(os.path.abspath('.'),'../..'))"
   ]
  },
  {
   "cell_type": "code",
   "execution_count": null,
   "id": "b553614e",
   "metadata": {},
   "outputs": [],
   "source": [
    "# imports, define a handy figure function:\n",
    "\n",
    "import plankton.plankton as pl\n",
    "import matplotlib.pyplot as plt\n",
    "import numpy as np\n",
    "import pandas as pd\n",
    "import scanpy as sc\n",
    "\n",
    "def figure(width=8,height=8):\n",
    "    plt.figure(figsize=(width,height))\n"
   ]
  },
  {
   "cell_type": "code",
   "execution_count": null,
   "id": "3199a1f3",
   "metadata": {},
   "outputs": [],
   "source": [
    "# load background stain:\n",
    "\n",
    "\n",
    "um_p_px=0.325\n",
    "\n",
    "coordinates = pd.read_csv('../data/in_situ_sequencing/S2T1_pcw6.csv')\n",
    "bg = -plt.imread('../data/in_situ_sequencing/background.jpg').mean(-1)\n",
    "bg = (bg-bg.min())/(bg.max()-bg.min())\n",
    "bg_map = pl.PixelMap(pixel_data=bg,\n",
    "                     cmap='Greys',\n",
    "                     px_p_um = 0.504/um_p_px)\n",
    "del bg"
   ]
  },
  {
   "cell_type": "code",
   "execution_count": null,
   "id": "631b7998",
   "metadata": {},
   "outputs": [],
   "source": [
    "rands = np.random.rand(0,2,)*np.array([coordinates.Global_x_pos.values.max(),coordinates.Global_y_pos.values.max()])\n",
    "\n",
    "x = np.hstack([coordinates.Global_x_pos.values,rands[:,0]])\n",
    "y = np.hstack([coordinates.Global_y_pos.values,rands[:,1]])\n",
    "\n",
    "rand_genes = coordinates.Gene.values[np.random.randint(len(coordinates.Gene.unique()), size=(rands.shape[0]))]\n",
    "g = np.hstack([coordinates.Gene.values,rand_genes])"
   ]
  },
  {
   "cell_type": "code",
   "execution_count": null,
   "id": "70a257b4",
   "metadata": {},
   "outputs": [],
   "source": [
    "sdata = pl.SpatialData(x_coordinates=x*um_p_px,\n",
    "                       y_coordinates=y*um_p_px,\n",
    "                       genes=g,\n",
    "                       pixel_maps={'DAPI':bg_map}\n",
    "                      )"
   ]
  },
  {
   "cell_type": "code",
   "execution_count": null,
   "id": "64ec9268",
   "metadata": {},
   "outputs": [],
   "source": [
    "# sdata['noise']=False\n",
    "# sdata.loc[len(sdata)-rands.shape[0]:,'noise']=True\n",
    "\n",
    "sdata = sdata[sdata.stats.progressive_sample(1.05)].spatial[100:2800,1000:]"
   ]
  },
  {
   "cell_type": "code",
   "execution_count": null,
   "id": "79e6423d",
   "metadata": {},
   "outputs": [],
   "source": [
    "# Parameterization for data cleaning/artefact removal:`\n",
    "\n",
    "#bw 100: segmentation\n",
    "\n",
    "import time\n",
    "\n",
    "knn_neighbors=100\n",
    "bandwidth=30\n",
    "n_neighbors=60\n",
    "metric='euclidean'\n",
    "min_dist=0.02\n",
    "random_state=0\n",
    "zero_weight=0.0\n",
    "n_ica_components=14\n",
    "\n",
    "_=sdata.graph.update_knn(n_neighbors=knn_neighbors)\n",
    "\n",
    "\n",
    "t = time.perf_counter()\n",
    "sdata.graph.run_umap(bandwidth=bandwidth,n_neighbors=n_neighbors, min_dist=min_dist, metric=metric, random_state=random_state,zero_weight=zero_weight,cutoff=n_ica_components)\n",
    "t = (time.perf_counter()-t)\n",
    "print(t)"
   ]
  },
  {
   "cell_type": "markdown",
   "id": "929d21a5",
   "metadata": {},
   "source": [
    "### Saving:\n",
    "\n",
    "The save function saves the sdata object with all its dependencies:"
   ]
  },
  {
   "cell_type": "code",
   "execution_count": null,
   "id": "f243ae85",
   "metadata": {},
   "outputs": [],
   "source": [
    "# Save the calculated umap:\n",
    "\n",
    "# sdata.save('tutorial-umap.pl')\n",
    "# sdata = pl.load('tutorial-umap.pl')"
   ]
  },
  {
   "cell_type": "markdown",
   "id": "e6605dbf",
   "metadata": {},
   "source": [
    "### UMAP overview:\n",
    "\n",
    "We can plot the UMAP embedding and the in-situ coordinates at the same time with identical coloration:"
   ]
  },
  {
   "cell_type": "code",
   "execution_count": null,
   "id": "533b0ad5",
   "metadata": {},
   "outputs": [],
   "source": [
    "figure(20,15)\n",
    "\n",
    "sdata.graph.map_and_umap(alpha=0.3,c=sdata.graph.umap_0)\n",
    "plt.suptitle(f\"nbrs:{n_neighbors}-cutoff:{n_ica_components}-bw:{bandwidth}-t:{int(t)}\")"
   ]
  },
  {
   "cell_type": "code",
   "execution_count": null,
   "id": "2b7ca007",
   "metadata": {},
   "outputs": [],
   "source": [
    "assert False\n",
    "\n",
    "# stop execution for now : P"
   ]
  },
  {
   "cell_type": "code",
   "execution_count": null,
   "id": "ed75509f",
   "metadata": {},
   "outputs": [],
   "source": [
    "sdata.var"
   ]
  },
  {
   "cell_type": "markdown",
   "id": "f71edfa8",
   "metadata": {},
   "source": [
    "### Defining clusters in embedding space:\n",
    "\n",
    "We can use an interactive javascript-based function to investigate a combined representation of the data in physical space and in local-gene-composition space.\n",
    "\n",
    "Use the function to define: \n",
    "\n",
    "- A background noise signal\n",
    "- Two major epithelial clusters (called epithelial_central/epithelial_distal)\n",
    "- The mesothelium that encapsulates the sample (called mesothelial)\n",
    "- Two clusters of mesothelium encapsulating the ducts (called mesothelial_duct_centra/mesothelial_duct_distal)\n",
    "- Two clusters of the remaining tissue (called submucosa_central/submucosa_distal)"
   ]
  },
  {
   "cell_type": "code",
   "execution_count": null,
   "id": "7635f875",
   "metadata": {
    "scrolled": false
   },
   "outputs": [],
   "source": [
    "# Use the javascript renderer to define tissue clusters:\n",
    "\n",
    "# -bg_noise\n",
    "# -epihtelial_central\n",
    "# -epithelial_distal\n",
    "# -mesothelial\n",
    "# -mesotheloal_duct_central\n",
    "# -mesotheloal_duct_distal\n",
    "# -submucosa_central\n",
    "# -submucosa_distal\n",
    "\n",
    "\n",
    "sdata.graph.umap_js()"
   ]
  },
  {
   "cell_type": "code",
   "execution_count": null,
   "id": "0ee2dabf",
   "metadata": {},
   "outputs": [],
   "source": [
    "sdata.graph.umap"
   ]
  },
  {
   "cell_type": "code",
   "execution_count": null,
   "id": "d7ccd50e",
   "metadata": {},
   "outputs": [],
   "source": [
    "# sdata.save('tissue_clusters.pl')\n",
    "# sdata = pl.load('tissue_clusters.pl')"
   ]
  },
  {
   "cell_type": "markdown",
   "id": "dde78b15",
   "metadata": {},
   "source": [
    "### Plot the cleaned signal:\n",
    "\n",
    "The tilde operator inverts the boolean 'bg_noise' column."
   ]
  },
  {
   "cell_type": "code",
   "execution_count": null,
   "id": "28d9f0ef",
   "metadata": {},
   "outputs": [],
   "source": [
    "figure()\n",
    "\n",
    "sdata[~sdata.bg_noise].scatter()"
   ]
  },
  {
   "cell_type": "markdown",
   "id": "8b470190",
   "metadata": {},
   "source": [
    "Environment noise can actually be an interesting QC indicator: In a way, it introduces a lower bound of the noise we can expect to exist throughout the sample.\n",
    "\n",
    "A way to visualize the noise composition is to plot it against the observed signal:"
   ]
  },
  {
   "cell_type": "code",
   "execution_count": null,
   "id": "be864ec9",
   "metadata": {},
   "outputs": [],
   "source": [
    "from plankton.utils import hbar_compare\n",
    "\n",
    "\n",
    "figure(6,10)\n",
    "hbar_compare(sdata[~sdata.bg_noise].stats,sdata[sdata.bg_noise].stats,['signal','noise'])"
   ]
  },
  {
   "cell_type": "code",
   "execution_count": null,
   "id": "44d79d56",
   "metadata": {},
   "outputs": [],
   "source": [
    "count_ratios_noise = sdata[sdata.bg_noise].counts/sdata[~sdata.bg_noise].counts\n",
    "\n",
    "figure(25,5)\n",
    "count_ratios_noise.sort_values().plot.bar()\n",
    "plt.title('Noise-to-count ratio:')"
   ]
  },
  {
   "cell_type": "markdown",
   "id": "06dd0b99",
   "metadata": {},
   "source": [
    "The next plot shows the six 'noisiest genes plotted on top of DAPI:"
   ]
  },
  {
   "cell_type": "code",
   "execution_count": null,
   "id": "4d652296",
   "metadata": {},
   "outputs": [],
   "source": [
    "figure(10,10)\n",
    "sdata[sdata.g.isin(count_ratios_noise.sort_values()[-6:].index)].scatter(legend=True,alpha=0.6)\n",
    "plt.title('Six genes with the highest noise-to-count-ratio:')"
   ]
  },
  {
   "cell_type": "markdown",
   "id": "0d7b55fb",
   "metadata": {},
   "source": [
    "### Remove noise\n",
    "\n",
    "The background noise signal is sliced from sdata and the column 'bg_noise' is removed:"
   ]
  },
  {
   "cell_type": "code",
   "execution_count": null,
   "id": "8feb1a6f",
   "metadata": {},
   "outputs": [],
   "source": [
    "# clean from noise\n",
    "sdata = sdata[~sdata.bg_noise]\n",
    "sdata = sdata.drop('bg_noise')"
   ]
  },
  {
   "cell_type": "code",
   "execution_count": null,
   "id": "fe1ae070",
   "metadata": {},
   "outputs": [],
   "source": [
    "sdata"
   ]
  },
  {
   "cell_type": "code",
   "execution_count": null,
   "id": "cc8601a2",
   "metadata": {
    "scrolled": false
   },
   "outputs": [],
   "source": [
    "figure(12,12)\n",
    "\n",
    "tissues = sdata.columns[4:]\n",
    "sdata['tissues'] = sdata.unite_columns(tissues)\n",
    "\n",
    "# sdata = sdata[~sdata.bg_noise].drop('bg_noise')\n",
    "sdata\n",
    "# sdata[~sdata.bg_noise].scatter()"
   ]
  },
  {
   "cell_type": "code",
   "execution_count": null,
   "id": "eb38c086",
   "metadata": {
    "scrolled": false
   },
   "outputs": [],
   "source": [
    "from matplotlib.cm import get_cmap\n",
    "\n",
    "accent = get_cmap('nipy_spectral')\n",
    "\n",
    "figure(9,9)\n",
    "out = sdata.scatter(c=sdata.tissues.cat.codes,cmap=accent)\n",
    "\n",
    "handlers = [plt.scatter([],[],color=accent(f)) for f in np.linspace(0.2,1,len(tissues))]\n",
    "\n",
    "plt.legend(handlers,tissues,)\n"
   ]
  },
  {
   "cell_type": "markdown",
   "id": "a2fc87f1",
   "metadata": {},
   "source": [
    "## Analyse DEGs\n",
    "\n",
    "We can analyse the differential expression/local molecule occurrence between different assigned contexts:"
   ]
  },
  {
   "cell_type": "markdown",
   "id": "b6d9bbd0",
   "metadata": {},
   "source": [
    "### Ducts\n",
    "\n",
    "Try to identify genes that are expressed in all ductal cells:"
   ]
  },
  {
   "cell_type": "code",
   "execution_count": null,
   "id": "bb31402a",
   "metadata": {},
   "outputs": [],
   "source": [
    "from plankton.stats import mor_normalize\n",
    "\n",
    "\n",
    "# create a mask to index all 'ductal' molecules in the data set:\n",
    "mask_ducts = sdata.epithelial_central|sdata.epithelial_distal|sdata.mesothelial_duct_central|sdata.mesothelial_duct_distal\n",
    "\n",
    "# Normalize counts using the median of ratios:\n",
    "c1,c2 = mor_normalize(sdata[mask_ducts],sdata[~mask_ducts])\n",
    "\n",
    "figure(25,5)\n",
    "\n",
    "# Compute the log ratios, sort:\n",
    "lfc_ducts = np.log2(c1/c2).sort_values()\n",
    "\n",
    "# Plot the sorted ratios:\n",
    "lfc_ducts.plot.bar()\n",
    "\n",
    "plt.title('log-count-ratios for <- other vs. ductal -> genes')"
   ]
  },
  {
   "cell_type": "markdown",
   "id": "bbcea24b",
   "metadata": {},
   "source": [
    "This plot answers the question: *Which genes are overrepresented in the ductal regions of tissue compared to the submucosa*?\n",
    "\n",
    "We can plot the five most significant genes:"
   ]
  },
  {
   "cell_type": "code",
   "execution_count": null,
   "id": "12c8b78c",
   "metadata": {},
   "outputs": [],
   "source": [
    "# degs for ducts:\n",
    "\n",
    "figure(8,8)\n",
    "sdata[sdata.g.isin(lfc_ducts[-5:].index)].scatter(alpha=0.5,legend=True)\n",
    "\n",
    "plt.title('Five prominent ductal indicator genes:')"
   ]
  },
  {
   "cell_type": "markdown",
   "id": "ed25caa0",
   "metadata": {},
   "source": [
    "### Distinguish endothelial/mesothelial cells in the ducts:\n",
    "\n",
    "The ducts are composed out of endothelial and mesothelial cells. We can attempt to identify markers for both:"
   ]
  },
  {
   "cell_type": "code",
   "execution_count": null,
   "id": "e8084b78",
   "metadata": {},
   "outputs": [],
   "source": [
    "# Normalize samples:\n",
    "c1,c2 = mor_normalize(sdata[sdata.epithelial_central|sdata.epithelial_distal],sdata[sdata.mesothelial_duct_central|sdata.mesothelial_duct_distal])\n",
    "\n",
    "figure(25,5)\n",
    "\n",
    "# Plot log-count-ratio:\n",
    "lfc_epi = np.log2(c1/c2).sort_values()\n",
    "\n",
    "lfc_epi.plot.bar()\n",
    "\n",
    "plt.title('log-count-ratios  <- mesothelial vs. epithelial -> ')"
   ]
  },
  {
   "cell_type": "code",
   "execution_count": null,
   "id": "27500510",
   "metadata": {},
   "outputs": [],
   "source": [
    "# degs for ducts:\n",
    "\n",
    "figure(8,8)\n",
    "sdata[sdata.g.isin(lfc_epi[:5].index)].scatter(alpha=0.2,color='lime')\n",
    "sdata[sdata.g.isin(lfc_epi[-5:].index)].scatter(alpha=0.2,color='magenta')\n",
    "\n",
    "# (Pssst, this is a hack to create the legend) : /\n",
    "handlers = [plt.scatter([],[],color=c) for c in ['lime','magenta']]\n",
    "plt.legend(handlers,['endothel','mesothel'],)\n",
    "\n",
    "plt.title('The five most prominent indicators of epithel/mesothel:')"
   ]
  },
  {
   "cell_type": "markdown",
   "id": "1e36a6d9",
   "metadata": {},
   "source": [
    "### Combine plots:\n",
    "\n",
    "This plot shows the ductal-specificity, with bars sorted by the values recovered from the analysis for endothelial <-> mesothelial specificity.\n",
    "\n",
    "The question is:\n",
    "\n",
    "Is there a common ductal marker that is not specific for any individual ductal cell?"
   ]
  },
  {
   "cell_type": "code",
   "execution_count": null,
   "id": "9a615e32",
   "metadata": {},
   "outputs": [],
   "source": [
    "figure(25,5)\n",
    "\n",
    "lfc_ducts[lfc_epi.index].plot.bar()\n",
    "\n",
    "plt.title('log-count-ratios for <- other vs. ductal -> genes, sorted by epithelial affinity')"
   ]
  },
  {
   "cell_type": "markdown",
   "id": "cab8ac3d",
   "metadata": {},
   "source": [
    "'DNAH12' seems out of line as an epithelial marker without ductal affinity:"
   ]
  },
  {
   "cell_type": "code",
   "execution_count": null,
   "id": "b46c1d72",
   "metadata": {},
   "outputs": [],
   "source": [
    "sdata[sdata.g=='DNAH12'].scatter()"
   ]
  },
  {
   "cell_type": "markdown",
   "id": "46af4277",
   "metadata": {},
   "source": [
    "... but this is probably just an effect of the low overall count and some inherent noise..."
   ]
  },
  {
   "cell_type": "markdown",
   "id": "655316f8",
   "metadata": {},
   "source": [
    "## Distinguishing epithelial cells:\n",
    "\n",
    "We have discovered multiple epithelial tissue contexts. What are the genes that determine the individual clusters:"
   ]
  },
  {
   "cell_type": "code",
   "execution_count": null,
   "id": "95a2d3fb",
   "metadata": {},
   "outputs": [],
   "source": [
    "from plankton.stats import mor_normalize\n",
    "\n",
    "c1,c2=mor_normalize(sdata[sdata.epithelial_central].stats,sdata[sdata.epithelial_distal].stats)\n",
    "\n",
    "\n",
    "figure(25,5)\n",
    "\n",
    "lfc_epi_01 = np.log2(c1/c2).sort_values()\n",
    "\n",
    "lfc_epi_01.plot.bar()\n",
    "plt.title('log-count-ratios  <- epithelial_distal vs. epithelial_central -> ')"
   ]
  },
  {
   "cell_type": "code",
   "execution_count": null,
   "id": "407538c8",
   "metadata": {
    "scrolled": false
   },
   "outputs": [],
   "source": [
    "# degs for ducts:\n",
    "\n",
    "figure(20,8)\n",
    "plt.subplot(121)\n",
    "plt.title('distal:')\n",
    "sdata[sdata.g.isin(lfc_epi_01[:5].index)&(sdata.epithelial_central|sdata.epithelial_distal)].scatter(alpha=0.2,legend=True)\n",
    "\n",
    "plt.subplot(122)\n",
    "plt.title('central')\n",
    "sdata[sdata.g.isin(lfc_epi_01[-5:].index)&(sdata.epithelial_central|sdata.epithelial_distal)].scatter(alpha=0.2,legend=True)\n",
    "\n",
    "# sdata[sdata.g.isin(lfc_epi_01[-5:].index)].scatter(alpha=0.5,color='magenta')"
   ]
  },
  {
   "cell_type": "code",
   "execution_count": null,
   "id": "b53208af",
   "metadata": {
    "scrolled": false
   },
   "outputs": [],
   "source": [
    "# degs for ducts:\n",
    "\n",
    "figure(8,8)\n",
    "\n",
    "sdata[sdata.g.isin(lfc_epi_01[:5].index)&(sdata.epithelial_central|sdata.epithelial_distal)].scatter(alpha=0.1,color='lime')\n",
    "\n",
    "sdata[sdata.g.isin(lfc_epi_01[-10:].index)&(sdata.epithelial_central|sdata.epithelial_distal)].scatter(alpha=0.1,color='magenta')\n",
    "\n",
    "\n"
   ]
  },
  {
   "cell_type": "markdown",
   "id": "5582ee8c",
   "metadata": {},
   "source": [
    "### 'Inner' vs. 'peripheral' clusters\n",
    "\n",
    "We discovered a number of clusters that are expressed more in the center of the sample, and we can try to identify the respective genes:"
   ]
  },
  {
   "cell_type": "code",
   "execution_count": null,
   "id": "ba24f48c",
   "metadata": {},
   "outputs": [],
   "source": [
    "figure(25,5)\n",
    "\n",
    "for i,label in enumerate(['epithelial_central', 'epithelial_distal', 'mesothelial_duct_central', 'mesothelial_duct_distal', 'submucosa_central', 'submucosa_distal']):\n",
    "    plt.subplot(1,7,i+1)\n",
    "    \n",
    "    plt.title(label)\n",
    "    sdata[sdata[label]].scatter()"
   ]
  },
  {
   "cell_type": "code",
   "execution_count": null,
   "id": "dd1def5b",
   "metadata": {},
   "outputs": [],
   "source": [
    "# define central tissues:\n",
    "central_tissues = ['epithelial_central','mesothelial_duct_central','submucosa_central']\n",
    "distal_tissues = ['epithelial_distal','mesothelial_duct_distal','submucosa_distal']\n",
    "\n",
    "# create mask from tissues:\n",
    "mask_central = sdata.tissues.isin(central_tissues)\n",
    "mask_distal = sdata.tissues.isin(distal_tissues)\n",
    "\n",
    "# plot detected central <-> distal molecules\n",
    "figure()\n",
    "sdata[mask_distal].scatter(color='red',alpha=0.2)\n",
    "sdata[mask_central].scatter(color='yellow',alpha=0.2)\n",
    "plt.title('Central vs. distal molecules:')"
   ]
  },
  {
   "cell_type": "markdown",
   "id": "6f289b84",
   "metadata": {},
   "source": [
    "We can perform differential expression analysis again to identify genes with central<->distal affinity:"
   ]
  },
  {
   "cell_type": "code",
   "execution_count": null,
   "id": "99de69dd",
   "metadata": {},
   "outputs": [],
   "source": [
    "\n",
    "c1,c2=mor_normalize(sdata[mask_central].stats,sdata[mask_distal].stats)\n",
    "\n",
    "\n",
    "figure(25,5)\n",
    "\n",
    "lfc_central = np.log2(c1/c2).sort_values()\n",
    "\n",
    "lfc_central.plot.bar()\n",
    "\n",
    "plt.title('log-count-ratios  <- distal vs. central -> ')"
   ]
  },
  {
   "cell_type": "code",
   "execution_count": null,
   "id": "c8d5cd79",
   "metadata": {},
   "outputs": [],
   "source": [
    "figure(16,16)\n",
    "\n",
    "plt.subplot(121)\n",
    "plt.title('central genes:')\n",
    "sdata[sdata.g.isin(lfc_central[-7:].index)].scatter(alpha=0.2,legend=True)\n",
    "\n",
    "\n",
    "plt.subplot(122)\n",
    "plt.title('distal genes:')\n",
    "sdata[sdata.g.isin(lfc_central[:7].index)].scatter(alpha=0.2,legend=True)"
   ]
  },
  {
   "cell_type": "markdown",
   "id": "c2a02bd2",
   "metadata": {},
   "source": [
    "It is difficult to say whether this effect is biologial or not. My estimate would be that it is a technical artefact, especially given the fact that it coincides with the expression-free 'hole' in the center of the tissue. Also, it is visible across indicator genes for different tissues at the same time. It might be due to differences in thickness of the frozen tissue sample, which resulted in different degrees of permeation by the fluids utilized in the ISS protocol. Anyway, this shows that claims concerning the tissue compositions along the central-distal axis should be formulated relatively conservative."
   ]
  },
  {
   "cell_type": "markdown",
   "id": "d6f899e3",
   "metadata": {},
   "source": [
    "# unsupervised approach using SSAM-denovo\n",
    "\n",
    "Our lab has a segmentation-free, unsupervised celltype calling algorithm called SSAM (Park, 2020).\n",
    "\n",
    "It uses KDE to model an expression density of molecules in space, samples from the estimated density and creates clusters of cell types, which can then be projected onto a pixelized map of the sample:"
   ]
  },
  {
   "cell_type": "code",
   "execution_count": null,
   "id": "26cf0b9b",
   "metadata": {},
   "outputs": [],
   "source": [
    "from plankton.utils import localmax_sampling,ssam\n",
    "\n",
    "# create a signature matrix through local-max sampling\n",
    "signatures = pd.DataFrame(localmax_sampling(sdata,n_clusters=11,bandwidth=6),columns=sdata.genes)\n",
    "\n",
    "signatures = np.array(signatures)\n",
    "signatures-=signatures.min()\n",
    "signatures/=signatures.max(0)\n",
    "signatures/=signatures.max(1)[:,None]\n",
    "\n",
    "ct_map = ssam(sdata,signatures=signatures,kernel_bandwidth=6,threshold_exp=0.9)"
   ]
  },
  {
   "cell_type": "code",
   "execution_count": null,
   "id": "71bdd7c5",
   "metadata": {},
   "outputs": [],
   "source": [
    "figure(9,9)\n",
    "ct_map.imshow(cmap='nipy_spectral',interpolation='none')"
   ]
  },
  {
   "cell_type": "markdown",
   "id": "81bcd2bd",
   "metadata": {},
   "source": [
    "We can verify the clusters by plotting them against our self-defined tissue subclasses:"
   ]
  },
  {
   "cell_type": "code",
   "execution_count": null,
   "id": "c3804279",
   "metadata": {
    "scrolled": false
   },
   "outputs": [],
   "source": [
    "figure(8,45)\n",
    "\n",
    "tissue_counts = [sdata[sdata[t]].counts for t in tissues]\n",
    "# tissue_counts = pd.DataFrame(tissue_counts,index=tissues).T\n",
    "\n",
    "for i in range(ct_map.data.max()):\n",
    "    \n",
    "    \n",
    "    # plot tissue sections of \n",
    "    plt.subplot(ct_map.data.max(),2,i*2+2)\n",
    "    \n",
    "    plt.title('cluster' + str(i))\n",
    "    (ct_map==i).imshow(cmap='Reds')\n",
    "    \n",
    "    \n",
    "    plt.subplot(ct_map.data.max(),2,i*2+1)\n",
    "    \n",
    "    sampled = sdata[ct_map.get_value(sdata.x,sdata.y)==i]\n",
    "    \n",
    "    correlations = pd.Series([sampled.counts.corr(t) for t in tissue_counts],index=tissues)\n",
    "    correlations.plot.barh()\n",
    "#     sampled.scatter(alpha=0.5)\n",
    "    \n",
    "    \n"
   ]
  },
  {
   "cell_type": "markdown",
   "id": "dcf5d113",
   "metadata": {},
   "source": [
    "We can also compare the identified cluster with the signatures obtained in the 'supervised' analysis:"
   ]
  },
  {
   "cell_type": "code",
   "execution_count": null,
   "id": "7cad1b6b",
   "metadata": {
    "scrolled": false
   },
   "outputs": [],
   "source": [
    "signatures = pd.read_csv('signatures.csv',index_col=0)\n",
    "\n",
    "\n",
    "figure(15,75)\n",
    "\n",
    "for i in range(ct_map.data.max()):\n",
    "    \n",
    "    \n",
    "    # plot tissue sections of \n",
    "    plt.subplot(ct_map.data.max(),2,i*2+2)\n",
    "    \n",
    "    plt.title('cluster' + str(i))\n",
    "    (ct_map==i).imshow(cmap='Reds')\n",
    "    \n",
    "    \n",
    "    plt.subplot(ct_map.data.max(),2,i*2+1)\n",
    "    \n",
    "    sampled = sdata[ct_map.get_value(sdata.x,sdata.y)==i]\n",
    "    \n",
    "    correlations = pd.Series([sampled.counts.corr(t) for i,t in signatures.iterrows()],index=signatures.index)\n",
    "    correlations.plot.barh()\n",
    "#     sampled.scatter(alpha=0.5)\n",
    "    \n",
    "    \n"
   ]
  },
  {
   "cell_type": "code",
   "execution_count": null,
   "id": "706cf564",
   "metadata": {},
   "outputs": [],
   "source": []
  }
 ],
 "metadata": {
  "kernelspec": {
   "display_name": "Python 3 (ipykernel)",
   "language": "python",
   "name": "python3"
  },
  "language_info": {
   "codemirror_mode": {
    "name": "ipython",
    "version": 3
   },
   "file_extension": ".py",
   "mimetype": "text/x-python",
   "name": "python",
   "nbconvert_exporter": "python",
   "pygments_lexer": "ipython3",
   "version": "3.7.3"
  },
  "vscode": {
   "interpreter": {
    "hash": "916dbcbb3f70747c44a77c7bcd40155683ae19c65e1c03b4aa3499c5328201f1"
   }
  }
 },
 "nbformat": 4,
 "nbformat_minor": 5
}
