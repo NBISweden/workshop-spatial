{
 "cells": [
  {
   "cell_type": "markdown",
   "id": "99c5ffcf",
   "metadata": {
    "cell_marker": "\"\"\"",
    "tags": []
   },
   "source": [
    "# Import spatial data in AnnData and Squidpy\n",
    "Tutorial by Hannah Spitzer and Giovanni Palla, Spatial Omics Data Analysis 2022.\n",
    "\n",
    "*TL;DR we show how to store spatial data and large tissue images in AnnData and ImageContainer*\n",
    "\n",
    "## Background\n",
    "\n",
    "Spatial molecular data comes in many different formats, and to date there is no\n",
    "one-size-fit-all solution for reading spatial data in Python.\n",
    "Scanpy already provides a solution for Visium Spatial transcriptomics data with\n",
    "the function `scanpy.read_visium` but that is basically it.\n",
    "In Squidpy, we do provide some pre-processed (and pre-formatted) datasets,\n",
    "with the module `squidpy.datasets` but it's not very useful for the users\n",
    "who need to import their own data.\n",
    "\n",
    "In this tutorial, we will showcase how spatial data are stored in `anndata.AnnData`.\n",
    "We will use mock datasets for this purpose, yet showing with examples the important\n",
    "details that you should take care of in order to exploit the full functionality of the\n",
    "*AnnData-Scanpy-Squidpy* ecosystem.\n",
    "\n",
    "For more information on data representation of spatial data, please also check out the [Squidpy tutorials](https://squidpy.readthedocs.io/en/stable/tutorials.html). This tutorial was adapted from [here](https://squidpy.readthedocs.io/en/stable/auto_tutorials/tutorial_read_spatial.html) and [here](https://squidpy.readthedocs.io/en/stable/auto_tutorials/tutorial_image_container.html)."
   ]
  },
  {
   "cell_type": "code",
   "execution_count": 1,
   "id": "30dc0388",
   "metadata": {},
   "outputs": [
    {
     "name": "stdout",
     "output_type": "stream",
     "text": [
      "scanpy==1.8.2 anndata==0.8.0 umap==0.5.2 numpy==1.21.5 scipy==1.8.0 pandas==1.4.1 scikit-learn==1.0.2 statsmodels==0.13.2 python-igraph==0.9.9 pynndescent==0.5.6\n",
      "squidpy==1.2.2\n"
     ]
    }
   ],
   "source": [
    "%pip install scikit-image>0.19\n",
    "\n",
    "from anndata import AnnData\n",
    "import scanpy as sc\n",
    "import squidpy as sq\n",
    "import numpy as np\n",
    "from numpy.random import default_rng\n",
    "\n",
    "import matplotlib.pyplot as plt\n",
    "\n",
    "sc.logging.print_header()\n",
    "print(f\"squidpy=={sq.__version__}\")"
   ]
  },
  {
   "cell_type": "markdown",
   "id": "68edac31",
   "metadata": {
    "lines_to_next_cell": 0
   },
   "source": [
    "Spatial coordinates in AnnData\n",
    "------------------------------\n",
    "First, let's generate some data. We will need:\n",
    "\n",
    "  - an array of features (e.g. counts).\n",
    "  - an array of spatial coordinates.\n",
    "  - an image array (e.g. the tissue image)."
   ]
  },
  {
   "cell_type": "code",
   "execution_count": 2,
   "id": "f5b6cf69",
   "metadata": {},
   "outputs": [],
   "source": [
    "rng = default_rng(42)\n",
    "counts = rng.integers(0, 15, size=(10, 100))  # feature matrix\n",
    "coordinates = rng.uniform(0, 10, size=(10, 2))  # spatial coordinates\n",
    "image = rng.uniform(0, 1, size=(10, 10, 3))  # image"
   ]
  },
  {
   "cell_type": "markdown",
   "id": "2f508a24",
   "metadata": {
    "lines_to_next_cell": 0
   },
   "source": [
    "Let's first start with creating the :class:`anndata.AnnData` object.\n",
    "We will first just use the count matrix and the spatial coordinates.\n",
    "Specify the :attr:`anndata.AnnData.obsm` key as `'spatial'` is not strictly necessary\n",
    "but will save you a lot of typing since it's the default for both Squidpy and Scanpy."
   ]
  },
  {
   "cell_type": "code",
   "execution_count": 3,
   "id": "ee71eb4c",
   "metadata": {},
   "outputs": [],
   "source": [
    "adata = AnnData(counts, obsm={\"spatial\": coordinates}, dtype=np.int64)"
   ]
  },
  {
   "cell_type": "markdown",
   "id": "eebeece6",
   "metadata": {
    "lines_to_next_cell": 0
   },
   "source": [
    "Next, let's run a standard Scanpy clustering and umap workflow."
   ]
  },
  {
   "cell_type": "code",
   "execution_count": 4,
   "id": "dc1ec318",
   "metadata": {},
   "outputs": [
    {
     "name": "stdout",
     "output_type": "stream",
     "text": [
      "WARNING: n_obs too small: adjusting to `n_neighbors = 6`\n"
     ]
    },
    {
     "data": {
      "text/plain": [
       "AnnData object with n_obs × n_vars = 10 × 100\n",
       "    obs: 'leiden'\n",
       "    uns: 'log1p', 'pca', 'neighbors', 'umap', 'leiden'\n",
       "    obsm: 'spatial', 'X_pca', 'X_umap'\n",
       "    varm: 'PCs'\n",
       "    obsp: 'distances', 'connectivities'"
      ]
     },
     "execution_count": 4,
     "metadata": {},
     "output_type": "execute_result"
    }
   ],
   "source": [
    "sc.pp.normalize_total(adata)\n",
    "sc.pp.log1p(adata)\n",
    "sc.pp.pca(adata)\n",
    "sc.pp.neighbors(adata)\n",
    "sc.tl.umap(adata)\n",
    "sc.tl.leiden(adata)\n",
    "adata"
   ]
  },
  {
   "cell_type": "markdown",
   "id": "d5b5d109",
   "metadata": {
    "lines_to_next_cell": 0
   },
   "source": [
    "We can visualize the dummy cluster annotation ``adata.obs['leiden']`` in space."
   ]
  },
  {
   "cell_type": "code",
   "execution_count": 5,
   "id": "da872563",
   "metadata": {},
   "outputs": [
    {
     "data": {
      "image/png": "[encoded data removed]",
      "text/plain": [
       "<Figure size 432x288 with 1 Axes>"
      ]
     },
     "metadata": {},
     "output_type": "display_data"
    }
   ],
   "source": [
    "sc.pl.spatial(adata, color=\"leiden\", spot_size=1)"
   ]
  },
  {
   "cell_type": "markdown",
   "id": "d2881ad0",
   "metadata": {
    "lines_to_next_cell": 0
   },
   "source": [
    "Tissue image in AnnData\n",
    "-----------------------\n",
    "For use cases where there is no tissue image, this is all you need\n",
    "to start using Scanpy/Squidpy for your analysis.\n",
    "For instance, you can compute a spatial graph with `squidpy.gr.spatial_neighbors`\n",
    "based on a fixed neighbor radius that is informative given your experimental settings."
   ]
  },
  {
   "cell_type": "code",
   "execution_count": 6,
   "id": "e971a0a7",
   "metadata": {},
   "outputs": [
    {
     "data": {
      "image/png": "[encoded data removed]",
      "text/plain": [
       "<Figure size 432x288 with 1 Axes>"
      ]
     },
     "metadata": {},
     "output_type": "display_data"
    }
   ],
   "source": [
    "sq.gr.spatial_neighbors(adata, coord_type = \"generic\", radius=3.0)\n",
    "sc.pl.spatial(adata, color=\"leiden\", neighbors_key=\"spatial_neighbors\", spot_size=1, edges=True, edges_width=2)"
   ]
  },
  {
   "cell_type": "markdown",
   "id": "03f68d22",
   "metadata": {
    "lines_to_next_cell": 0
   },
   "source": [
    "In case you do have an image of the tissue (or multiple, at different resolutions)\n",
    "this is what you need to know to correctly store it in AnnData.\n",
    "First, let's visualize the mock image from before."
   ]
  },
  {
   "cell_type": "code",
   "execution_count": 7,
   "id": "339b2e5e",
   "metadata": {},
   "outputs": [
    {
     "data": {
      "text/plain": [
       "<matplotlib.image.AxesImage at 0x7f88ee65de50>"
      ]
     },
     "execution_count": 7,
     "metadata": {},
     "output_type": "execute_result"
    },
    {
     "data": {
      "image/png": "[encoded data removed]",
      "text/plain": [
       "<Figure size 432x288 with 1 Axes>"
      ]
     },
     "metadata": {
      "needs_background": "light"
     },
     "output_type": "display_data"
    }
   ],
   "source": [
    "plt.imshow(image)"
   ]
  },
  {
   "cell_type": "markdown",
   "id": "0101a6d4",
   "metadata": {
    "lines_to_next_cell": 0
   },
   "source": [
    "The image and its metadata are stored in the `uns` slot of `anndata.AnnData`.\n",
    "Specifically, in the ``adata.uns['spatial'][<library_id>]`` slot, where `library_id`\n",
    "is any unique key that refers to the tissue image.\n",
    "\n",
    "For now, we will assume that there is only one image. This is the necessary metadata:\n",
    "\n",
    "  - `tissue_hires_scalef` - this is the scale factor between the spatial coordinates\n",
    "    units and the image pixels. In the case of Visium, this is usually ~0.17. In this case,\n",
    "    we assume that the spatial coordinates are in the same scale of the pixels, and so\n",
    "    we will set this value to 1.\n",
    "  - `spot_diameter_fullres` - this is the diameter of the capture area for each observation.\n",
    "    In the case of Visium, we usually call them `\"spots\"` and this value is set to ~89.\n",
    "\n",
    "Here, we will set it to 0.5."
   ]
  },
  {
   "cell_type": "code",
   "execution_count": 8,
   "id": "4c74728c",
   "metadata": {},
   "outputs": [],
   "source": [
    "spatial_key = \"spatial\"\n",
    "library_id = \"tissue42\"\n",
    "adata.uns[spatial_key] = {library_id: {}}\n",
    "adata.uns[spatial_key][library_id][\"images\"] = {}\n",
    "adata.uns[spatial_key][library_id][\"images\"] = {\"hires\": image}\n",
    "adata.uns[spatial_key][library_id][\"scalefactors\"] = {\"tissue_hires_scalef\": 1, \"spot_diameter_fullres\": 0.5}"
   ]
  },
  {
   "cell_type": "markdown",
   "id": "89d86a52",
   "metadata": {
    "lines_to_next_cell": 0
   },
   "source": [
    "We don't provide the flexibility (yet) to change the values of such keys.\n",
    "These are the keys provided by the Space Ranger output from 10x Genomics Visium\n",
    "and therefore were the first to be adopted. In the future, we might settle to\n",
    "a sightly different structure.\n",
    "But for now, if all such key are correct, `squidpy.pl.spatial_scatter` works out of the box."
   ]
  },
  {
   "cell_type": "code",
   "execution_count": 1,
   "id": "98e31319",
   "metadata": {},
   "outputs": [
    {
     "ename": "NameError",
     "evalue": "name 'sq' is not defined",
     "output_type": "error",
     "traceback": [
      "\u001b[0;31m---------------------------------------------------------------------------\u001b[0m",
      "\u001b[0;31mNameError\u001b[0m                                 Traceback (most recent call last)",
      "\u001b[1;32m/Users/hannah.spitzer/projects/spatial_scanpy/workshop-spatial/labs/07_spatial_adata.ipynb Cell 2'\u001b[0m in \u001b[0;36m<cell line: 1>\u001b[0;34m()\u001b[0m\n\u001b[0;32m----> <a href='vscode-notebook-cell:/Users/hannah.spitzer/projects/spatial_scanpy/workshop-spatial/labs/07_spatial_adata.ipynb#ch0000001?line=0'>1</a>\u001b[0m sq\u001b[39m.\u001b[39mpl\u001b[39m.\u001b[39mspatial_scatter(adata, color\u001b[39m=\u001b[39m\u001b[39m\"\u001b[39m\u001b[39mleiden\u001b[39m\u001b[39m\"\u001b[39m)\n",
      "\u001b[0;31mNameError\u001b[0m: name 'sq' is not defined"
     ]
    }
   ],
   "source": [
    "sq.pl.spatial_scatter(adata, color=\"leiden\")"
   ]
  },
  {
   "cell_type": "markdown",
   "id": "054e2a28",
   "metadata": {
    "lines_to_next_cell": 0
   },
   "source": [
    "You can fiddle around with the settings to see what changes.\n",
    "For instance, let's change `tissue_hires_scalef` to half the previous value."
   ]
  },
  {
   "cell_type": "code",
   "execution_count": 10,
   "id": "b5042f04",
   "metadata": {},
   "outputs": [
    {
     "data": {
      "image/png": "[encoded data removed]",
      "text/plain": [
       "<Figure size 432x288 with 1 Axes>"
      ]
     },
     "metadata": {},
     "output_type": "display_data"
    }
   ],
   "source": [
    "adata.uns[spatial_key][library_id][\"scalefactors\"] = {\"tissue_hires_scalef\": 0.5, \"spot_diameter_fullres\": 0.5}\n",
    "sq.pl.spatial_scatter(adata, color=\"leiden\")"
   ]
  },
  {
   "cell_type": "code",
   "execution_count": 11,
   "id": "27d2605b-8455-48fd-8e52-21e98c685805",
   "metadata": {},
   "outputs": [
    {
     "data": {
      "image/png": "[encoded data removed]",
      "text/plain": [
       "<Figure size 432x288 with 1 Axes>"
      ]
     },
     "metadata": {},
     "output_type": "display_data"
    }
   ],
   "source": [
    "sq.pl.spatial_scatter(adata, color=\"leiden\", img_cmap=\"gray\")"
   ]
  },
  {
   "cell_type": "markdown",
   "id": "06987764",
   "metadata": {
    "lines_to_next_cell": 0
   },
   "source": [
    "As you can see, the spatial coordinates have been scaled down, and the image\n",
    "was \"zoomed in\".\n",
    "\n",
    "Of course, you might want to \"analyze\" such image. `squidpy.im.ImageContainer`\n",
    "comes to the rescue! Just instantiate a new object and it will work out of the box."
   ]
  },
  {
   "cell_type": "code",
   "execution_count": 12,
   "id": "5441af76",
   "metadata": {},
   "outputs": [
    {
     "data": {
      "image/png": "[encoded data removed]",
      "text/plain": [
       "<Figure size 576x576 with 1 Axes>"
      ]
     },
     "metadata": {
      "needs_background": "light"
     },
     "output_type": "display_data"
    }
   ],
   "source": [
    "img = sq.im.ImageContainer(image)\n",
    "img.show()"
   ]
  },
  {
   "cell_type": "markdown",
   "id": "619e81d3",
   "metadata": {},
   "source": [
    "# ImageContainer object\n",
    "\n",
    "The ImageContainer is the central object in Squidpy containing the high\n",
    "resolution images. It wraps `xarray.Dataset` and provides different\n",
    "cropping, processing, and feature extraction functions.\n",
    "\n",
    "The `squidpy.im.ImageContainer` constructor can read in memory\n",
    "`numpy.ndarray`/`xarray.DataArray` or on-disk image files. The\n",
    "`ImageContainer` can store multiple image layers (for\n",
    "example an image and a matching segmentation mask).\n",
    "\n",
    "Images are expected to have at least a x and\n",
    "y dimension, with optional channel and\n",
    "z dimensions.\n",
    "\n",
    "Most important arguments upon initialization are:\n",
    "\n",
    "-   img - the image.\n",
    "-   layer - the name of the image layer.\n",
    "-   dims - to specify the dimensions names of\n",
    "    img\n",
    "-   lazy - set to True to allow lazy computations.\n",
    "-   scale - set this to the scaling factor between the\n",
    "    image and the coordinates saved.\n",
    "\n",
    "In the example above, we just used the default values to initialise the ImageContainer."
   ]
  },
  {
   "cell_type": "code",
   "execution_count": 13,
   "id": "42987846",
   "metadata": {},
   "outputs": [
    {
     "data": {
      "text/html": [
       "ImageContainer object with 1 layer:<p style='text-indent: 25px; margin-top: 0px; margin-bottom: 0px;'><strong>image</strong>: <em>y</em> (10), <em>x</em> (10), <em>z</em> (1), <em>channels</em> (3)</p>"
      ],
      "text/plain": [
       "ImageContainer[shape=(10, 10), layers=['image']]"
      ]
     },
     "execution_count": 13,
     "metadata": {},
     "output_type": "execute_result"
    }
   ],
   "source": [
    "img"
   ]
  },
  {
   "cell_type": "markdown",
   "id": "677080b5",
   "metadata": {},
   "source": [
    "As you can see, img contains one layer, called \"image\" of shape 10x10x1 with 3 channels."
   ]
  },
  {
   "cell_type": "markdown",
   "id": "3a7b3767",
   "metadata": {},
   "source": [
    "Add layers to ImageContainer\n",
    "============================\n",
    "\n",
    "You can add image layers into the ImageContainer using\n",
    "`squidpy.im.ImageContainer.add_img`.\n",
    "\n",
    "The new layer has to share `x`, `y` and `z` dimensions with the already existing image. It can have\n",
    "different channel dimensions. This is useful for add e.g., segmentation\n",
    "masks.\n",
    "\n",
    "By default, unique layer and channel dimension names are chosen, you can\n",
    "specify them using the `layer` and `dims`\n",
    "arguments."
   ]
  },
  {
   "cell_type": "code",
   "execution_count": 15,
   "id": "b841209f",
   "metadata": {},
   "outputs": [
    {
     "name": "stdout",
     "output_type": "stream",
     "text": [
      "WARNING: Channel dimension cannot be aligned with an existing one, using `channels_0`\n"
     ]
    },
    {
     "data": {
      "text/html": [
       "ImageContainer object with 2 layers:<p style='text-indent: 25px; margin-top: 0px; margin-bottom: 0px;'><strong>image</strong>: <em>y</em> (10), <em>x</em> (10), <em>z</em> (1), <em>channels</em> (3)</p><p style='text-indent: 25px; margin-top: 0px; margin-bottom: 0px;'><strong>seg1</strong>: <em>y</em> (10), <em>x</em> (10), <em>z</em> (1), <em>channels_0</em> (1)</p>"
      ],
      "text/plain": [
       "ImageContainer[shape=(10, 10), layers=['image', 'seg1']]"
      ]
     },
     "execution_count": 15,
     "metadata": {},
     "output_type": "execute_result"
    }
   ],
   "source": [
    "arr_seg = np.zeros((10, 10))\n",
    "arr_seg[4:6, 4:6] = 1\n",
    "\n",
    "img.add_img(arr_seg, layer=\"seg1\")\n",
    "img"
   ]
  },
  {
   "cell_type": "markdown",
   "id": "d30e4d51",
   "metadata": {},
   "source": [
    "For convenience, you can also assign image layers directly using the new\n",
    "layer name:"
   ]
  },
  {
   "cell_type": "code",
   "execution_count": 17,
   "id": "655b2d30",
   "metadata": {},
   "outputs": [
    {
     "name": "stdout",
     "output_type": "stream",
     "text": [
      "WARNING: Channel dimension cannot be aligned with an existing one, using `channels_1`\n"
     ]
    },
    {
     "data": {
      "text/html": [
       "ImageContainer object with 3 layers:<p style='text-indent: 25px; margin-top: 0px; margin-bottom: 0px;'><strong>image</strong>: <em>y</em> (10), <em>x</em> (10), <em>z</em> (1), <em>channels</em> (3)</p><p style='text-indent: 25px; margin-top: 0px; margin-bottom: 0px;'><strong>seg1</strong>: <em>y</em> (10), <em>x</em> (10), <em>z</em> (1), <em>channels_0</em> (1)</p><p style='text-indent: 25px; margin-top: 0px; margin-bottom: 0px;'><strong>seg2</strong>: <em>y</em> (10), <em>x</em> (10), <em>z</em> (1), <em>channels_1</em> (1)</p>"
      ],
      "text/plain": [
       "ImageContainer[shape=(10, 10), layers=['image', 'seg1', 'seg2']]"
      ]
     },
     "execution_count": 17,
     "metadata": {},
     "output_type": "execute_result"
    }
   ],
   "source": [
    "img[\"seg2\"] = arr_seg\n",
    "img"
   ]
  },
  {
   "cell_type": "markdown",
   "id": "48046ee0",
   "metadata": {},
   "source": [
    "You can get a list of layers contained in an ImageContainer, and access\n",
    "specific image-structured arrays using their names:"
   ]
  },
  {
   "cell_type": "code",
   "execution_count": 21,
   "id": "ace1018a",
   "metadata": {},
   "outputs": [
    {
     "name": "stdout",
     "output_type": "stream",
     "text": [
      "['image', 'seg1', 'new-name']\n"
     ]
    },
    {
     "data": {
      "text/html": [
       "<div><svg style=\"position: absolute; width: 0; height: 0; overflow: hidden\">\n",
       "<defs>\n",
       "<symbol id=\"icon-database\" viewBox=\"0 0 32 32\">\n",
       "<path d=\"M16 0c-8.837 0-16 2.239-16 5v4c0 2.761 7.163 5 16 5s16-2.239 16-5v-4c0-2.761-7.163-5-16-5z\"></path>\n",
       "<path d=\"M16 17c-8.837 0-16-2.239-16-5v6c0 2.761 7.163 5 16 5s16-2.239 16-5v-6c0 2.761-7.163 5-16 5z\"></path>\n",
       "<path d=\"M16 26c-8.837 0-16-2.239-16-5v6c0 2.761 7.163 5 16 5s16-2.239 16-5v-6c0 2.761-7.163 5-16 5z\"></path>\n",
       "</symbol>\n",
       "<symbol id=\"icon-file-text2\" viewBox=\"0 0 32 32\">\n",
       "<path d=\"M28.681 7.159c-0.694-0.947-1.662-2.053-2.724-3.116s-2.169-2.030-3.116-2.724c-1.612-1.182-2.393-1.319-2.841-1.319h-15.5c-1.378 0-2.5 1.121-2.5 2.5v27c0 1.378 1.122 2.5 2.5 2.5h23c1.378 0 2.5-1.122 2.5-2.5v-19.5c0-0.448-0.137-1.23-1.319-2.841zM24.543 5.457c0.959 0.959 1.712 1.825 2.268 2.543h-4.811v-4.811c0.718 0.556 1.584 1.309 2.543 2.268zM28 29.5c0 0.271-0.229 0.5-0.5 0.5h-23c-0.271 0-0.5-0.229-0.5-0.5v-27c0-0.271 0.229-0.5 0.5-0.5 0 0 15.499-0 15.5 0v7c0 0.552 0.448 1 1 1h7v19.5z\"></path>\n",
       "<path d=\"M23 26h-14c-0.552 0-1-0.448-1-1s0.448-1 1-1h14c0.552 0 1 0.448 1 1s-0.448 1-1 1z\"></path>\n",
       "<path d=\"M23 22h-14c-0.552 0-1-0.448-1-1s0.448-1 1-1h14c0.552 0 1 0.448 1 1s-0.448 1-1 1z\"></path>\n",
       "<path d=\"M23 18h-14c-0.552 0-1-0.448-1-1s0.448-1 1-1h14c0.552 0 1 0.448 1 1s-0.448 1-1 1z\"></path>\n",
       "</symbol>\n",
       "</defs>\n",
       "</svg>\n",
       "<style>/* CSS stylesheet for displaying xarray objects in jupyterlab.\n",
       " *\n",
       " */\n",
       "\n",
       ":root {\n",
       "  --xr-font-color0: var(--jp-content-font-color0, rgba(0, 0, 0, 1));\n",
       "  --xr-font-color2: var(--jp-content-font-color2, rgba(0, 0, 0, 0.54));\n",
       "  --xr-font-color3: var(--jp-content-font-color3, rgba(0, 0, 0, 0.38));\n",
       "  --xr-border-color: var(--jp-border-color2, #e0e0e0);\n",
       "  --xr-disabled-color: var(--jp-layout-color3, #bdbdbd);\n",
       "  --xr-background-color: var(--jp-layout-color0, white);\n",
       "  --xr-background-color-row-even: var(--jp-layout-color1, white);\n",
       "  --xr-background-color-row-odd: var(--jp-layout-color2, #eeeeee);\n",
       "}\n",
       "\n",
       "html[theme=dark],\n",
       "body.vscode-dark {\n",
       "  --xr-font-color0: rgba(255, 255, 255, 1);\n",
       "  --xr-font-color2: rgba(255, 255, 255, 0.54);\n",
       "  --xr-font-color3: rgba(255, 255, 255, 0.38);\n",
       "  --xr-border-color: #1F1F1F;\n",
       "  --xr-disabled-color: #515151;\n",
       "  --xr-background-color: #111111;\n",
       "  --xr-background-color-row-even: #111111;\n",
       "  --xr-background-color-row-odd: #313131;\n",
       "}\n",
       "\n",
       ".xr-wrap {\n",
       "  display: block !important;\n",
       "  min-width: 300px;\n",
       "  max-width: 700px;\n",
       "}\n",
       "\n",
       ".xr-text-repr-fallback {\n",
       "  /* fallback to plain text repr when CSS is not injected (untrusted notebook) */\n",
       "  display: none;\n",
       "}\n",
       "\n",
       ".xr-header {\n",
       "  padding-top: 6px;\n",
       "  padding-bottom: 6px;\n",
       "  margin-bottom: 4px;\n",
       "  border-bottom: solid 1px var(--xr-border-color);\n",
       "}\n",
       "\n",
       ".xr-header > div,\n",
       ".xr-header > ul {\n",
       "  display: inline;\n",
       "  margin-top: 0;\n",
       "  margin-bottom: 0;\n",
       "}\n",
       "\n",
       ".xr-obj-type,\n",
       ".xr-array-name {\n",
       "  margin-left: 2px;\n",
       "  margin-right: 10px;\n",
       "}\n",
       "\n",
       ".xr-obj-type {\n",
       "  color: var(--xr-font-color2);\n",
       "}\n",
       "\n",
       ".xr-sections {\n",
       "  padding-left: 0 !important;\n",
       "  display: grid;\n",
       "  grid-template-columns: 150px auto auto 1fr 20px 20px;\n",
       "}\n",
       "\n",
       ".xr-section-item {\n",
       "  display: contents;\n",
       "}\n",
       "\n",
       ".xr-section-item input {\n",
       "  display: none;\n",
       "}\n",
       "\n",
       ".xr-section-item input + label {\n",
       "  color: var(--xr-disabled-color);\n",
       "}\n",
       "\n",
       ".xr-section-item input:enabled + label {\n",
       "  cursor: pointer;\n",
       "  color: var(--xr-font-color2);\n",
       "}\n",
       "\n",
       ".xr-section-item input:enabled + label:hover {\n",
       "  color: var(--xr-font-color0);\n",
       "}\n",
       "\n",
       ".xr-section-summary {\n",
       "  grid-column: 1;\n",
       "  color: var(--xr-font-color2);\n",
       "  font-weight: 500;\n",
       "}\n",
       "\n",
       ".xr-section-summary > span {\n",
       "  display: inline-block;\n",
       "  padding-left: 0.5em;\n",
       "}\n",
       "\n",
       ".xr-section-summary-in:disabled + label {\n",
       "  color: var(--xr-font-color2);\n",
       "}\n",
       "\n",
       ".xr-section-summary-in + label:before {\n",
       "  display: inline-block;\n",
       "  content: '►';\n",
       "  font-size: 11px;\n",
       "  width: 15px;\n",
       "  text-align: center;\n",
       "}\n",
       "\n",
       ".xr-section-summary-in:disabled + label:before {\n",
       "  color: var(--xr-disabled-color);\n",
       "}\n",
       "\n",
       ".xr-section-summary-in:checked + label:before {\n",
       "  content: '▼';\n",
       "}\n",
       "\n",
       ".xr-section-summary-in:checked + label > span {\n",
       "  display: none;\n",
       "}\n",
       "\n",
       ".xr-section-summary,\n",
       ".xr-section-inline-details {\n",
       "  padding-top: 4px;\n",
       "  padding-bottom: 4px;\n",
       "}\n",
       "\n",
       ".xr-section-inline-details {\n",
       "  grid-column: 2 / -1;\n",
       "}\n",
       "\n",
       ".xr-section-details {\n",
       "  display: none;\n",
       "  grid-column: 1 / -1;\n",
       "  margin-bottom: 5px;\n",
       "}\n",
       "\n",
       ".xr-section-summary-in:checked ~ .xr-section-details {\n",
       "  display: contents;\n",
       "}\n",
       "\n",
       ".xr-array-wrap {\n",
       "  grid-column: 1 / -1;\n",
       "  display: grid;\n",
       "  grid-template-columns: 20px auto;\n",
       "}\n",
       "\n",
       ".xr-array-wrap > label {\n",
       "  grid-column: 1;\n",
       "  vertical-align: top;\n",
       "}\n",
       "\n",
       ".xr-preview {\n",
       "  color: var(--xr-font-color3);\n",
       "}\n",
       "\n",
       ".xr-array-preview,\n",
       ".xr-array-data {\n",
       "  padding: 0 5px !important;\n",
       "  grid-column: 2;\n",
       "}\n",
       "\n",
       ".xr-array-data,\n",
       ".xr-array-in:checked ~ .xr-array-preview {\n",
       "  display: none;\n",
       "}\n",
       "\n",
       ".xr-array-in:checked ~ .xr-array-data,\n",
       ".xr-array-preview {\n",
       "  display: inline-block;\n",
       "}\n",
       "\n",
       ".xr-dim-list {\n",
       "  display: inline-block !important;\n",
       "  list-style: none;\n",
       "  padding: 0 !important;\n",
       "  margin: 0;\n",
       "}\n",
       "\n",
       ".xr-dim-list li {\n",
       "  display: inline-block;\n",
       "  padding: 0;\n",
       "  margin: 0;\n",
       "}\n",
       "\n",
       ".xr-dim-list:before {\n",
       "  content: '(';\n",
       "}\n",
       "\n",
       ".xr-dim-list:after {\n",
       "  content: ')';\n",
       "}\n",
       "\n",
       ".xr-dim-list li:not(:last-child):after {\n",
       "  content: ',';\n",
       "  padding-right: 5px;\n",
       "}\n",
       "\n",
       ".xr-has-index {\n",
       "  font-weight: bold;\n",
       "}\n",
       "\n",
       ".xr-var-list,\n",
       ".xr-var-item {\n",
       "  display: contents;\n",
       "}\n",
       "\n",
       ".xr-var-item > div,\n",
       ".xr-var-item label,\n",
       ".xr-var-item > .xr-var-name span {\n",
       "  background-color: var(--xr-background-color-row-even);\n",
       "  margin-bottom: 0;\n",
       "}\n",
       "\n",
       ".xr-var-item > .xr-var-name:hover span {\n",
       "  padding-right: 5px;\n",
       "}\n",
       "\n",
       ".xr-var-list > li:nth-child(odd) > div,\n",
       ".xr-var-list > li:nth-child(odd) > label,\n",
       ".xr-var-list > li:nth-child(odd) > .xr-var-name span {\n",
       "  background-color: var(--xr-background-color-row-odd);\n",
       "}\n",
       "\n",
       ".xr-var-name {\n",
       "  grid-column: 1;\n",
       "}\n",
       "\n",
       ".xr-var-dims {\n",
       "  grid-column: 2;\n",
       "}\n",
       "\n",
       ".xr-var-dtype {\n",
       "  grid-column: 3;\n",
       "  text-align: right;\n",
       "  color: var(--xr-font-color2);\n",
       "}\n",
       "\n",
       ".xr-var-preview {\n",
       "  grid-column: 4;\n",
       "}\n",
       "\n",
       ".xr-var-name,\n",
       ".xr-var-dims,\n",
       ".xr-var-dtype,\n",
       ".xr-preview,\n",
       ".xr-attrs dt {\n",
       "  white-space: nowrap;\n",
       "  overflow: hidden;\n",
       "  text-overflow: ellipsis;\n",
       "  padding-right: 10px;\n",
       "}\n",
       "\n",
       ".xr-var-name:hover,\n",
       ".xr-var-dims:hover,\n",
       ".xr-var-dtype:hover,\n",
       ".xr-attrs dt:hover {\n",
       "  overflow: visible;\n",
       "  width: auto;\n",
       "  z-index: 1;\n",
       "}\n",
       "\n",
       ".xr-var-attrs,\n",
       ".xr-var-data {\n",
       "  display: none;\n",
       "  background-color: var(--xr-background-color) !important;\n",
       "  padding-bottom: 5px !important;\n",
       "}\n",
       "\n",
       ".xr-var-attrs-in:checked ~ .xr-var-attrs,\n",
       ".xr-var-data-in:checked ~ .xr-var-data {\n",
       "  display: block;\n",
       "}\n",
       "\n",
       ".xr-var-data > table {\n",
       "  float: right;\n",
       "}\n",
       "\n",
       ".xr-var-name span,\n",
       ".xr-var-data,\n",
       ".xr-attrs {\n",
       "  padding-left: 25px !important;\n",
       "}\n",
       "\n",
       ".xr-attrs,\n",
       ".xr-var-attrs,\n",
       ".xr-var-data {\n",
       "  grid-column: 1 / -1;\n",
       "}\n",
       "\n",
       "dl.xr-attrs {\n",
       "  padding: 0;\n",
       "  margin: 0;\n",
       "  display: grid;\n",
       "  grid-template-columns: 125px auto;\n",
       "}\n",
       "\n",
       ".xr-attrs dt,\n",
       ".xr-attrs dd {\n",
       "  padding: 0;\n",
       "  margin: 0;\n",
       "  float: left;\n",
       "  padding-right: 10px;\n",
       "  width: auto;\n",
       "}\n",
       "\n",
       ".xr-attrs dt {\n",
       "  font-weight: normal;\n",
       "  grid-column: 1;\n",
       "}\n",
       "\n",
       ".xr-attrs dt:hover span {\n",
       "  display: inline-block;\n",
       "  background: var(--xr-background-color);\n",
       "  padding-right: 10px;\n",
       "}\n",
       "\n",
       ".xr-attrs dd {\n",
       "  grid-column: 2;\n",
       "  white-space: pre-wrap;\n",
       "  word-break: break-all;\n",
       "}\n",
       "\n",
       ".xr-icon-database,\n",
       ".xr-icon-file-text2 {\n",
       "  display: inline-block;\n",
       "  vertical-align: middle;\n",
       "  width: 1em;\n",
       "  height: 1.5em !important;\n",
       "  stroke-width: 0;\n",
       "  stroke: currentColor;\n",
       "  fill: currentColor;\n",
       "}\n",
       "</style><pre class='xr-text-repr-fallback'>&lt;xarray.DataArray &#x27;image&#x27; (y: 10, x: 10, z: 1, channels: 3)&gt;\n",
       "array([[[[0.85654802, 0.37226157, 0.1536129 ]],\n",
       "\n",
       "        [[0.60084041, 0.11967256, 0.36491936]],\n",
       "\n",
       "        [[0.95842918, 0.99546447, 0.77210489]],\n",
       "\n",
       "        [[0.31096151, 0.68766505, 0.70540637]],\n",
       "\n",
       "        [[0.3878417 , 0.64088863, 0.01072764]],\n",
       "\n",
       "        [[0.20905766, 0.5250883 , 0.1637513 ]],\n",
       "\n",
       "        [[0.16590687, 0.83630429, 0.989133  ]],\n",
       "\n",
       "        [[0.55596943, 0.83906973, 0.99032166]],\n",
       "\n",
       "        [[0.14159589, 0.44824561, 0.39257272]],\n",
       "\n",
       "        [[0.08004928, 0.75533017, 0.43377903]]],\n",
       "\n",
       "...\n",
       "\n",
       "       [[[0.2163557 , 0.41402609, 0.31763563]],\n",
       "\n",
       "        [[0.07810839, 0.02983477, 0.34647866]],\n",
       "\n",
       "        [[0.01903415, 0.16548776, 0.72518332]],\n",
       "\n",
       "        [[0.70809124, 0.73858039, 0.31715317]],\n",
       "\n",
       "        [[0.89001946, 0.59383055, 0.12602634]],\n",
       "\n",
       "        [[0.14371866, 0.69309543, 0.17294394]],\n",
       "\n",
       "        [[0.5072927 , 0.99177448, 0.0040076 ]],\n",
       "\n",
       "        [[0.0165798 , 0.99308458, 0.58463883]],\n",
       "\n",
       "        [[0.12690998, 0.8973022 , 0.8803803 ]],\n",
       "\n",
       "        [[0.53620041, 0.62179203, 0.27318719]]]])\n",
       "Coordinates:\n",
       "  * z        (z) &lt;U1 &#x27;0&#x27;\n",
       "Dimensions without coordinates: y, x, channels</pre><div class='xr-wrap' style='display:none'><div class='xr-header'><div class='xr-obj-type'>xarray.DataArray</div><div class='xr-array-name'>'image'</div><ul class='xr-dim-list'><li><span>y</span>: 10</li><li><span>x</span>: 10</li><li><span class='xr-has-index'>z</span>: 1</li><li><span>channels</span>: 3</li></ul></div><ul class='xr-sections'><li class='xr-section-item'><div class='xr-array-wrap'><input id='section-4848a386-4067-41dd-a1c3-0c757115d241' class='xr-array-in' type='checkbox' checked><label for='section-4848a386-4067-41dd-a1c3-0c757115d241' title='Show/hide data repr'><svg class='icon xr-icon-database'><use xlink:href='#icon-database'></use></svg></label><div class='xr-array-preview xr-preview'><span>0.8565 0.3723 0.1536 0.6008 0.1197 ... 0.8804 0.5362 0.6218 0.2732</span></div><div class='xr-array-data'><pre>array([[[[0.85654802, 0.37226157, 0.1536129 ]],\n",
       "\n",
       "        [[0.60084041, 0.11967256, 0.36491936]],\n",
       "\n",
       "        [[0.95842918, 0.99546447, 0.77210489]],\n",
       "\n",
       "        [[0.31096151, 0.68766505, 0.70540637]],\n",
       "\n",
       "        [[0.3878417 , 0.64088863, 0.01072764]],\n",
       "\n",
       "        [[0.20905766, 0.5250883 , 0.1637513 ]],\n",
       "\n",
       "        [[0.16590687, 0.83630429, 0.989133  ]],\n",
       "\n",
       "        [[0.55596943, 0.83906973, 0.99032166]],\n",
       "\n",
       "        [[0.14159589, 0.44824561, 0.39257272]],\n",
       "\n",
       "        [[0.08004928, 0.75533017, 0.43377903]]],\n",
       "\n",
       "...\n",
       "\n",
       "       [[[0.2163557 , 0.41402609, 0.31763563]],\n",
       "\n",
       "        [[0.07810839, 0.02983477, 0.34647866]],\n",
       "\n",
       "        [[0.01903415, 0.16548776, 0.72518332]],\n",
       "\n",
       "        [[0.70809124, 0.73858039, 0.31715317]],\n",
       "\n",
       "        [[0.89001946, 0.59383055, 0.12602634]],\n",
       "\n",
       "        [[0.14371866, 0.69309543, 0.17294394]],\n",
       "\n",
       "        [[0.5072927 , 0.99177448, 0.0040076 ]],\n",
       "\n",
       "        [[0.0165798 , 0.99308458, 0.58463883]],\n",
       "\n",
       "        [[0.12690998, 0.8973022 , 0.8803803 ]],\n",
       "\n",
       "        [[0.53620041, 0.62179203, 0.27318719]]]])</pre></div></div></li><li class='xr-section-item'><input id='section-653390a9-8e1a-4b96-bede-7fbe97945a46' class='xr-section-summary-in' type='checkbox'  checked><label for='section-653390a9-8e1a-4b96-bede-7fbe97945a46' class='xr-section-summary' >Coordinates: <span>(1)</span></label><div class='xr-section-inline-details'></div><div class='xr-section-details'><ul class='xr-var-list'><li class='xr-var-item'><div class='xr-var-name'><span class='xr-has-index'>z</span></div><div class='xr-var-dims'>(z)</div><div class='xr-var-dtype'>&lt;U1</div><div class='xr-var-preview xr-preview'>&#x27;0&#x27;</div><input id='attrs-d2913e8b-6042-4301-a459-fc7116d586f3' class='xr-var-attrs-in' type='checkbox' disabled><label for='attrs-d2913e8b-6042-4301-a459-fc7116d586f3' title='Show/Hide attributes'><svg class='icon xr-icon-file-text2'><use xlink:href='#icon-file-text2'></use></svg></label><input id='data-42419be6-f319-4964-b096-df33d463fac7' class='xr-var-data-in' type='checkbox'><label for='data-42419be6-f319-4964-b096-df33d463fac7' title='Show/Hide data repr'><svg class='icon xr-icon-database'><use xlink:href='#icon-database'></use></svg></label><div class='xr-var-attrs'><dl class='xr-attrs'></dl></div><div class='xr-var-data'><pre>array([&#x27;0&#x27;], dtype=&#x27;&lt;U1&#x27;)</pre></div></li></ul></div></li><li class='xr-section-item'><input id='section-1012470a-3016-43ab-b84e-635d50ad1559' class='xr-section-summary-in' type='checkbox' disabled ><label for='section-1012470a-3016-43ab-b84e-635d50ad1559' class='xr-section-summary'  title='Expand/collapse section'>Attributes: <span>(0)</span></label><div class='xr-section-inline-details'></div><div class='xr-section-details'><dl class='xr-attrs'></dl></div></li></ul></div></div>"
      ],
      "text/plain": [
       "<xarray.DataArray 'image' (y: 10, x: 10, z: 1, channels: 3)>\n",
       "array([[[[0.85654802, 0.37226157, 0.1536129 ]],\n",
       "\n",
       "        [[0.60084041, 0.11967256, 0.36491936]],\n",
       "\n",
       "        [[0.95842918, 0.99546447, 0.77210489]],\n",
       "\n",
       "        [[0.31096151, 0.68766505, 0.70540637]],\n",
       "\n",
       "        [[0.3878417 , 0.64088863, 0.01072764]],\n",
       "\n",
       "        [[0.20905766, 0.5250883 , 0.1637513 ]],\n",
       "\n",
       "        [[0.16590687, 0.83630429, 0.989133  ]],\n",
       "\n",
       "        [[0.55596943, 0.83906973, 0.99032166]],\n",
       "\n",
       "        [[0.14159589, 0.44824561, 0.39257272]],\n",
       "\n",
       "        [[0.08004928, 0.75533017, 0.43377903]]],\n",
       "\n",
       "...\n",
       "\n",
       "       [[[0.2163557 , 0.41402609, 0.31763563]],\n",
       "\n",
       "        [[0.07810839, 0.02983477, 0.34647866]],\n",
       "\n",
       "        [[0.01903415, 0.16548776, 0.72518332]],\n",
       "\n",
       "        [[0.70809124, 0.73858039, 0.31715317]],\n",
       "\n",
       "        [[0.89001946, 0.59383055, 0.12602634]],\n",
       "\n",
       "        [[0.14371866, 0.69309543, 0.17294394]],\n",
       "\n",
       "        [[0.5072927 , 0.99177448, 0.0040076 ]],\n",
       "\n",
       "        [[0.0165798 , 0.99308458, 0.58463883]],\n",
       "\n",
       "        [[0.12690998, 0.8973022 , 0.8803803 ]],\n",
       "\n",
       "        [[0.53620041, 0.62179203, 0.27318719]]]])\n",
       "Coordinates:\n",
       "  * z        (z) <U1 '0'\n",
       "Dimensions without coordinates: y, x, channels"
      ]
     },
     "execution_count": 21,
     "metadata": {},
     "output_type": "execute_result"
    }
   ],
   "source": [
    "print(list(img))\n",
    "img[\"image\"]"
   ]
  },
  {
   "cell_type": "markdown",
   "id": "96f91e00",
   "metadata": {},
   "source": [
    "Renaming of image layers is also possible using\n",
    "`squidpy.im.ImageContainer.rename`:"
   ]
  },
  {
   "cell_type": "code",
   "execution_count": 20,
   "id": "f509d5b4",
   "metadata": {},
   "outputs": [
    {
     "data": {
      "text/html": [
       "ImageContainer object with 3 layers:<p style='text-indent: 25px; margin-top: 0px; margin-bottom: 0px;'><strong>image</strong>: <em>y</em> (10), <em>x</em> (10), <em>z</em> (1), <em>channels</em> (3)</p><p style='text-indent: 25px; margin-top: 0px; margin-bottom: 0px;'><strong>seg1</strong>: <em>y</em> (10), <em>x</em> (10), <em>z</em> (1), <em>channels_0</em> (1)</p><p style='text-indent: 25px; margin-top: 0px; margin-bottom: 0px;'><strong>new-name</strong>: <em>y</em> (10), <em>x</em> (10), <em>z</em> (1), <em>channels_1</em> (1)</p>"
      ],
      "text/plain": [
       "ImageContainer[shape=(10, 10), layers=['image', 'new-name', 'seg1']]"
      ]
     },
     "execution_count": 20,
     "metadata": {},
     "output_type": "execute_result"
    }
   ],
   "source": [
    "img.rename(\"seg2\", \"new-name\")\n",
    "img"
   ]
  },
  {
   "cell_type": "code",
   "execution_count": 23,
   "id": "4b874843",
   "metadata": {},
   "outputs": [
    {
     "data": {
      "image/png": "[encoded data removed]",
      "text/plain": [
       "<Figure size 576x576 with 1 Axes>"
      ]
     },
     "metadata": {
      "needs_background": "light"
     },
     "output_type": "display_data"
    }
   ],
   "source": [
    "img.show('seg1')"
   ]
  },
  {
   "cell_type": "markdown",
   "id": "6a91851e",
   "metadata": {},
   "source": [
    "## Processing images and extracting features\n",
    "\n",
    "The main purpose of ImageContainer is to allow efficient image\n",
    "processing, segmentation and features extraction with the functions `sq.im.process`, `sq.im.segment`, `sq.im.extract_features`.\n",
    "\n",
    "These functions are build to be general and flexible. All of them allow\n",
    "you to pass custom processing and feature extraction functions for easy\n",
    "use of external packages with Squidpy.\n",
    "In the following labs we will have a look at how to use them on real ST data.\n",
    "\n",
    "For even more control, you can also use low-level functions provided by\n",
    "`ImageContainer`:\n",
    "\n",
    " -   `sq.im.ImageContainer.apply` for custom processing functions that\n",
    "     should be applied to a specific image layer.\n",
    " -   `sq.im.ImageContainner.feature_custom` for extracting features.\n",
    "\n",
    "There are two generators, that allow you to iterate over a sequence of\n",
    "image crops and apply processing functions to smaller crops (e.g. to\n",
    "allow parallelization or processing images that won\\'t fit in memory:\n",
    "\n",
    " -   `sq.im.ImageContainer.generate_equal_crops`, for evenly\n",
    "     decomposing the image into equally sized crops.\n",
    " -   `sq.im.ImageContainer.generate_spot_crops`, for extracting image\n",
    "     crops for each observation in the associated `adata`."
   ]
  },
  {
   "cell_type": "markdown",
   "id": "c5bed2f3",
   "metadata": {},
   "source": [
    "## Disclaimer\n",
    "We are currently developing a new object for spatial data analysis in Python, which we'll address all limitations of current solutions with AnnData (described here and throughout the other tutorials). You can find a high level overview in this [talk](https://www.youtube.com/watch?v=d-h1aBK5ZH0). We aim to release an alpha version December 2022."
   ]
  }
 ],
 "metadata": {
  "jupytext": {
   "cell_metadata_filter": "-all",
   "executable": "/usr/bin/env python",
   "main_language": "python",
   "notebook_metadata_filter": "-all"
  },
  "kernelspec": {
   "display_name": "Python 3.8.0 ('squidpy')",
   "language": "python",
   "name": "python3"
  },
  "language_info": {
   "codemirror_mode": {
    "name": "ipython",
    "version": 3
   },
   "file_extension": ".py",
   "mimetype": "text/x-python",
   "name": "python",
   "nbconvert_exporter": "python",
   "pygments_lexer": "ipython3",
   "version": "3.8.0"
  },
  "vscode": {
   "interpreter": {
    "hash": "a0a6b074afc567ba1528596f9f9dd46d08c193f976b0910108b9deed7395c48c"
   }
  }
 },
 "nbformat": 4,
 "nbformat_minor": 5
}
