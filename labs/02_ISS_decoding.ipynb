{
 "cells": [
  {
   "cell_type": "markdown",
   "metadata": {},
   "source": [
    "# Lab 02a: ISS decoding \n",
    "\n",
    "## Using starfish pixel spot decoder"
   ]
  },
  {
   "cell_type": "markdown",
   "metadata": {},
   "source": [
    "Once the data is correctly loaded and processed, we are in the position of decoding the actual ISS spots. To this end, we will use again **starfish**, find the original tutorial [here](https://spacetx-starfish.readthedocs.io/en/mcai-api-additions/gallery/tutorials/pixelbased_decoding.html#sphx-glr-gallery-tutorials-pixelbased-decoding-py)."
   ]
  },
  {
   "cell_type": "markdown",
   "metadata": {},
   "source": [
    "We prepared a bigger tile by cropping one of the stitched parts of the raw data. "
   ]
  },
  {
   "cell_type": "code",
   "execution_count": null,
   "metadata": {},
   "outputs": [],
   "source": [
    "import numpy as np\n",
    "import os\n",
    "from starfish import Experiment\n",
    "from starfish.image import Filter\n",
    "from starfish.spots import DetectPixels\n",
    "from starfish.types import Features"
   ]
  },
  {
   "cell_type": "code",
   "execution_count": null,
   "metadata": {},
   "outputs": [],
   "source": [
    "exp = Experiment.from_json(\n",
    "    os.path.join('../data/in_situ_sequencing/SpaceTX', \"experiment.json\")\n",
    ")\n",
    "imgs = exp['fov_001'].get_image('primary')"
   ]
  },
  {
   "cell_type": "markdown",
   "metadata": {},
   "source": [
    "Following the tutorial, first we will apply high and low pass filters."
   ]
  },
  {
   "cell_type": "code",
   "execution_count": null,
   "metadata": {},
   "outputs": [],
   "source": [
    "ghp = Filter.GaussianHighPass(sigma=4)\n",
    "glp = Filter.GaussianLowPass(sigma=.5)\n",
    "ghp.run(imgs, in_place=True)\n",
    "glp.run(imgs, in_place=True)"
   ]
  },
  {
   "cell_type": "markdown",
   "metadata": {},
   "source": [
    "We can already use some kind of decoding to detect the expressed genes. In this case, we will use a pixel spot decoder. This can yield suboptimal results in terms of detection, but we will still use if for simiplicity sake. There are other approaches for performing this such as [bardensr](https://github.com/jacksonloper/bardensr) or [ISTDECO](https://github.com/axanderssonuu/istdeco) that allow decoding with a better performance. \n",
    "\n",
    "There are some hyperparameters that need to be tuned, but the most important input to the function is the **codebook** that contain which combination of rounds and channels (barcode) is translated to a specific gene."
   ]
  },
  {
   "cell_type": "code",
   "execution_count": null,
   "metadata": {},
   "outputs": [],
   "source": [
    "psd = DetectPixels.PixelSpotDecoder(\n",
    "    codebook=exp.codebook,\n",
    "    metric='euclidean',             # distance metric to use for computing distance between a pixel vector and a codeword\n",
    "    norm_order=2,                   # the L_n norm is taken of each pixel vector and codeword before computing the distance. this is n\n",
    "    distance_threshold=0.5,         # minimum distance between a pixel vector and a codeword for it to be called as a gene\n",
    "    magnitude_threshold=1.77e-5,    # discard any pixel vectors below this magnitude\n",
    "    min_area=1,                     # do not call a 'spot' if it's area is below this threshold (measured in pixels)\n",
    "    max_area=np.inf,                # do not call a 'spot' if it's area is above this threshold (measured in pixels)\n",
    ")\n",
    "initial_spot_intensities, prop_results = psd.run(imgs, n_processes=None)"
   ]
  },
  {
   "cell_type": "markdown",
   "metadata": {},
   "source": [
    "These approaches usually yield too many false positives, so it is a good dea to threshold based on random codes included for this purpose."
   ]
  },
  {
   "cell_type": "code",
   "execution_count": null,
   "metadata": {},
   "outputs": [],
   "source": [
    "# filter spots that do not pass thresholds\n",
    "spot_intensities = initial_spot_intensities.loc[initial_spot_intensities[Features.PASSES_THRESHOLDS]]"
   ]
  },
  {
   "cell_type": "markdown",
   "metadata": {},
   "source": [
    "This is how the decoded intensity table looks like:"
   ]
  },
  {
   "cell_type": "code",
   "execution_count": null,
   "metadata": {},
   "outputs": [],
   "source": [
    "spot_intensities"
   ]
  },
  {
   "cell_type": "markdown",
   "metadata": {},
   "source": [
    "# Lab 02b: ISS decoding quality control\n",
    "\n",
    "For this last step, we will use the TissUUmaps **spot inspector** plugin to visually assess the quality of the decoding. You will need to install TissUUmaps for this."
   ]
  },
  {
   "cell_type": "code",
   "execution_count": null,
   "metadata": {},
   "outputs": [],
   "source": [
    "from iss_utils import starfish2tmap"
   ]
  },
  {
   "cell_type": "code",
   "execution_count": null,
   "metadata": {},
   "outputs": [],
   "source": [
    "csv_name = starfish2tmap.qc_csv(experiment=exp,\n",
    "                     spot_intensities=spot_intensities,\n",
    "                     output_path='../results/in_situ_sequencing')\n"
   ]
  },
  {
   "cell_type": "code",
   "execution_count": null,
   "metadata": {},
   "outputs": [],
   "source": [
    "image_names = starfish2tmap.qc_images(imgs, exp, output_path='../results/in_situ_sequencing')"
   ]
  },
  {
   "cell_type": "code",
   "execution_count": null,
   "metadata": {},
   "outputs": [],
   "source": [
    "image_names"
   ]
  },
  {
   "cell_type": "code",
   "execution_count": null,
   "metadata": {},
   "outputs": [],
   "source": [
    "import tissuumaps.jupyter as tm\n",
    "\n",
    "from urllib import request\n",
    "os.makedirs(os.path.join(os.path.expanduser(\"~\"), \".tissuumaps\", \"plugins\"), exist_ok = True)\n",
    "for ext in [\".py\",\".js\",\".yml\"]:\n",
    "    request.urlretrieve(\n",
    "        \"https://tissuumaps.github.io/TissUUmaps/plugins/Spot_Inspector\" + ext,\n",
    "        os.path.join(os.path.expanduser(\"~\"), \".tissuumaps\", \"plugins\", 'Spot_Inspector' + ext)\n",
    "    )"
   ]
  },
  {
   "cell_type": "code",
   "execution_count": null,
   "metadata": {
    "scrolled": false
   },
   "outputs": [],
   "source": [
    "tm.loaddata(images=image_names,csvFiles= csv_name, plugins=[\"Spot_Inspector\"])"
   ]
  }
 ],
 "metadata": {
  "interpreter": {
   "hash": "56da8c84684b12a7b9d87f675c64cfab9b7838526e562de4bb2040c16d55d19a"
  },
  "kernelspec": {
   "display_name": "Python 3.9.13 ('spatial2022_2')",
   "language": "python",
   "name": "python3"
  },
  "language_info": {
   "codemirror_mode": {
    "name": "ipython",
    "version": 3
   },
   "file_extension": ".py",
   "mimetype": "text/x-python",
   "name": "python",
   "nbconvert_exporter": "python",
   "pygments_lexer": "ipython3",
   "version": "3.9.13"
  }
 },
 "nbformat": 4,
 "nbformat_minor": 2
}
