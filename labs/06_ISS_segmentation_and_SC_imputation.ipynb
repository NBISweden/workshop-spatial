{
 "cells": [
  {
   "cell_type": "markdown",
   "id": "53efcef5",
   "metadata": {},
   "source": [
    "The purpose of this tutorial is to segmentend individual ISS cells, to predict the cell type of ISS cells and to impute the expression of genes that were not included in the original gene panel. For this we'll use a pre-trained segmentation algorithm and Tangram to impute the gene expression.\n",
    "\n",
    "This notebook was created by Sergio Marco (sergiomarco.salas@scilifelab.se) and was partially adapted from Tangram tutorials, create dy Tommaso Biancalani <biancalt@gene.com>"
   ]
  },
  {
   "cell_type": "markdown",
   "id": "372e1fc6",
   "metadata": {},
   "source": [
    "## Loading the packages needed"
   ]
  },
  {
   "cell_type": "markdown",
   "id": "9dafd115",
   "metadata": {},
   "source": [
    "The first step is to import the packages that will be used through the tutorial."
   ]
  },
  {
   "cell_type": "code",
   "execution_count": null,
   "id": "33ccc8a9",
   "metadata": {
    "scrolled": true
   },
   "outputs": [],
   "source": [
    "import ISS_postprocessing\n",
    "import scanpy as sc\n",
    "import numpy as np\n",
    "import matplotlib.pyplot as plt\n",
    "import scipy as scp\n",
    "import seaborn as sns"
   ]
  },
  {
   "cell_type": "markdown",
   "id": "44f34e64",
   "metadata": {},
   "source": [
    "# Segment individual cells "
   ]
  },
  {
   "cell_type": "markdown",
   "id": "9a7eb6f5",
   "metadata": {},
   "source": [
    "In previous steps, we have decoded an ISS dataset and, at this point, we should have a .csv containing the location and identity of every read decoded in the tissue. Together with this, we have a reference DAPI staining (stored as a .tif image) that can be used to identify the nuclei of the cells present in the section analyed. The first step is, then, to load and segment the nuclei so that we can identify individual cells"
   ]
  },
  {
   "cell_type": "code",
   "execution_count": 7,
   "id": "ea09d1b3",
   "metadata": {},
   "outputs": [],
   "source": [
    "impath='/media/sergio/Torfajokull/RAW_DATA_EMBO_COURSE/expression_and_DAPI/6_Base_1_stitched-1.tif'"
   ]
  },
  {
   "cell_type": "code",
   "execution_count": 8,
   "id": "33b1690c",
   "metadata": {},
   "outputs": [],
   "source": [
    "im=plt.imread(impath)"
   ]
  },
  {
   "cell_type": "markdown",
   "id": "60a555e7",
   "metadata": {},
   "source": [
    "We segment individual cells using Cell Pose (with pretrained segmentation model) and we'll save the segmentation mask as a .npz file, where the identity of every segmented cell is stored. Since nuclei do not represent the entire cells ,but just the central part of it, we will expand the segmentation masks to include as a part of the cells an are of n pixels arround every detected cell"
   ]
  },
  {
   "cell_type": "code",
   "execution_count": null,
   "id": "10a664e2",
   "metadata": {},
   "outputs": [
    {
     "name": "stdout",
     "output_type": "stream",
     "text": [
      "processing 1 image(s)\n"
     ]
    }
   ],
   "source": [
    "coo_matrix=ISS_postprocessing.segmentation.cell_pose_segemenation_to_coo(im, 10, 10)"
   ]
  },
  {
   "cell_type": "code",
   "execution_count": null,
   "id": "b1766bfd",
   "metadata": {},
   "outputs": [],
   "source": [
    "segmentation_path='/media/sergio/Torfajokull/RAW_DATA_EMBO_COURSE/expression_and_DAPI/'\n",
    "scp.sparse.save_spz(segmentation_path+'stardist_segmentation_expanded.npz',coo_matrix)"
   ]
  },
  {
   "cell_type": "markdown",
   "id": "6935b2db",
   "metadata": {},
   "source": [
    "After this, we'll couple the segmentation mask we've just obtained with the .csv file that contains the decoded spots, so that we can assign every individual spots to the cells they belong to, based on the segmentation mask. We will store the output of the segmenatation in an annotated data object (anndata), keeping the expression of every cell as well as the position of its centroid"
   ]
  },
  {
   "cell_type": "code",
   "execution_count": null,
   "id": "51214dce",
   "metadata": {},
   "outputs": [],
   "source": [
    "adata_sp = ISS_postprocessing.annotated_objects.create_anndata_obj(spots_file = sample_path+'/decoded.csv', \n",
    "            segmentation_mask = segmentation_path_path+'stardist_segmentation_expanded.npz',#'cell_segmentation/cellpose_segmentation_expanded_2.npz' \n",
    "            output_file = sample_path+'/anndata_stardist.h5ad',\n",
    "            filter_data=False, \n",
    "            metric = 'distance', \n",
    "            write_h5ad = True,\n",
    "            value=  0.4,\n",
    "            convert_coords = True, \n",
    "            conversion_factor = 1)"
   ]
  },
  {
   "cell_type": "code",
   "execution_count": null,
   "id": "deb24548",
   "metadata": {},
   "outputs": [],
   "source": [
    "adata_sp.write(path+'segmented_ISS.h5ad')"
   ]
  },
  {
   "cell_type": "markdown",
   "id": "82c4f188",
   "metadata": {},
   "source": [
    "# Reading scRNAseq dataset "
   ]
  },
  {
   "cell_type": "markdown",
   "id": "052ed9ea",
   "metadata": {},
   "source": [
    "We first read the scRNAseq dataset that we will integrate with our spatial (ISS) dataset. It's important that both datasets represent the same tissue/patient, since these integration methods assume that the cell type composition in the spatial dataset and the scRNAseq dataset are comparable."
   ]
  },
  {
   "cell_type": "code",
   "execution_count": null,
   "id": "eab12c3c",
   "metadata": {},
   "outputs": [],
   "source": [
    "adata_sc=sc.read()"
   ]
  },
  {
   "cell_type": "markdown",
   "id": "9853a429",
   "metadata": {},
   "source": [
    " Here, we only do some light pre-processing as library size correction (in scanpy, via `sc.pp.normalize`) to normalize the number of count within each cell to a fixed number. Sometimes, we apply more sophisticated pre-processing methods, for example for batch correction, although mapping works great with raw data. Ideally, the single cell and spatial datasets, should exhibit signals as similar as possible and the pre-processing pipeline should be finalized to harmonize the signals."
   ]
  },
  {
   "cell_type": "code",
   "execution_count": null,
   "id": "398ace28",
   "metadata": {},
   "outputs": [],
   "source": [
    "sc.pp.normalize_total(ad_sc)\n",
    "sc.pp.normalize_total(ad_sp)"
   ]
  },
  {
   "cell_type": "markdown",
   "id": "820da471",
   "metadata": {},
   "source": [
    "It is a good idea to have annotations in the single cell data, as they will be projected on space after we map. In this case, cell types are annotated in the `subclass_label` field, for which we plot cell counts. "
   ]
  },
  {
   "cell_type": "code",
   "execution_count": null,
   "id": "97b1e77c",
   "metadata": {},
   "outputs": [],
   "source": [
    "adata.obs"
   ]
  },
  {
   "cell_type": "markdown",
   "id": "7f2ba2ac",
   "metadata": {},
   "source": [
    "Tangram learns a spatial alignment of the single cell data so that  _the gene expression of the aligned single cell data is as similar as possible to that of the spatial data. In doing this, Tangram only looks at a subset genes, specified by the user, called the training genes.\n",
    "- The choice of the training genes is a delicate step for mapping: they need to bear interesting signals and to be measured with high quality.\n",
    "- For untargeted methods such as ST, a good start is to choose 100-1000 top marker genes, evenly stratified across cell types. In ISS experiements like these, where genes were selected for being good markers of different cell types, we can use all the genes that presented a reasonable expression"
   ]
  },
  {
   "cell_type": "markdown",
   "id": "4f13f40f",
   "metadata": {},
   "source": [
    "## Preparing the datasets"
   ]
  },
  {
   "cell_type": "markdown",
   "id": "c0563068",
   "metadata": {},
   "source": [
    "We now need to prepare the datasets for mapping: the two `AnnData` structures need to be subset on the list of training genes. First, we build a list of marker genes present at the spatial anndata object which are also present in the scRNAseq anndata object. \n"
   ]
  },
  {
   "cell_type": "code",
   "execution_count": null,
   "id": "558fab98",
   "metadata": {},
   "outputs": [],
   "source": [
    "markers=np.unique(adata_sp.var.index[adata_sp.var.index.isin(adata_sp.var.index)])\n",
    "len(markers)"
   ]
  },
  {
   "cell_type": "markdown",
   "id": "7ff770c7",
   "metadata": {},
   "source": [
    "Since we want to keep information about the expression of other genes detected in scRNAseq, we save this information in .raw"
   ]
  },
  {
   "cell_type": "code",
   "execution_count": null,
   "id": "65f9a0fc",
   "metadata": {},
   "outputs": [],
   "source": [
    "adata_sc.raw=adata_sc"
   ]
  },
  {
   "cell_type": "markdown",
   "id": "768da95a",
   "metadata": {},
   "source": [
    "Also, the gene order needs to be the same in the datasets. This is because Tangram maps using only gene expression, so the $j$-th column in each matrix must correspond to the same gene.And if data entries of a gene are all zero, this gene will be removed.This task is performed by the helper `pp_adatas`."
   ]
  },
  {
   "cell_type": "code",
   "execution_count": null,
   "id": "1c241f2c",
   "metadata": {},
   "outputs": [],
   "source": [
    "ad_sc, ad_sp = tg.pp_adatas(ad_sc, ad_sp, genes=markers)"
   ]
  },
  {
   "cell_type": "markdown",
   "id": "ec8d3a86",
   "metadata": {},
   "source": [
    "We now check that both object have the same gene names in the same order"
   ]
  },
  {
   "cell_type": "code",
   "execution_count": null,
   "id": "2788ad0d",
   "metadata": {},
   "outputs": [],
   "source": [
    "assert ad_sc.var.index.equals(ad_sp.var.index)"
   ]
  },
  {
   "cell_type": "markdown",
   "id": "f898c46a",
   "metadata": {},
   "source": [
    "Ideally, at this point we'd like to save the adata objects and potentially restart the kernel"
   ]
  },
  {
   "cell_type": "code",
   "execution_count": null,
   "id": "4099a278",
   "metadata": {},
   "outputs": [],
   "source": [
    "ad_sc.write_h5ad('J:/HDCA_LUNG_Test3/Decoded_files/ad_sc_readytomap_pcw13PCISEQ.h5ad')\n",
    "ad_sp.write_h5ad('J:/HDCA_LUNG_Test3/Decoded_files/ad_sp_readytomap_pcw13PCISEQ.h5ad')"
   ]
  },
  {
   "cell_type": "markdown",
   "id": "5c7aa050",
   "metadata": {},
   "source": [
    "# Mapping cells to space"
   ]
  },
  {
   "cell_type": "code",
   "execution_count": null,
   "id": "99bc6874",
   "metadata": {},
   "outputs": [],
   "source": [
    "import os, sys\n",
    "import numpy as np\n",
    "import pandas as pd\n",
    "import matplotlib.pyplot as plt\n",
    "import scanpy as sc\n",
    "import torch\n",
    "import tangram as tg"
   ]
  },
  {
   "cell_type": "markdown",
   "id": "7fcf3d15",
   "metadata": {},
   "source": [
    "We now read the anndata objects that we just saved on the previous step (in case we need to read it)"
   ]
  },
  {
   "cell_type": "code",
   "execution_count": null,
   "id": "e0a63afd",
   "metadata": {},
   "outputs": [],
   "source": [
    "ad_sp = sc.read_h5ad('J:/HDCA_LUNG_Test3/Decoded_files/ad_sp_readytomap_pcw13PCISEQ.h5ad')\n",
    "ad_sc = sc.read_h5ad('J:/HDCA_LUNG_Test3/Decoded_files/ad_sc_readytomap_pcw13PCISEQ.h5ad')"
   ]
  },
  {
   "cell_type": "markdown",
   "id": "dc699b36",
   "metadata": {},
   "source": [
    "We can now train the model (_ie_ map the single cell data onto space).\n",
    "- Mapping should be interrupted after the score plateaus,which can be controlled by passing the `num_epochs` parameter. \n",
    "- The score measures the similarity between the gene expression of the mapped cells vs spatial data: higher score means better mapping\n",
    "- Note that we obtained excellent mapping even if Tangram converges to a low scores (the typical case is when the spatial data are very sparse): we use the score merely to assess convergence.\n",
    "- If you are running Tangram with a GPU, uncomment `device=cuda:0` and comment the line `device=cpu`. On a MacBook Pro 2018, it takes ~1h to run. On a P100 GPU it should be done in a few minutes.\n",
    "- For this basic mapping, we do not use regularizers. More sophisticated loss functions can be used using the Tangram library (refer to manuscript or dive into the code).\n",
    "- We can map at cluster-level single cell data instead of cell level data (refer to manuscript or dive into the code), which is faster and requires less memory. In this notebook, we are mapping at individual cell level."
   ]
  },
  {
   "cell_type": "code",
   "execution_count": null,
   "id": "51d76c7a",
   "metadata": {},
   "outputs": [],
   "source": [
    "ad_map = tg.map_cells_to_space(\n",
    "    adata_cells=ad_sc,\n",
    "    adata_space=ad_sp,\n",
    "    device='cpu',num_epochs=500\n",
    "    # device='cuda:0',\n",
    ")"
   ]
  },
  {
   "cell_type": "markdown",
   "id": "cff4ab1a",
   "metadata": {},
   "source": [
    "The mapping results are stored in the returned `AnnData` structure, saved as `ad_map`, structured as following:\n",
    "\n",
    "  - The cell-by-spot matrix `X` contains the probability of cell $i$ to be in spot $j$.\n",
    "  - The `obs` dataframe contains the metadata of the single cells.\n",
    "  - The `var` dataframe contains the metadata of the spatial data.\n",
    "  - The `uns` dictionary contains a dataframe with various information about the training genes (saved ad `train_genes_df`).\n",
    "  \n",
    "  \n",
    "  We can also plot some quality scores that can give us an overview of the quality of our integration\n",
    "    \n"
   ]
  },
  {
   "cell_type": "code",
   "execution_count": null,
   "id": "13380777",
   "metadata": {},
   "outputs": [],
   "source": [
    "tg.plot_training_scores(ad_map, bins=50, alpha=.5)"
   ]
  },
  {
   "cell_type": "markdown",
   "id": "66b357f6",
   "metadata": {},
   "source": [
    "- Although the above plots give us a summary of scores at single-gene level, we would need to know _which_ are the genes are mapped with low scores.\n",
    "- These information can be access from the dataframe `.uns['train_genes_df']` from the mapping results; this is the dataframe used to build the four plots above."
   ]
  },
  {
   "cell_type": "code",
   "execution_count": null,
   "id": "505c73d1",
   "metadata": {},
   "outputs": [],
   "source": [
    "ad_map.uns['train_genes_df']"
   ]
  },
  {
   "cell_type": "markdown",
   "id": "44295055",
   "metadata": {},
   "source": [
    "We can now save the mapping results for post-analysis."
   ]
  },
  {
   "cell_type": "code",
   "execution_count": null,
   "id": "eacfeb88",
   "metadata": {},
   "outputs": [],
   "source": [
    "ad_map.write_h5ad('C:/Users/sergio.salas/Documents/Jupyter_notebooks/ad_mapALLSUBSET_pcw13_pciseq.h5ad')"
   ]
  },
  {
   "cell_type": "markdown",
   "id": "d13f3e93",
   "metadata": {},
   "source": [
    "# Exploring the cell type annotation"
   ]
  },
  {
   "cell_type": "code",
   "execution_count": null,
   "id": "969d3172",
   "metadata": {},
   "outputs": [],
   "source": [
    "ad_map=sc.read_h5ad('C:/Users/sergio.salas/Documents/Jupyter_notebooks/ad_mapALLSUBSET_pcw13_pciseq.h5ad')"
   ]
  },
  {
   "cell_type": "markdown",
   "id": "64732ac1",
   "metadata": {},
   "source": [
    "Tangram can be used to project cell type annotations (from scRNAseq) into the space by giving a probability to each cell capture with ISS to belong to a specific cell type (ie. cell typing). Thus, we can plot the cell type identity into space to explore their location"
   ]
  },
  {
   "cell_type": "code",
   "execution_count": null,
   "id": "8395ca61",
   "metadata": {},
   "outputs": [],
   "source": [
    "tg.plot_cell_annotation(ad_map, annotation='subclass_label', nrows=6, ncols=5)"
   ]
  },
  {
   "cell_type": "code",
   "execution_count": null,
   "id": "6db568c8",
   "metadata": {},
   "outputs": [],
   "source": []
  },
  {
   "cell_type": "code",
   "execution_count": null,
   "id": "4908e264",
   "metadata": {},
   "outputs": [],
   "source": []
  },
  {
   "cell_type": "markdown",
   "id": "86a34a29",
   "metadata": {},
   "source": [
    "# Imputing the expression of genes into space"
   ]
  },
  {
   "cell_type": "markdown",
   "id": "55163bbb",
   "metadata": {},
   "source": [
    "With Tangram, since the datasets from both modalities are integrated, we can impute the expression of genes not included in the ISS panel, but present in the scRNAseq dataset. This is done by averaging the expression of the scRNAseq cells found to be similar to each ISS cell after training. To obtain this expression patterns, we first need to compute:"
   ]
  },
  {
   "cell_type": "code",
   "execution_count": null,
   "id": "9d31bb7e",
   "metadata": {},
   "outputs": [],
   "source": [
    "ad_sc_raw=ad_sc.raw()"
   ]
  },
  {
   "cell_type": "code",
   "execution_count": null,
   "id": "25114104",
   "metadata": {},
   "outputs": [],
   "source": [
    "ad_ge = tg.project_genes(adata_map=ad_map, adata_sc=ad_sc_raw)"
   ]
  },
  {
   "cell_type": "markdown",
   "id": "541334ee",
   "metadata": {},
   "source": [
    "With `project genes` we generate a new anndata object containing the imputed expression of each scRNAseq gene in space. Remember to use the .raw expression from the `ad_sc` object, since these object contains the expression of all genes, instead of only the common ones"
   ]
  },
  {
   "cell_type": "markdown",
   "id": "6c0816ca",
   "metadata": {},
   "source": [
    "It is convenient to compute the similarity scores of all genes, which can be done by `compare_spatial_geneexp`. This function accepts two spatial `AnnData`s (_ie_ voxel-by-gene), and returns a dataframe with simlarity scores for all genes. Training genes are flagged by the Boolean field `is_training`."
   ]
  },
  {
   "cell_type": "code",
   "execution_count": null,
   "id": "6e11801c",
   "metadata": {},
   "outputs": [],
   "source": [
    "df_all_genes = tg.compare_spatial_geneexp(ad_ge, ad_sp)\n",
    "df_all_genes"
   ]
  },
  {
   "cell_type": "markdown",
   "id": "3be8a143",
   "metadata": {},
   "source": [
    "We can plot the scores of the test genes and see how they compare to the training genes. Following the strategy in the previous plots, we visualize the scores as a function of the sparsity of the spatial data."
   ]
  },
  {
   "cell_type": "code",
   "execution_count": null,
   "id": "a23ef573",
   "metadata": {},
   "outputs": [],
   "source": [
    "sns.scatterplot(data=df_all_genes, x='score', y='sparsity_2', hue='is_training', alpha=.5);"
   ]
  },
  {
   "cell_type": "markdown",
   "id": "d0e72da4",
   "metadata": {},
   "source": [
    "Usually sparser genes in the spatial data are predicted with low scores, which is due to the presence of dropouts in the spatial data.\n",
    "- Let's choose a few test genes with varied scores and compared predictions vs measured gene expression."
   ]
  },
  {
   "cell_type": "code",
   "execution_count": null,
   "id": "c25f7990",
   "metadata": {},
   "outputs": [],
   "source": [
    "genes=['EPCAM','MYH11']\n",
    "tg.plot_genes(genes, adata_measured=ad_sp, adata_predicted=ad_ge,s=1)"
   ]
  },
  {
   "cell_type": "code",
   "execution_count": null,
   "id": "d0209d24",
   "metadata": {},
   "outputs": [],
   "source": [
    "genes=['EPCAM','MYH11']\n",
    "tg.plot_genes(genes, adata_measured=ad_sp, adata_predicted=ad_ge,s=1)"
   ]
  }
 ],
 "metadata": {
  "kernelspec": {
   "display_name": "ISS_postprocessing",
   "language": "python",
   "name": "iss_postprocessing"
  },
  "language_info": {
   "codemirror_mode": {
    "name": "ipython",
    "version": 3
   },
   "file_extension": ".py",
   "mimetype": "text/x-python",
   "name": "python",
   "nbconvert_exporter": "python",
   "pygments_lexer": "ipython3",
   "version": "3.8.13"
  }
 },
 "nbformat": 4,
 "nbformat_minor": 5
}
