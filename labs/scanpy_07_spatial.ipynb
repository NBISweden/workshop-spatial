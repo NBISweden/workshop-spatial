{
 "cells": [
  {
   "cell_type": "markdown",
   "metadata": {},
   "source": [
    "#ST_TITLE:\n",
    "\n",
    "Adapted from tutorials by Giovanni Palla (https://scanpy-tutorials.readthedocs.io/en/latest/spatial/integration-scanorama.html) and Carlos Talavera-López (https://docs.scvi-tools.org/en/latest/tutorials/notebooks/stereoscope_heart_LV_tutorial.html)\n",
    "\n",
    "**OBS!** For this tutorial you must create and use a new conda environment `python_spatial`. The recipe can be found at: https://raw.githubusercontent.com/NBISweden/workshop-scRNAseq/master/labs/environment_python_spatial.yml\n",
    "\n",
    "#ST_ALL1:\n",
    "\n",
    "#ST_TITLE1:"
   ]
  },
  {
   "cell_type": "code",
   "execution_count": null,
   "metadata": {
    "execution": {
     "iopub.execute_input": "2022-01-11T16:05:16.977541Z",
     "iopub.status.busy": "2022-01-11T16:05:16.976788Z",
     "iopub.status.idle": "2022-01-11T16:05:21.124856Z",
     "shell.execute_reply": "2022-01-11T16:05:21.125360Z"
    }
   },
   "outputs": [],
   "source": [
    "import warnings\n",
    "warnings.simplefilter(action='ignore', category=FutureWarning)\n",
    "\n",
    "import scanpy as sc\n",
    "import anndata as an\n",
    "import pandas as pd\n",
    "import numpy as np\n",
    "import matplotlib as mpl\n",
    "import matplotlib.pyplot as plt\n",
    "import seaborn as sns\n",
    "import scanorama"
   ]
  },
  {
   "cell_type": "code",
   "execution_count": null,
   "metadata": {
    "execution": {
     "iopub.execute_input": "2022-01-11T16:05:21.130692Z",
     "iopub.status.busy": "2022-01-11T16:05:21.129924Z",
     "iopub.status.idle": "2022-01-11T16:05:21.131742Z",
     "shell.execute_reply": "2022-01-11T16:05:21.132198Z"
    }
   },
   "outputs": [],
   "source": [
    "#sc.logging.print_versions() # gives errror!!\n",
    "sc.set_figure_params(facecolor=\"white\", figsize=(8, 8))\n",
    "sc.settings.verbosity = 3"
   ]
  },
  {
   "cell_type": "markdown",
   "metadata": {},
   "source": [
    "#ST_TITLE2:\n",
    "\n",
    "The function `datasets.visium_sge()` downloads the dataset from 10x genomics and returns an AnnData object that contains counts, images and spatial coordinates. We will calculate standards QC metrics with `pp.calculate_qc_metrics` and visualize them.\n",
    "\n",
    "When using your own Visium data, use Scanpy's `read_visium()` [function](https://icb-scanpy.readthedocs-hosted.com/en/latest/api/scanpy.read_visium.html) to import it.\n"
   ]
  },
  {
   "cell_type": "code",
   "execution_count": null,
   "metadata": {
    "execution": {
     "iopub.execute_input": "2022-01-11T16:05:21.136673Z",
     "iopub.status.busy": "2022-01-11T16:05:21.136009Z",
     "iopub.status.idle": "2022-01-11T16:05:23.983754Z",
     "shell.execute_reply": "2022-01-11T16:05:23.984337Z"
    }
   },
   "outputs": [],
   "source": [
    "adata_anterior = sc.datasets.visium_sge(\n",
    "    sample_id=\"V1_Mouse_Brain_Sagittal_Anterior\"\n",
    ")\n",
    "adata_posterior = sc.datasets.visium_sge(\n",
    "    sample_id=\"V1_Mouse_Brain_Sagittal_Posterior\"\n",
    ")"
   ]
  },
  {
   "cell_type": "code",
   "execution_count": null,
   "metadata": {
    "execution": {
     "iopub.execute_input": "2022-01-11T16:05:23.994209Z",
     "iopub.status.busy": "2022-01-11T16:05:23.993382Z",
     "iopub.status.idle": "2022-01-11T16:05:24.008242Z",
     "shell.execute_reply": "2022-01-11T16:05:24.009145Z"
    }
   },
   "outputs": [],
   "source": [
    "adata_anterior.var_names_make_unique()\n",
    "adata_posterior.var_names_make_unique()\n"
   ]
  },
  {
   "cell_type": "markdown",
   "metadata": {},
   "source": [
    "To make sure that both images are included in the merged object, use `uns_merge=\"unique\"`. "
   ]
  },
  {
   "cell_type": "code",
   "execution_count": null,
   "metadata": {
    "execution": {
     "iopub.execute_input": "2022-01-11T16:05:24.015406Z",
     "iopub.status.busy": "2022-01-11T16:05:24.014499Z",
     "iopub.status.idle": "2022-01-11T16:05:24.367667Z",
     "shell.execute_reply": "2022-01-11T16:05:24.368317Z"
    }
   },
   "outputs": [],
   "source": [
    "# merge into one dataset\n",
    "library_names = [\"V1_Mouse_Brain_Sagittal_Anterior\", \"V1_Mouse_Brain_Sagittal_Posterior\"]\n",
    "\n",
    "adata = adata_anterior.concatenate(\n",
    "    adata_posterior,\n",
    "    batch_key=\"library_id\",\n",
    "    uns_merge=\"unique\",\n",
    "    batch_categories=library_names\n",
    ")"
   ]
  },
  {
   "cell_type": "code",
   "execution_count": null,
   "metadata": {
    "execution": {
     "iopub.execute_input": "2022-01-11T16:05:24.377141Z",
     "iopub.status.busy": "2022-01-11T16:05:24.376105Z",
     "iopub.status.idle": "2022-01-11T16:05:24.380061Z",
     "shell.execute_reply": "2022-01-11T16:05:24.380694Z"
    }
   },
   "outputs": [],
   "source": [
    "adata"
   ]
  },
  {
   "cell_type": "markdown",
   "metadata": {},
   "source": [
    "As you can see, we now have the slot `spatial` in `obsm`, which contains the spatial information from the Visium platform."
   ]
  },
  {
   "cell_type": "markdown",
   "metadata": {},
   "source": [
    "#ST_TITLE3:\n",
    "\n",
    "#ST_ALL3:"
   ]
  },
  {
   "cell_type": "code",
   "execution_count": null,
   "metadata": {
    "execution": {
     "iopub.execute_input": "2022-01-11T16:05:24.388416Z",
     "iopub.status.busy": "2022-01-11T16:05:24.387576Z",
     "iopub.status.idle": "2022-01-11T16:05:25.546371Z",
     "shell.execute_reply": "2022-01-11T16:05:25.545804Z"
    }
   },
   "outputs": [],
   "source": [
    "# add info on mitochondrial and hemoglobin genes to the objects.\n",
    "adata.var['mt'] = adata.var_names.str.startswith('mt-') \n",
    "adata.var['hb'] = adata.var_names.str.contains((\"^Hb.*-\"))\n",
    "\n",
    "sc.pp.calculate_qc_metrics(adata, qc_vars=['mt','hb'], percent_top=None, log1p=False, inplace=True)\n",
    "\n"
   ]
  },
  {
   "cell_type": "code",
   "execution_count": null,
   "metadata": {
    "execution": {
     "iopub.execute_input": "2022-01-11T16:05:25.556988Z",
     "iopub.status.busy": "2022-01-11T16:05:25.556148Z",
     "iopub.status.idle": "2022-01-11T16:05:27.778815Z",
     "shell.execute_reply": "2022-01-11T16:05:27.779404Z"
    }
   },
   "outputs": [],
   "source": [
    "sc.pl.violin(adata, ['n_genes_by_counts', 'total_counts', 'pct_counts_mt', 'pct_counts_hb'],\n",
    "             jitter=0.4, groupby = 'library_id', rotation= 45)"
   ]
  },
  {
   "cell_type": "markdown",
   "metadata": {},
   "source": [
    "#ST_ALL3.1:\n",
    "\n",
    "In scanpy, this is a bit tricky when you have multiple sections, as you would have to subset and plot them separately."
   ]
  },
  {
   "cell_type": "code",
   "execution_count": null,
   "metadata": {
    "execution": {
     "iopub.execute_input": "2022-01-11T16:05:27.785732Z",
     "iopub.status.busy": "2022-01-11T16:05:27.784904Z",
     "iopub.status.idle": "2022-01-11T16:05:39.405111Z",
     "shell.execute_reply": "2022-01-11T16:05:39.404622Z"
    }
   },
   "outputs": [],
   "source": [
    "# need to plot the two sections separately and specify the library_id\n",
    "\n",
    "for library in library_names:\n",
    "    sc.pl.spatial(adata[adata.obs.library_id == library,:], library_id=library, color = [\"total_counts\", \"n_genes_by_counts\",'pct_counts_mt', 'pct_counts_hb'])\n",
    "\n"
   ]
  },
  {
   "cell_type": "markdown",
   "metadata": {},
   "source": [
    "#ST_ALL3.2:\n",
    "\n",
    "#ST_TITLE4:\n",
    "\n",
    "#ST_ALL4:\n",
    "\n"
   ]
  },
  {
   "cell_type": "code",
   "execution_count": null,
   "metadata": {
    "execution": {
     "iopub.execute_input": "2022-01-11T16:05:39.411400Z",
     "iopub.status.busy": "2022-01-11T16:05:39.410563Z",
     "iopub.status.idle": "2022-01-11T16:05:39.418293Z",
     "shell.execute_reply": "2022-01-11T16:05:39.418777Z"
    }
   },
   "outputs": [],
   "source": [
    "keep = (adata.obs['pct_counts_hb'] < 20) & (adata.obs['pct_counts_mt'] < 25) & (adata.obs['n_genes_by_counts'] > 1000)\n",
    "print(sum(keep))\n",
    "\n",
    "adata = adata[keep,:]"
   ]
  },
  {
   "cell_type": "markdown",
   "metadata": {},
   "source": [
    "And replot onto tissue sections."
   ]
  },
  {
   "cell_type": "code",
   "execution_count": null,
   "metadata": {
    "execution": {
     "iopub.execute_input": "2022-01-11T16:05:39.424163Z",
     "iopub.status.busy": "2022-01-11T16:05:39.423526Z",
     "iopub.status.idle": "2022-01-11T16:05:47.474623Z",
     "shell.execute_reply": "2022-01-11T16:05:47.475008Z"
    }
   },
   "outputs": [],
   "source": [
    "for library in library_names:\n",
    "    sc.pl.spatial(adata[adata.obs.library_id == library,:], library_id=library, color = [\"total_counts\", \"n_genes_by_counts\",'pct_counts_mt', 'pct_counts_hb'])\n"
   ]
  },
  {
   "cell_type": "markdown",
   "metadata": {},
   "source": [
    "### Top expressed genes"
   ]
  },
  {
   "cell_type": "code",
   "execution_count": null,
   "metadata": {
    "execution": {
     "iopub.execute_input": "2022-01-11T16:05:47.480523Z",
     "iopub.status.busy": "2022-01-11T16:05:47.479224Z",
     "iopub.status.idle": "2022-01-11T16:05:49.299251Z",
     "shell.execute_reply": "2022-01-11T16:05:49.299639Z"
    }
   },
   "outputs": [],
   "source": [
    "sc.pl.highest_expr_genes(adata, n_top=20)"
   ]
  },
  {
   "cell_type": "markdown",
   "metadata": {},
   "source": [
    "#ST_ALL5:\n",
    "\n",
    "#ST_TITLE6:\n"
   ]
  },
  {
   "cell_type": "code",
   "execution_count": null,
   "metadata": {
    "execution": {
     "iopub.execute_input": "2022-01-11T16:05:49.400660Z",
     "iopub.status.busy": "2022-01-11T16:05:49.308048Z",
     "iopub.status.idle": "2022-01-11T16:05:49.410268Z",
     "shell.execute_reply": "2022-01-11T16:05:49.410663Z"
    }
   },
   "outputs": [],
   "source": [
    "mito_genes = adata.var_names.str.startswith('mt-')\n",
    "hb_genes = adata.var_names.str.contains('^Hb.*-')\n",
    "\n",
    "remove = np.add(mito_genes, hb_genes)\n",
    "remove[adata.var_names == \"Bc1\"] = True\n",
    "keep = np.invert(remove)\n",
    "print(sum(remove))\n",
    "\n",
    "adata = adata[:,keep]\n",
    "\n",
    "print(adata.n_obs, adata.n_vars)"
   ]
  },
  {
   "cell_type": "markdown",
   "metadata": {},
   "source": [
    "#ST_TITLE7:\n",
    "\n",
    "As we have two sections, we will select variable genes with `batch_key=\"library_id\"` and then take the union of variable genes for further analysis. The idea is to avoid including batch specific genes in the analysis.\n"
   ]
  },
  {
   "cell_type": "code",
   "execution_count": null,
   "metadata": {
    "execution": {
     "iopub.execute_input": "2022-01-11T16:05:49.415583Z",
     "iopub.status.busy": "2022-01-11T16:05:49.414952Z",
     "iopub.status.idle": "2022-01-11T16:05:55.435192Z",
     "shell.execute_reply": "2022-01-11T16:05:55.434604Z"
    }
   },
   "outputs": [],
   "source": [
    "# save the counts to a separate object for later, we need the normalized counts in raw for DEG dete\n",
    "counts_adata = adata.copy()\n",
    "\n",
    "sc.pp.normalize_total(adata, inplace=True)\n",
    "sc.pp.log1p(adata)\n",
    "# take 1500 variable genes per batch and then use the union of them.\n",
    "sc.pp.highly_variable_genes(adata, flavor=\"seurat\", n_top_genes=1500, inplace=True, batch_key=\"library_id\")\n",
    "\n",
    "# subset for variable genes\n",
    "adata.raw = adata\n",
    "adata = adata[:,adata.var.highly_variable_nbatches > 0]\n",
    "\n",
    "# scale data\n",
    "sc.pp.scale(adata)"
   ]
  },
  {
   "cell_type": "markdown",
   "metadata": {},
   "source": [
    "#ST_ALL7:"
   ]
  },
  {
   "cell_type": "code",
   "execution_count": null,
   "metadata": {
    "execution": {
     "iopub.execute_input": "2022-01-11T16:05:55.443706Z",
     "iopub.status.busy": "2022-01-11T16:05:55.441848Z",
     "iopub.status.idle": "2022-01-11T16:06:00.111625Z",
     "shell.execute_reply": "2022-01-11T16:06:00.112367Z"
    }
   },
   "outputs": [],
   "source": [
    "for library in library_names:\n",
    "    sc.pl.spatial(adata[adata.obs.library_id == library,:], library_id=library, color = [\"Ttr\", \"Hpca\"])\n"
   ]
  },
  {
   "cell_type": "markdown",
   "metadata": {},
   "source": [
    "#ST_ALL7.1:"
   ]
  },
  {
   "cell_type": "code",
   "execution_count": null,
   "metadata": {
    "execution": {
     "iopub.execute_input": "2022-01-11T16:06:00.117651Z",
     "iopub.status.busy": "2022-01-11T16:06:00.116844Z",
     "iopub.status.idle": "2022-01-11T16:06:16.434098Z",
     "shell.execute_reply": "2022-01-11T16:06:16.434709Z"
    }
   },
   "outputs": [],
   "source": [
    "sc.pp.neighbors(adata)\n",
    "sc.tl.umap(adata)\n",
    "sc.tl.leiden(adata, key_added=\"clusters\")"
   ]
  },
  {
   "cell_type": "markdown",
   "metadata": {},
   "source": [
    "#ST_ALL7.1:"
   ]
  },
  {
   "cell_type": "code",
   "execution_count": null,
   "metadata": {
    "execution": {
     "iopub.execute_input": "2022-01-11T16:06:16.442478Z",
     "iopub.status.busy": "2022-01-11T16:06:16.441860Z",
     "iopub.status.idle": "2022-01-11T16:06:17.103814Z",
     "shell.execute_reply": "2022-01-11T16:06:17.104285Z"
    }
   },
   "outputs": [],
   "source": [
    "sc.pl.umap(\n",
    "    adata, color=[\"clusters\", \"library_id\"], palette=sc.pl.palettes.default_20\n",
    ")"
   ]
  },
  {
   "cell_type": "markdown",
   "metadata": {},
   "source": [
    "As we are plotting the two sections separately, we need to make sure that they get the same colors by fetching cluster colors from a dict."
   ]
  },
  {
   "cell_type": "code",
   "execution_count": null,
   "metadata": {
    "execution": {
     "iopub.execute_input": "2022-01-11T16:06:17.274317Z",
     "iopub.status.busy": "2022-01-11T16:06:17.273677Z",
     "iopub.status.idle": "2022-01-11T16:06:19.799575Z",
     "shell.execute_reply": "2022-01-11T16:06:19.799917Z"
    }
   },
   "outputs": [],
   "source": [
    "clusters_colors = dict(\n",
    "    zip([str(i) for i in range(len(adata.obs.clusters.cat.categories))], adata.uns[\"clusters_colors\"])\n",
    ")\n",
    "\n",
    "fig, axs = plt.subplots(1, 2, figsize=(15, 10))\n",
    "\n",
    "for i, library in enumerate(\n",
    "    [\"V1_Mouse_Brain_Sagittal_Anterior\", \"V1_Mouse_Brain_Sagittal_Posterior\"]\n",
    "):\n",
    "    ad = adata[adata.obs.library_id == library, :].copy()\n",
    "    sc.pl.spatial(\n",
    "        ad,\n",
    "        img_key=\"hires\",\n",
    "        library_id=library,\n",
    "        color=\"clusters\",\n",
    "        size=1.5,\n",
    "        palette=[\n",
    "            v\n",
    "            for k, v in clusters_colors.items()\n",
    "            if k in ad.obs.clusters.unique().tolist()\n",
    "        ],\n",
    "        legend_loc=None,\n",
    "        show=False,\n",
    "        ax=axs[i],\n",
    "    )\n",
    "\n",
    "plt.tight_layout()"
   ]
  },
  {
   "cell_type": "markdown",
   "metadata": {},
   "source": [
    "#ST_TITLE8:\n",
    "\n",
    "#ST_ALL8:\n",
    "\n",
    "We will do a similar integration as in the Data Integration lab, here we will use Scanorama for integration. \n",
    "\n"
   ]
  },
  {
   "cell_type": "code",
   "execution_count": null,
   "metadata": {
    "execution": {
     "iopub.execute_input": "2022-01-11T16:06:19.805258Z",
     "iopub.status.busy": "2022-01-11T16:06:19.804713Z",
     "iopub.status.idle": "2022-01-11T16:06:19.935669Z",
     "shell.execute_reply": "2022-01-11T16:06:19.936039Z"
    }
   },
   "outputs": [],
   "source": [
    "adatas = {}\n",
    "for batch in library_names:\n",
    "    adatas[batch] = adata[adata.obs['library_id'] == batch,]\n",
    "\n",
    "adatas "
   ]
  },
  {
   "cell_type": "code",
   "execution_count": null,
   "metadata": {
    "execution": {
     "iopub.execute_input": "2022-01-11T16:06:19.941996Z",
     "iopub.status.busy": "2022-01-11T16:06:19.941469Z",
     "iopub.status.idle": "2022-01-11T16:06:24.978658Z",
     "shell.execute_reply": "2022-01-11T16:06:24.979093Z"
    }
   },
   "outputs": [],
   "source": [
    "import scanorama\n",
    "\n",
    "#convert to list of AnnData objects\n",
    "adatas = list(adatas.values())\n",
    "\n",
    "# run scanorama.integrate\n",
    "scanorama.integrate_scanpy(adatas, dimred = 50)\n",
    "\n",
    "\n",
    "# Get all the integrated matrices.\n",
    "scanorama_int = [ad.obsm['X_scanorama'] for ad in adatas]\n",
    "\n",
    "# make into one matrix.\n",
    "all_s = np.concatenate(scanorama_int)\n",
    "print(all_s.shape)\n",
    "\n",
    "# add to the AnnData object\n",
    "adata.obsm[\"Scanorama\"] = all_s"
   ]
  },
  {
   "cell_type": "code",
   "execution_count": null,
   "metadata": {
    "execution": {
     "iopub.execute_input": "2022-01-11T16:06:24.983178Z",
     "iopub.status.busy": "2022-01-11T16:06:24.982560Z",
     "iopub.status.idle": "2022-01-11T16:06:24.984994Z",
     "shell.execute_reply": "2022-01-11T16:06:24.985403Z"
    }
   },
   "outputs": [],
   "source": [
    "adata"
   ]
  },
  {
   "cell_type": "markdown",
   "metadata": {},
   "source": [
    "#ST_ALL8.1:"
   ]
  },
  {
   "cell_type": "code",
   "execution_count": null,
   "metadata": {
    "execution": {
     "iopub.execute_input": "2022-01-11T16:06:24.989232Z",
     "iopub.status.busy": "2022-01-11T16:06:24.988684Z",
     "iopub.status.idle": "2022-01-11T16:06:33.854088Z",
     "shell.execute_reply": "2022-01-11T16:06:33.854479Z"
    }
   },
   "outputs": [],
   "source": [
    "sc.pp.neighbors(adata, use_rep=\"Scanorama\")\n",
    "sc.tl.umap(adata)\n",
    "sc.tl.leiden(adata, key_added=\"clusters\")"
   ]
  },
  {
   "cell_type": "code",
   "execution_count": null,
   "metadata": {
    "execution": {
     "iopub.execute_input": "2022-01-11T16:06:33.859057Z",
     "iopub.status.busy": "2022-01-11T16:06:33.858578Z",
     "iopub.status.idle": "2022-01-11T16:06:34.538403Z",
     "shell.execute_reply": "2022-01-11T16:06:34.538820Z"
    }
   },
   "outputs": [],
   "source": [
    "sc.pl.umap(\n",
    "    adata, color=[\"clusters\", \"library_id\"], palette=sc.pl.palettes.default_20\n",
    ")"
   ]
  },
  {
   "cell_type": "markdown",
   "metadata": {},
   "source": [
    "As we have new clusters, we again need to make a new dict for cluster colors"
   ]
  },
  {
   "cell_type": "code",
   "execution_count": null,
   "metadata": {
    "execution": {
     "iopub.execute_input": "2022-01-11T16:06:34.548489Z",
     "iopub.status.busy": "2022-01-11T16:06:34.547942Z",
     "iopub.status.idle": "2022-01-11T16:06:37.417069Z",
     "shell.execute_reply": "2022-01-11T16:06:37.417416Z"
    }
   },
   "outputs": [],
   "source": [
    "clusters_colors = dict(\n",
    "    zip([str(i) for i in range(len(adata.obs.clusters.cat.categories))], adata.uns[\"clusters_colors\"])\n",
    ")\n",
    "\n",
    "\n",
    "fig, axs = plt.subplots(1, 2, figsize=(15, 10))\n",
    "\n",
    "for i, library in enumerate(\n",
    "    [\"V1_Mouse_Brain_Sagittal_Anterior\", \"V1_Mouse_Brain_Sagittal_Posterior\"]\n",
    "):\n",
    "    ad = adata[adata.obs.library_id == library, :].copy()\n",
    "    sc.pl.spatial(\n",
    "        ad,\n",
    "        img_key=\"hires\",\n",
    "        library_id=library,\n",
    "        color=\"clusters\",\n",
    "        size=1.5,\n",
    "        palette=[\n",
    "            v\n",
    "            for k, v in clusters_colors.items()\n",
    "            if k in ad.obs.clusters.unique().tolist()\n",
    "        ],\n",
    "        legend_loc=None,\n",
    "        show=False,\n",
    "        ax=axs[i],\n",
    "    )\n",
    "\n",
    "plt.tight_layout()"
   ]
  },
  {
   "cell_type": "markdown",
   "metadata": {},
   "source": [
    "#ST_ALL8.2:\n"
   ]
  },
  {
   "cell_type": "markdown",
   "metadata": {},
   "source": [
    "#ST_TITLE9:\n",
    "\n",
    "#ST_ALL9:"
   ]
  },
  {
   "cell_type": "code",
   "execution_count": null,
   "metadata": {
    "execution": {
     "iopub.execute_input": "2022-01-11T16:06:37.421690Z",
     "iopub.status.busy": "2022-01-11T16:06:37.421141Z",
     "iopub.status.idle": "2022-01-11T16:06:57.969424Z",
     "shell.execute_reply": "2022-01-11T16:06:57.969911Z"
    }
   },
   "outputs": [],
   "source": [
    "# run t-test \n",
    "sc.tl.rank_genes_groups(adata, \"clusters\", method=\"wilcoxon\")\n",
    "# plot as heatmap for cluster5 genes\n",
    "sc.pl.rank_genes_groups_heatmap(adata, groups=\"5\", n_genes=10, groupby=\"clusters\")"
   ]
  },
  {
   "cell_type": "code",
   "execution_count": null,
   "metadata": {
    "execution": {
     "iopub.execute_input": "2022-01-11T16:06:58.056061Z",
     "iopub.status.busy": "2022-01-11T16:06:58.013211Z",
     "iopub.status.idle": "2022-01-11T16:07:04.259475Z",
     "shell.execute_reply": "2022-01-11T16:07:04.259821Z"
    }
   },
   "outputs": [],
   "source": [
    "# plot onto spatial location\n",
    "top_genes = sc.get.rank_genes_groups_df(adata, group='5',log2fc_min=0)['names'][:3]\n",
    "\n",
    "\n",
    "for library in [\"V1_Mouse_Brain_Sagittal_Anterior\", \"V1_Mouse_Brain_Sagittal_Posterior\"]:\n",
    "    sc.pl.spatial(adata[adata.obs.library_id == library,:], library_id=library, color = top_genes)\n"
   ]
  },
  {
   "cell_type": "markdown",
   "metadata": {},
   "source": [
    "#ST_ALL9.1:\n",
    "\n",
    "We use SpatialDE Svensson et al., a Gaussian process-based statistical framework that aims to identify spatially variable genes.\n",
    "\n",
    "**OBS!** Takes a long time to run, so skip this step for now!"
   ]
  },
  {
   "cell_type": "code",
   "execution_count": null,
   "metadata": {
    "execution": {
     "iopub.execute_input": "2022-01-11T16:07:04.263645Z",
     "iopub.status.busy": "2022-01-11T16:07:04.263154Z",
     "iopub.status.idle": "2022-01-11T16:07:04.264937Z",
     "shell.execute_reply": "2022-01-11T16:07:04.265282Z"
    }
   },
   "outputs": [],
   "source": [
    "# import SpatialDE\n",
    "\n",
    "# #First, we convert normalized counts and coordinates to pandas dataframe, needed for inputs to spatialDE.\n",
    "# counts = pd.DataFrame(adata.X.todense(), columns=adata.var_names, index=adata.obs_names)\n",
    "# coord = pd.DataFrame(adata.obsm['spatial'], columns=['x_coord', 'y_coord'], index=adata.obs_names)\n",
    "# results = SpatialDE.run(coord, counts)\n",
    "\n",
    "# #We concatenate the results with the DataFrame of annotations of variables: `adata.var`.\n",
    "# results.index = results[\"g\"]\n",
    "# adata.var = pd.concat([adata.var, results.loc[adata.var.index.values, :]], axis=1)\n",
    "\n",
    "# #Then we can inspect significant genes that varies in space and visualize them with `sc.pl.spatial` function.\n",
    "# results.sort_values(\"qval\").head(10)"
   ]
  },
  {
   "cell_type": "markdown",
   "metadata": {},
   "source": [
    "#ST_TITLE10:\n",
    "\n",
    "#ST_ALL10:\n",
    "\n",
    "Conveniently, you can also download the pre-processed dataset in h5ad format from [here](https://hmgubox.helmholtz-muenchen.de/f/4ef254675e2a41f89835/?dl=1). Here with bash code:"
   ]
  },
  {
   "cell_type": "code",
   "execution_count": null,
   "metadata": {
    "execution": {
     "iopub.execute_input": "2022-01-11T16:07:04.269603Z",
     "iopub.status.busy": "2022-01-11T16:07:04.268949Z",
     "iopub.status.idle": "2022-01-11T16:07:04.298055Z",
     "shell.execute_reply": "2022-01-11T16:07:04.298406Z"
    }
   },
   "outputs": [],
   "source": [
    "%%bash\n",
    "\n",
    "FILE=\"./data/spatial/adata_processed_sc.h5ad\"   \n",
    "\n",
    "if [ -e $FILE ]\n",
    "then\n",
    "   echo \"File $FILE is downloaded.\"\n",
    "else\n",
    "   echo \"Downloading $FILE\"\n",
    "   mkdir -p data/spatial\n",
    "   wget -O data/spatial/adata_processed_sc.h5ad https://hmgubox.helmholtz-muenchen.de/f/4ef254675e2a41f89835/?dl=1\n",
    "fi\n"
   ]
  },
  {
   "cell_type": "code",
   "execution_count": null,
   "metadata": {
    "execution": {
     "iopub.execute_input": "2022-01-11T16:07:04.303405Z",
     "iopub.status.busy": "2022-01-11T16:07:04.302692Z",
     "iopub.status.idle": "2022-01-11T16:07:10.073293Z",
     "shell.execute_reply": "2022-01-11T16:07:10.071280Z"
    }
   },
   "outputs": [],
   "source": [
    "adata_cortex=sc.read_h5ad(\"data/spatial/adata_processed_sc.h5ad\")"
   ]
  },
  {
   "cell_type": "code",
   "execution_count": null,
   "metadata": {
    "execution": {
     "iopub.execute_input": "2022-01-11T16:07:10.092493Z",
     "iopub.status.busy": "2022-01-11T16:07:10.091960Z",
     "iopub.status.idle": "2022-01-11T16:07:10.437682Z",
     "shell.execute_reply": "2022-01-11T16:07:10.438043Z"
    }
   },
   "outputs": [],
   "source": [
    "sc.pl.umap(adata_cortex, color=\"cell_subclass\", legend_loc = 'on data')\n"
   ]
  },
  {
   "cell_type": "code",
   "execution_count": null,
   "metadata": {
    "execution": {
     "iopub.execute_input": "2022-01-11T16:07:10.445179Z",
     "iopub.status.busy": "2022-01-11T16:07:10.441435Z",
     "iopub.status.idle": "2022-01-11T16:07:10.448255Z",
     "shell.execute_reply": "2022-01-11T16:07:10.447886Z"
    }
   },
   "outputs": [],
   "source": [
    "adata_cortex.obs.cell_subclass.value_counts()"
   ]
  },
  {
   "cell_type": "markdown",
   "metadata": {},
   "source": [
    "#ST_ALL10.1:"
   ]
  },
  {
   "cell_type": "code",
   "execution_count": null,
   "metadata": {
    "execution": {
     "iopub.execute_input": "2022-01-11T16:07:10.455353Z",
     "iopub.status.busy": "2022-01-11T16:07:10.454758Z",
     "iopub.status.idle": "2022-01-11T16:07:21.340645Z",
     "shell.execute_reply": "2022-01-11T16:07:21.341095Z"
    }
   },
   "outputs": [],
   "source": [
    "target_cells = 200\n",
    "\n",
    "adatas2 = [adata_cortex[adata_cortex.obs.cell_subclass == clust] for clust in adata_cortex.obs.cell_subclass.cat.categories]\n",
    "\n",
    "for dat in adatas2:\n",
    "    if dat.n_obs > target_cells:\n",
    "         sc.pp.subsample(dat, n_obs=target_cells)\n",
    "\n",
    "adata_cortex = adatas2[0].concatenate(*adatas2[1:])\n",
    "\n",
    "adata_cortex.obs.cell_subclass.value_counts()"
   ]
  },
  {
   "cell_type": "code",
   "execution_count": null,
   "metadata": {
    "execution": {
     "iopub.execute_input": "2022-01-11T16:07:21.360681Z",
     "iopub.status.busy": "2022-01-11T16:07:21.360174Z",
     "iopub.status.idle": "2022-01-11T16:07:24.606534Z",
     "shell.execute_reply": "2022-01-11T16:07:24.606144Z"
    }
   },
   "outputs": [],
   "source": [
    "sc.pl.umap(\n",
    "    adata_cortex, color=[\"cell_class\", \"cell_subclass\",\"donor_genotype\",\"dissected_region\"], palette=sc.pl.palettes.default_20\n",
    ")"
   ]
  },
  {
   "cell_type": "code",
   "execution_count": null,
   "metadata": {
    "execution": {
     "iopub.execute_input": "2022-01-11T16:07:24.617213Z",
     "iopub.status.busy": "2022-01-11T16:07:24.616588Z",
     "iopub.status.idle": "2022-01-11T16:07:24.787301Z",
     "shell.execute_reply": "2022-01-11T16:07:24.787891Z"
    }
   },
   "outputs": [],
   "source": [
    "sc.pl.umap(adata_cortex, color=\"cell_subclass\", legend_loc = 'on data')"
   ]
  },
  {
   "cell_type": "markdown",
   "metadata": {},
   "source": [
    "#ST_ALL10.1b:\n",
    "\n",
    "OBS! For deconvolution we will need the counts data, so we will subset from the `counts_adata` object that we created earlier."
   ]
  },
  {
   "cell_type": "code",
   "execution_count": null,
   "metadata": {
    "execution": {
     "iopub.execute_input": "2022-01-11T16:07:24.794175Z",
     "iopub.status.busy": "2022-01-11T16:07:24.793676Z",
     "iopub.status.idle": "2022-01-11T16:07:25.433038Z",
     "shell.execute_reply": "2022-01-11T16:07:25.433507Z"
    }
   },
   "outputs": [],
   "source": [
    "lib_a = \"V1_Mouse_Brain_Sagittal_Anterior\"\n",
    "\n",
    "counts_adata.obs['clusters'] = adata.obs.clusters\n",
    "\n",
    "adata_anterior_subset = counts_adata[\n",
    "    (counts_adata.obs.library_id == lib_a) \n",
    "    & (counts_adata.obsm[\"spatial\"][:, 1] < 6000), :\n",
    "].copy()\n",
    "\n",
    "# select also the cortex clusters\n",
    "adata_anterior_subset = adata_anterior_subset[adata_anterior_subset.obs.clusters.isin(['2','3','5','6']),:]\n",
    "\n"
   ]
  },
  {
   "cell_type": "code",
   "execution_count": null,
   "metadata": {
    "execution": {
     "iopub.execute_input": "2022-01-11T16:07:25.442701Z",
     "iopub.status.busy": "2022-01-11T16:07:25.442161Z",
     "iopub.status.idle": "2022-01-11T16:07:26.177556Z",
     "shell.execute_reply": "2022-01-11T16:07:26.177912Z"
    }
   },
   "outputs": [],
   "source": [
    "# plot to check that we have the correct regions\n",
    "\n",
    "sc.pl.spatial(\n",
    "    adata_anterior_subset,\n",
    "    img_key=\"hires\",\n",
    "    library_id = lib_a,\n",
    "    color=['clusters'],\n",
    "    size=1.5\n",
    ")\n",
    "\n",
    "\n"
   ]
  },
  {
   "cell_type": "markdown",
   "metadata": {},
   "source": [
    "#ST_ALL12:\n",
    "\n",
    "Here, we will use deconvolution with Stereoscope implemented in the SCVI-tools package. To read more about Stereoscope please check out this github page (https://github.com/almaan/stereoscope)\n",
    "\n",
    "\n",
    "#ST_ALL13:\n"
   ]
  },
  {
   "cell_type": "code",
   "execution_count": null,
   "metadata": {
    "execution": {
     "iopub.execute_input": "2022-01-11T16:07:26.181723Z",
     "iopub.status.busy": "2022-01-11T16:07:26.181235Z",
     "iopub.status.idle": "2022-01-11T16:07:53.980559Z",
     "shell.execute_reply": "2022-01-11T16:07:53.980925Z"
    }
   },
   "outputs": [],
   "source": [
    "sc.tl.rank_genes_groups(adata_cortex, 'cell_subclass', method = \"t-test\", n_genes=100)\n",
    "sc.pl.rank_genes_groups_dotplot(adata_cortex, n_genes=3)\n"
   ]
  },
  {
   "cell_type": "code",
   "execution_count": null,
   "metadata": {},
   "outputs": [],
   "source": []
  },
  {
   "cell_type": "code",
   "execution_count": null,
   "metadata": {
    "execution": {
     "iopub.execute_input": "2022-01-11T16:07:53.987427Z",
     "iopub.status.busy": "2022-01-11T16:07:53.986911Z",
     "iopub.status.idle": "2022-01-11T16:07:54.718511Z",
     "shell.execute_reply": "2022-01-11T16:07:54.718874Z"
    }
   },
   "outputs": [],
   "source": [
    "sc.tl.filter_rank_genes_groups(adata_cortex, min_fold_change=1)\n",
    "\n",
    "genes = sc.get.rank_genes_groups_df(adata_cortex, group = None)\n",
    "genes"
   ]
  },
  {
   "cell_type": "code",
   "execution_count": null,
   "metadata": {
    "execution": {
     "iopub.execute_input": "2022-01-11T16:07:54.722799Z",
     "iopub.status.busy": "2022-01-11T16:07:54.722266Z",
     "iopub.status.idle": "2022-01-11T16:07:54.759727Z",
     "shell.execute_reply": "2022-01-11T16:07:54.760071Z"
    }
   },
   "outputs": [],
   "source": [
    "deg = genes.names.unique().tolist()\n",
    "print(len(deg))\n",
    "# check that the genes are also present in the ST data\n",
    "\n",
    "\n",
    "deg = np.intersect1d(deg,adata_anterior_subset.var.index).tolist()\n",
    "print(len(deg))"
   ]
  },
  {
   "cell_type": "markdown",
   "metadata": {},
   "source": [
    "### Train the model\n",
    "\n",
    "First, train the model using scRNAseq data. \n",
    "\n",
    "Stereoscope requires the data to be in counts, earlier in this tutorial we saved the spatial counts in a separate object `counts_adata`.\n",
    "\n",
    "However, the single cell dataset that we dowloaded only has the lognormalized data in the adata.X slot, hence we will have to recalculate the count matrix."
   ]
  },
  {
   "cell_type": "code",
   "execution_count": null,
   "metadata": {
    "execution": {
     "iopub.execute_input": "2022-01-11T16:07:54.764247Z",
     "iopub.status.busy": "2022-01-11T16:07:54.763740Z",
     "iopub.status.idle": "2022-01-11T16:07:56.642177Z",
     "shell.execute_reply": "2022-01-11T16:07:56.642702Z"
    }
   },
   "outputs": [],
   "source": [
    "# first do exponent and subtract pseudocount\n",
    "E = np.exp(adata_cortex.X)-1\n",
    "n = np.sum(E,1)\n",
    "print(np.min(n), np.max(n))\n",
    "# all sums to 1.7M\n",
    "factor = np.mean(n)\n",
    "nC = np.array(adata_cortex.obs.total_counts) # true number of counts\n",
    "scaleF = nC/factor\n",
    "C = E * scaleF[:,None]\n",
    "C = C.astype(\"int\")"
   ]
  },
  {
   "cell_type": "code",
   "execution_count": null,
   "metadata": {
    "execution": {
     "iopub.execute_input": "2022-01-11T16:07:56.646600Z",
     "iopub.status.busy": "2022-01-11T16:07:56.646026Z",
     "iopub.status.idle": "2022-01-11T16:07:57.198172Z",
     "shell.execute_reply": "2022-01-11T16:07:57.198564Z"
    }
   },
   "outputs": [],
   "source": [
    "sc_adata = adata_cortex.copy()\n",
    "sc_adata.X = C"
   ]
  },
  {
   "cell_type": "markdown",
   "metadata": {},
   "source": [
    "Setup the anndata, the implementation requires the counts matrix to be in the \"counts\" layer as a copy."
   ]
  },
  {
   "cell_type": "code",
   "execution_count": null,
   "metadata": {
    "execution": {
     "iopub.execute_input": "2022-01-11T16:07:57.206408Z",
     "iopub.status.busy": "2022-01-11T16:07:57.205720Z",
     "iopub.status.idle": "2022-01-11T16:08:06.082866Z",
     "shell.execute_reply": "2022-01-11T16:08:06.082382Z"
    }
   },
   "outputs": [],
   "source": [
    "import scvi\n",
    "from scvi.data import register_tensor_from_anndata\n",
    "from scvi.external import RNAStereoscope, SpatialStereoscope\n",
    "\n",
    "# add counts layer\n",
    "sc_adata.layers[\"counts\"] = sc_adata.X.copy()\n",
    "\n",
    "# subset for the selected genes\n",
    "sc_adata = sc_adata[:, deg].copy()\n",
    "\n",
    "# create stereoscope object\n",
    "RNAStereoscope.setup_anndata(sc_adata, layer = \"counts\", labels_key = \"cell_subclass\")\n"
   ]
  },
  {
   "cell_type": "code",
   "execution_count": null,
   "metadata": {
    "execution": {
     "iopub.execute_input": "2022-01-11T16:08:06.090776Z",
     "iopub.status.busy": "2022-01-11T16:08:06.089646Z",
     "iopub.status.idle": "2022-01-11T16:09:45.631701Z",
     "shell.execute_reply": "2022-01-11T16:09:45.632089Z"
    }
   },
   "outputs": [],
   "source": [
    "# the model is saved to a file, so if is slow to run, you can simply reload it from disk by setting train = False\n",
    "\n",
    "train = True\n",
    "if train:\n",
    "    sc_model = RNAStereoscope(sc_adata)\n",
    "    sc_model.train(max_epochs = 300)\n",
    "    sc_model.history[\"elbo_train\"][10:].plot()\n",
    "    sc_model.save(\"./data/spatial/scmodel\", overwrite=True)\n",
    "else:\n",
    "    sc_model = RNAStereoscope.load(\"./data/spatial/scmodel\", sc_adata)\n",
    "    print(\"Loaded RNA model from file!\")"
   ]
  },
  {
   "cell_type": "markdown",
   "metadata": {},
   "source": [
    "### Predict propritions on the spatial data \n",
    "\n",
    "First create a new st object with the correct genes and counts as a layer."
   ]
  },
  {
   "cell_type": "code",
   "execution_count": null,
   "metadata": {
    "execution": {
     "iopub.execute_input": "2022-01-11T16:09:45.637491Z",
     "iopub.status.busy": "2022-01-11T16:09:45.636710Z",
     "iopub.status.idle": "2022-01-11T16:09:46.174089Z",
     "shell.execute_reply": "2022-01-11T16:09:46.174683Z"
    }
   },
   "outputs": [],
   "source": [
    "st_adata = adata_anterior_subset.copy()\n",
    "\n",
    "st_adata.layers[\"counts\"] = st_adata.X.copy()\n",
    "st_adata = st_adata[:, deg].copy()\n",
    "\n",
    "SpatialStereoscope.setup_anndata(st_adata, layer=\"counts\")"
   ]
  },
  {
   "cell_type": "code",
   "execution_count": null,
   "metadata": {
    "execution": {
     "iopub.execute_input": "2022-01-11T16:09:46.181749Z",
     "iopub.status.busy": "2022-01-11T16:09:46.180970Z",
     "iopub.status.idle": "2022-01-11T16:12:49.131765Z",
     "shell.execute_reply": "2022-01-11T16:12:49.132186Z"
    }
   },
   "outputs": [],
   "source": [
    "train=True\n",
    "if train:\n",
    "    spatial_model = SpatialStereoscope.from_rna_model(st_adata, sc_model)\n",
    "    spatial_model.train(max_epochs = 3000)\n",
    "    spatial_model.history[\"elbo_train\"][10:].plot()\n",
    "    spatial_model.save(\"./data/spatial/stmodel\", overwrite = True)\n",
    "else:\n",
    "    spatial_model = SpatialStereoscope.load(\"./data/spatial/stmodel\", st_adata)\n",
    "    print(\"Loaded Spatial model from file!\")"
   ]
  },
  {
   "cell_type": "markdown",
   "metadata": {},
   "source": [
    "Get the results from the model, also put them in the `.obs` slot."
   ]
  },
  {
   "cell_type": "code",
   "execution_count": null,
   "metadata": {
    "execution": {
     "iopub.execute_input": "2022-01-11T16:12:49.137234Z",
     "iopub.status.busy": "2022-01-11T16:12:49.136646Z",
     "iopub.status.idle": "2022-01-11T16:12:49.148291Z",
     "shell.execute_reply": "2022-01-11T16:12:49.148681Z"
    }
   },
   "outputs": [],
   "source": [
    "st_adata.obsm[\"deconvolution\"] = spatial_model.get_proportions()\n",
    "\n",
    "# also copy to the obsm data frame\n",
    "for ct in st_adata.obsm[\"deconvolution\"].columns:\n",
    "    st_adata.obs[ct] = st_adata.obsm[\"deconvolution\"][ct]"
   ]
  },
  {
   "cell_type": "markdown",
   "metadata": {},
   "source": [
    "We are then able to explore how cell types in the scRNA-seq dataset are predicted onto the visium dataset. Let's first visualize the neurons cortical layers."
   ]
  },
  {
   "cell_type": "code",
   "execution_count": null,
   "metadata": {
    "execution": {
     "iopub.execute_input": "2022-01-11T16:12:49.157779Z",
     "iopub.status.busy": "2022-01-11T16:12:49.156497Z",
     "iopub.status.idle": "2022-01-11T16:12:51.600114Z",
     "shell.execute_reply": "2022-01-11T16:12:51.600473Z"
    }
   },
   "outputs": [],
   "source": [
    "sc.pl.spatial(\n",
    "    st_adata,\n",
    "    img_key=\"hires\",\n",
    "    color=[\"L2/3 IT\", \"L4\", \"L5 PT\", \"L6 CT\"],\n",
    "    library_id=lib_a,\n",
    "    size=1.5,\n",
    "    ncols=2\n",
    ")"
   ]
  },
  {
   "cell_type": "markdown",
   "metadata": {},
   "source": [
    "We can go ahead an visualize astrocytes and oligodendrocytes as well."
   ]
  },
  {
   "cell_type": "code",
   "execution_count": null,
   "metadata": {
    "execution": {
     "iopub.execute_input": "2022-01-11T16:12:51.605457Z",
     "iopub.status.busy": "2022-01-11T16:12:51.604674Z",
     "iopub.status.idle": "2022-01-11T16:12:52.703984Z",
     "shell.execute_reply": "2022-01-11T16:12:52.704347Z"
    }
   },
   "outputs": [],
   "source": [
    "sc.pl.spatial(\n",
    "    st_adata, img_key=\"hires\", color=[\"Oligo\", \"Astro\"], size=1.5, library_id = lib_a\n",
    ")"
   ]
  },
  {
   "cell_type": "markdown",
   "metadata": {},
   "source": [
    "#ST_ALL10.3:"
   ]
  },
  {
   "cell_type": "code",
   "execution_count": null,
   "metadata": {
    "execution": {
     "iopub.execute_input": "2022-01-11T16:12:52.730504Z",
     "iopub.status.busy": "2022-01-11T16:12:52.729801Z",
     "iopub.status.idle": "2022-01-11T16:12:53.357470Z",
     "shell.execute_reply": "2022-01-11T16:12:53.357824Z"
    }
   },
   "outputs": [],
   "source": [
    "sc.pl.violin(st_adata, [\"L2/3 IT\", \"L6 CT\",\"Oligo\",\"Astro\"],\n",
    "            jitter=0.4, groupby = 'clusters', rotation= 45)\n",
    "\n"
   ]
  },
  {
   "cell_type": "markdown",
   "metadata": {},
   "source": [
    "#ST_ALL14:\n",
    "\n",
    "\n",
    "#ST_ALL11:\n",
    "\n"
   ]
  },
  {
   "cell_type": "code",
   "execution_count": null,
   "metadata": {
    "execution": {
     "iopub.execute_input": "2022-01-11T16:12:53.362659Z",
     "iopub.status.busy": "2022-01-11T16:12:53.361895Z",
     "iopub.status.idle": "2022-01-11T16:12:54.088580Z",
     "shell.execute_reply": "2022-01-11T16:12:54.088953Z"
    }
   },
   "outputs": [],
   "source": [
    "lib_p = \"V1_Mouse_Brain_Sagittal_Posterior\"\n",
    "\n",
    "adata_subregion = adata[\n",
    "    (adata.obs.library_id == lib_p) \n",
    "    & (adata.obsm[\"spatial\"][:, 0] > 6500),\n",
    "    :,\n",
    "].copy()"
   ]
  },
  {
   "cell_type": "code",
   "execution_count": null,
   "metadata": {
    "execution": {
     "iopub.execute_input": "2022-01-11T16:12:54.096384Z",
     "iopub.status.busy": "2022-01-11T16:12:54.095053Z",
     "iopub.status.idle": "2022-01-11T16:12:54.939697Z",
     "shell.execute_reply": "2022-01-11T16:12:54.940043Z"
    }
   },
   "outputs": [],
   "source": [
    "sc.pl.spatial(\n",
    "    adata_subregion,\n",
    "    img_key=\"hires\",\n",
    "    library_id = lib_p,\n",
    "    color=['n_genes_by_counts'],\n",
    "    size=1.5\n",
    ")"
   ]
  }
 ],
 "metadata": {
  "kernelspec": {
   "display_name": "Python 3 (ipykernel)",
   "language": "python",
   "name": "python3"
  },
  "language_info": {
   "codemirror_mode": {
    "name": "ipython",
    "version": 3
   },
   "file_extension": ".py",
   "mimetype": "text/x-python",
   "name": "python",
   "nbconvert_exporter": "python",
   "pygments_lexer": "ipython3",
   "version": "3.7.12"
  }
 },
 "nbformat": 4,
 "nbformat_minor": 4
}
