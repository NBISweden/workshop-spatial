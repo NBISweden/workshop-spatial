{
 "cells": [
  {
   "cell_type": "markdown",
   "id": "09b86d88",
   "metadata": {},
   "source": [
    "# Tutorial 'unsupervised QC, and segmentation-free analysis of Spot-based transcriptomics data'\n",
    "\n",
    "<span style=\"text-decoration: underline\">Author: Sebastian Tiesmeyer (sebastian.tiesmeyer@bih-charite.de)</span>\n",
    "\n",
    "*Affiliation: Computational Oncology group (Dr. Naveed Ishaque), Digital Health Center (Prof. Roland Eils), BIH @ Charité Hospital, Germany.*\n",
    "\n",
    "This tutorial was made to showcase the ISS analysis workflow at our group, which is based on a segmentation-free mindset. It makes use of a python package called 'plankton.py', in which I collected functionalities of past analysis projects for others to use. It is inspired by the *squidpy* package, but targeted especially at the topographical analysis of spot-based data."
   ]
  },
  {
   "cell_type": "markdown",
   "id": "40348696",
   "metadata": {},
   "source": [
    "## Learning objectives:\n",
    "\n",
    "After completing this tutorial, you will be able to:\n",
    "\n",
    "1) Load and investigate spot-based spatial transcriptomics data in plankton.py\n",
    "\n",
    "2) Perform supervised cell type annotation based on the SSAM algorithm in plankton.py"
   ]
  },
  {
   "cell_type": "markdown",
   "id": "e0aa9c2b",
   "metadata": {},
   "source": [
    "## Configure python/jupyter"
   ]
  },
  {
   "cell_type": "code",
   "execution_count": null,
   "id": "164952a8",
   "metadata": {},
   "outputs": [],
   "source": [
    "\n",
    "# widens the screen:\n",
    "from IPython.display import display, HTML\n",
    "display(HTML(\"<style>.container { width:95% !important; }</style>\"))\n",
    "\n",
    "# imports:\n",
    "import sys\n",
    "import os\n",
    "import plankton.plankton as pl\n",
    "import matplotlib.pyplot as plt\n",
    "import numpy as np\n",
    "import pandas as pd\n",
    "\n",
    "# convenience function to create new figures:\n",
    "def figure(width=8,height=8):\n",
    "    plt.figure(figsize=(width,height))\n"
   ]
  },
  {
   "cell_type": "markdown",
   "id": "9189e8b8",
   "metadata": {
    "scrolled": false
   },
   "source": [
    "## 1) Load and investigate spot-based spatial transcriptomics data in plankton\n",
    "\n",
    "#### 1.0 load mRNA coordinate data (developing lung ISS)\n",
    "\n",
    "Categorical spot-based data like the ISS output is typically stored as coordinates in an x/y format alongside a class label.\n",
    "We created such a data set during the session 'ISS_decoding'. We now can now import data for further analysis:"
   ]
  },
  {
   "cell_type": "code",
   "execution_count": null,
   "id": "04eeddeb",
   "metadata": {},
   "outputs": [],
   "source": [
    "# Data folder location:\n",
    "data_root = '../data/in_situ_sequencing'\n",
    "assert os.path.exists(data_root)\n",
    "\n",
    "# Define um_p_px parameter for the data set coordinates:\n",
    "um_p_px = 0.325\n",
    "\n",
    "# Read coordinate/gene data from .csv file\n",
    "coordinates = pd.read_csv(os.path.join(data_root,'S2T1_pcw6.csv'))\n",
    "\n",
    "# Extract x,y coordinates and gene labels \n",
    "x =  coordinates.Global_x_pos.values \n",
    "y =  coordinates.Global_y_pos.values \n",
    "g =  coordinates.Gene.values\n"
   ]
  },
  {
   "cell_type": "markdown",
   "id": "3b9a2314",
   "metadata": {},
   "source": [
    "#### 1.1 create and investigate the sdata object\n",
    "\n",
    "You can now create a `plankton.SpatialData` frame. It's a subclass of `pandas.DataFrame` and inherits all of its properties. There is a bit of added functionality though, and the indexing works different (namely along the vertical axis primarily).\n",
    "\n",
    "The raw sdata object contains the columns 'x'/'y' for the spatial coordinates, 'g' for the according gene labels and 'gene_id' that contains an index number according to their gene: "
   ]
  },
  {
   "cell_type": "code",
   "execution_count": null,
   "id": "3eca6990",
   "metadata": {},
   "outputs": [],
   "source": [
    "# Create a plankton-SpatialData object with the coordinates:\n",
    "\n",
    "sdata = pl.SpatialData(\n",
    "                        coordinates.Gene,\n",
    "                        coordinates.Global_x_pos*um_p_px,\n",
    "                        coordinates.Global_y_pos*um_p_px,\n",
    "                        )\n",
    "\n",
    "# display data in the notebook:\n",
    "sdata"
   ]
  },
  {
   "cell_type": "markdown",
   "id": "89bc7895",
   "metadata": {},
   "source": [
    "`gene_id` is mirrored in the gene-centric `stats` property of the sdata set. `[sdata.gene_id]` can be used as an index to project gene-centric data onto the individual coordinates. "
   ]
  },
  {
   "cell_type": "code",
   "execution_count": null,
   "id": "544b3648",
   "metadata": {},
   "outputs": [],
   "source": [
    "# inspect basic statistics at gene level:\n",
    "\n",
    "sdata.stats"
   ]
  },
  {
   "cell_type": "markdown",
   "id": "e76aec13",
   "metadata": {},
   "source": [
    "#### 1.2 create basic sdata plots\n",
    "\n",
    "The individual columns are an instance of `pandas.Series` and inherit its body of functions.\n",
    "\n",
    "Among those are sorting and plotting functions:"
   ]
  },
  {
   "cell_type": "code",
   "execution_count": null,
   "id": "13e0e823",
   "metadata": {},
   "outputs": [],
   "source": [
    "# Plot a bar graph of the gene counts in the data set:\n",
    "\n",
    "figure(22,5)\n",
    "sdata.counts.sort_values().plot.bar()"
   ]
  },
  {
   "cell_type": "markdown",
   "id": "2e4473e6",
   "metadata": {},
   "source": [
    "sdata also has a number of plotting functions to ease data interpretation. `pl.plot_overview` shows a bar graph of the gene counts alongside the spatial distribution of genes at the 0th, 33rd, 66th and 100th percentiles."
   ]
  },
  {
   "cell_type": "code",
   "execution_count": null,
   "id": "0959b7e4",
   "metadata": {},
   "outputs": [],
   "source": [
    "# Plot data set overview/summary:\n",
    "\n",
    "sdata.plot_overview()\n",
    "\n",
    "plt.gcf().set_size_inches(17.5, 9.5)"
   ]
  },
  {
   "cell_type": "markdown",
   "id": "3dd162bf",
   "metadata": {},
   "source": [
    "A further useful visualization tool is the 'scatter' function, which uses identical arguments to pyplot.scatter().\n",
    "\n",
    "Here, the entire data set is printed with an alpha (transparency) value of 0.2:"
   ]
  },
  {
   "cell_type": "code",
   "execution_count": null,
   "id": "5d43d950",
   "metadata": {},
   "outputs": [],
   "source": [
    "# use the 'scatter' function to get familiar with the data set:\n",
    "\n",
    "figure(10,10)\n",
    "\n",
    "sdata.scatter(alpha=0.2)"
   ]
  },
  {
   "cell_type": "markdown",
   "id": "3c2c6c2f",
   "metadata": {},
   "source": [
    "#### 1.3 adding a pixel map (e.g. DAPI stain image) as background image:\n",
    "\n",
    "For reference during analysis and for plotting, it can be useful to have a background image. The next cell loads a DAPI image and turns into grayscale.\n",
    "\n",
    "We can then create a plankton.PixelMap object to integrate the spot-based molecule coordinates and the pixel/grid based image data:"
   ]
  },
  {
   "cell_type": "code",
   "execution_count": null,
   "id": "aae9a270",
   "metadata": {},
   "outputs": [],
   "source": [
    "# Load staining image as .jpg:\n",
    "\n",
    "figure(7,14)\n",
    "bg = -plt.imread(os.path.join(data_root,'background.jpg')).mean(-1)\n",
    "bg = (bg-bg.min())/(bg.max()-bg.min())\n",
    "\n",
    "plt.subplot(121)\n",
    "\n",
    "plt.title('original')\n",
    "\n",
    "plt.imshow(bg,cmap='Greys')\n",
    "\n",
    "# Create PixelMap\n",
    "\n",
    "bg_map = pl.PixelMap(pixel_data=bg,\n",
    "                     cmap='Greys',\n",
    "                     px_p_um = 0.504/um_p_px)\n",
    "\n",
    "plt.subplot(122)\n",
    "\n",
    "plt.title('PixelMap with affine transform (rescale:)')\n",
    "bg_map.imshow()\n"
   ]
  },
  {
   "cell_type": "markdown",
   "id": "80a6d488",
   "metadata": {},
   "source": [
    "... and feed the pixel map to sdata during creation:"
   ]
  },
  {
   "cell_type": "code",
   "execution_count": null,
   "id": "4ce2a116",
   "metadata": {},
   "outputs": [],
   "source": [
    "sdata = pl.SpatialData(\n",
    "                        coordinates.Gene,\n",
    "                        coordinates.Global_x_pos*um_p_px,\n",
    "                        coordinates.Global_y_pos*um_p_px,\n",
    "                        pixel_maps={'DAPI':bg_map}\n",
    "                        )"
   ]
  },
  {
   "cell_type": "markdown",
   "id": "ed5ad2b8",
   "metadata": {},
   "source": [
    "The scatter plots now automatically contain the DAPI stain as a plot background:"
   ]
  },
  {
   "cell_type": "code",
   "execution_count": null,
   "id": "4e4b23eb",
   "metadata": {},
   "outputs": [],
   "source": [
    "plt.figure(figsize=(19,8))\n",
    "\n",
    "plt.subplot(1,3,1)\n",
    "plt.title('coordinates')\n",
    "plt.scatter(*sdata.coordinates[:,:].T*np.array([[1],[-1]]),c=sdata.var.c_genes[sdata.gene_ids],marker='.',alpha=0.1)\n",
    "\n",
    "plt.subplot(1,3,2)\n",
    "plt.title('plankton')\n",
    "sdata.scatter(alpha=0.1)\n",
    "\n",
    "ax=plt.subplot(1,3,3)\n",
    "plt.title('DAPI stain')\n",
    "bg_map.imshow(axd=ax)"
   ]
  },
  {
   "cell_type": "markdown",
   "id": "4e0af146",
   "metadata": {},
   "source": [
    "#### 1.4 basic data subsetting functionality:\n",
    "\n",
    "sdata supports different ways of data subsetting. Data is subset along the vertical axis first (per molecule).\n",
    "\n",
    "Generic python/numpy based slicing is supported, as well as masking with boolean arrays. sdata.spatial opens up a spatial view of the data, and the generic python slicing notation can be used to crop the data in the spatial domain:"
   ]
  },
  {
   "cell_type": "code",
   "execution_count": null,
   "id": "314cc751",
   "metadata": {},
   "outputs": [],
   "source": [
    "plt.figure(figsize=(20,7))\n",
    "\n",
    "\n",
    "# Slice using array notation:\n",
    "plt.subplot(1,4,1)\n",
    "plt.title('subsampled by 200:')\n",
    "sdata[::200].scatter()\n",
    "\n",
    "# Subsample using boolean mask:\n",
    "plt.subplot(1,4,2)\n",
    "plt.title('subsampled for HGF,WNT2:')\n",
    "sdata[sdata.g.isin(['HGF','WNT2'])].scatter(legend=True)\n",
    "\n",
    "# Crop using spatial view:\n",
    "plt.subplot(1,4,3)\n",
    "plt.title('subsampled in space:')\n",
    "sdata.spatial[100:2800,1000:].scatter(alpha=0.1)\n"
   ]
  },
  {
   "cell_type": "markdown",
   "id": "5c796222",
   "metadata": {},
   "source": [
    "#### 1.5 advanced data subsetting functionality:\n",
    "\n",
    "use sdata.counts and sdata.gene_ids-indexing to plot all genes that occur below 200 times in the sample:"
   ]
  },
  {
   "cell_type": "code",
   "execution_count": null,
   "id": "e0e381c3",
   "metadata": {},
   "outputs": [],
   "source": [
    "figure(9,9)\n",
    "\n",
    "low_count_gene_mask = (sdata.counts<200)\n",
    "\n",
    "sdata[low_count_gene_mask[sdata.gene_ids]].scatter(marker='x',legend=True)"
   ]
  },
  {
   "cell_type": "markdown",
   "id": "23c53ff5",
   "metadata": {},
   "source": [
    "## 2) Supervised analysis:\n",
    "\n",
    "Often, larger scale projects follow a multi-omics approach where single-cell expression data is available for analysis. We can make use of this external data for quality control and to perform supervised analysis. For this, we need to create a signature matrix that contains an affinity indicator for all gene-celltype combinations. We will create these signatures by integrating available cell wise molecule count data."
   ]
  },
  {
   "cell_type": "markdown",
   "id": "9df7adbb",
   "metadata": {},
   "source": [
    "#### 2.0 load single-cell-RNAseq-derived gene count matrix\n",
    "\n",
    "*Sergio Salas* provided me with an annotated celltype-gene count matrix for developing bronchial tissue. It should be similar to the data derived from tomorrow's scanpy/scRNAseq workshop, only after a biologist has looked at the data and assigned cell type labels to the detected clusters."
   ]
  },
  {
   "cell_type": "code",
   "execution_count": null,
   "id": "59139a73",
   "metadata": {},
   "outputs": [],
   "source": [
    "import anndata\n",
    "\n",
    "# Read provided count table:\n",
    "cellwise_counts = pd.read_csv(os.path.join(data_root,'S2T1_pcw6_complex_celltypes_formatted.csv'),index_col=0)\n",
    "\n",
    "# Group cell-subtypes for ease of interpretability:\n",
    "celltypes = cellwise_counts['cell type'].values\n",
    "for i,c in enumerate(celltypes):\n",
    "    if c[-1].isdigit():\n",
    "        celltypes[i]=c[:-2]\n",
    "\n",
    "# create scanpy/AnnData object from molecule count matrix, \n",
    "# containing 7997 cells and 141 genes:\n",
    "adata = anndata.AnnData(X = cellwise_counts.iloc[:,78:],)\n",
    "\n",
    "# add celltype labels to the individual cells\n",
    "adata.obs['celltype'] = celltypes"
   ]
  },
  {
   "cell_type": "markdown",
   "id": "47d97ecd",
   "metadata": {},
   "source": [
    "AnnData-formated single cell expression data can be passed to the `sdata` object during initialization. It adds a property `sdata.scanpy` to sdata, which automatically synchronizes and allows for supervised data analysis:"
   ]
  },
  {
   "cell_type": "code",
   "execution_count": null,
   "id": "485fdd2a",
   "metadata": {
    "scrolled": false
   },
   "outputs": [],
   "source": [
    "# create new sdata object with added single-cell data:\n",
    "sdata = pl.SpatialData(\n",
    "                        genes=g,\n",
    "                        x_coordinates=x*um_p_px,\n",
    "                        y_coordinates=y*um_p_px,\n",
    "                        pixel_maps={'DAPI':bg_map},\n",
    "                        scanpy=adata\n",
    "                        ).clean()\n",
    "\n",
    "# show signature matrix\n",
    "sdata.scanpy"
   ]
  },
  {
   "cell_type": "markdown",
   "id": "0cfa3769",
   "metadata": {},
   "source": [
    "#### 2.1 modelling tissue with SSAM:\n",
    "\n",
    "Our lab has developed a segmentation-free, unsupervised celltype calling algorithm called SSAM (https://www.nature.com/articles/s41467-021-23807-4, Park, 2021). It creates a celltype map by spatially integrating gene signal via KDE and performing linear correlation analysis.\n",
    "\n",
    "As a first step, a signature matrix needs to be generated that contains determined gene expression signatures per cell type. In our case, it contains the cell type-wise mean expression across cells. The signature matrix is then normalized across columns and rows."
   ]
  },
  {
   "cell_type": "code",
   "execution_count": null,
   "id": "80b7798f",
   "metadata": {
    "scrolled": true
   },
   "outputs": [],
   "source": [
    "# Generate signature matrix\n",
    "signatures = sdata.scanpy.generate_signatures()\n",
    "\n",
    "signatures"
   ]
  },
  {
   "cell_type": "code",
   "execution_count": null,
   "id": "9431bd92",
   "metadata": {
    "scrolled": false
   },
   "outputs": [],
   "source": [
    "from plankton.utils import ssam\n",
    "\n",
    "# Create a celltype map using the ssam algorithm:\n",
    "\n",
    "kernel_bandwidth = 5   # Bandwidth for the Gaussian KDE smoothing kernel\n",
    "patch_length = 2000     # length of the individual data batches \n",
    "threshold_corr = 0.1    # Threshold for expression-signature correlation \n",
    "threshold_exp = 0.3    # Threshold for total signal norm\n",
    "\n",
    "ctmap = ssam(sdata,signatures=signatures,kernel_bandwidth=kernel_bandwidth,\n",
    "            patch_length=patch_length,threshold_cor=threshold_corr,threshold_exp=threshold_exp)"
   ]
  },
  {
   "cell_type": "markdown",
   "id": "ae0ca7f1",
   "metadata": {},
   "source": [
    "ctmap.get_value() can be used to extract the value at defined coordinate points:"
   ]
  },
  {
   "cell_type": "code",
   "execution_count": null,
   "id": "b2929c2e",
   "metadata": {},
   "outputs": [],
   "source": [
    "# sample the map's values at all molecule locations:\n",
    "values_at_xy = ctmap.get_value(sdata.x,sdata.y)\n",
    "\n",
    "# assign tissue label to sampled values:\n",
    "celltype_labels = np.array(signatures.index)[values_at_xy]\n",
    "celltype_labels[ctmap.get_value(sdata.x,sdata.y)==-1]='other'\n",
    "\n",
    "# add 'celltype' annotation to each molecule of the sdata frame:\n",
    "sdata['celltype']= celltype_labels\n",
    "sdata['celltype'] = sdata.celltype.astype('category')\n",
    "\n",
    "sdata"
   ]
  },
  {
   "cell_type": "markdown",
   "id": "59641376",
   "metadata": {},
   "source": [
    "#### 2.2 explore cell type map"
   ]
  },
  {
   "cell_type": "markdown",
   "id": "fe63df46",
   "metadata": {},
   "source": [
    "The celltype map is a plankton.PixelMap object and can be plotted accordingly:"
   ]
  },
  {
   "cell_type": "code",
   "execution_count": null,
   "id": "4c69a81b",
   "metadata": {
    "scrolled": false
   },
   "outputs": [],
   "source": [
    "from matplotlib.cm import get_cmap\n",
    "\n",
    "# Colored scatter points to create the legend:\n",
    "labels = sdata.celltype.cat.categories\n",
    "cm = get_cmap('nipy_spectral')\n",
    "tissue_colors = [cm((i+1)/(len(labels)-1)) for i in range(len(labels)-1)]\n",
    "\n",
    "\n",
    "# Show celltype map:\n",
    "\n",
    "figure(15,20)\n",
    "\n",
    "\n",
    "ctmap.imshow(cmap='nipy_spectral',interpolation='none')\n",
    "\n",
    "handles = [plt.scatter([],[],color=tissue_colors[i]) for i in range(len(labels)-1)]\n",
    "plt.legend(handles,labels,)"
   ]
  },
  {
   "cell_type": "markdown",
   "id": "298193fb",
   "metadata": {},
   "source": [
    "#### 2.3 explore individual cell type distributions"
   ]
  },
  {
   "cell_type": "code",
   "execution_count": null,
   "id": "379e6e8a",
   "metadata": {
    "scrolled": false
   },
   "outputs": [],
   "source": [
    "figure(25,25)\n",
    "\n",
    "for i,g in enumerate(signatures.index):\n",
    "    \n",
    "    plt.subplot(7,7,i+1)\n",
    "    \n",
    "    plt.title(g)\n",
    "    \n",
    "    (ctmap==i).imshow(cmap='Reds')"
   ]
  },
  {
   "cell_type": "markdown",
   "id": "16c20cc7",
   "metadata": {},
   "source": [
    "#### 2.4 perform neighborhood enrichment analysis through integration with squidpy"
   ]
  },
  {
   "cell_type": "markdown",
   "id": "3d928db2",
   "metadata": {},
   "source": [
    "The excellent squidpy implementations of spatial statistics methods can be used to identify spatial neighborhood enrichment effects among the molecules:"
   ]
  },
  {
   "cell_type": "code",
   "execution_count": null,
   "id": "16bae800",
   "metadata": {},
   "outputs": [],
   "source": [
    "import squidpy as sq\n",
    "\n",
    "sq.gr.spatial_neighbors(sdata, key_added='spatial')\n",
    "sq.gr.nhood_enrichment(sdata,'celltype')"
   ]
  },
  {
   "cell_type": "code",
   "execution_count": null,
   "id": "95b3d433",
   "metadata": {
    "scrolled": false
   },
   "outputs": [],
   "source": [
    "sq.pl.nhood_enrichment(sdata,'celltype')"
   ]
  },
  {
   "cell_type": "markdown",
   "id": "981e8e31",
   "metadata": {},
   "source": [
    "#### 2.5 perform spatial co-occurrence analysis on cell type distributions"
   ]
  },
  {
   "cell_type": "markdown",
   "id": "e9dce897",
   "metadata": {},
   "source": [
    "Also, sdata comes with a dedicated function to compute co-occurrence in space amongst the different molecule classes:"
   ]
  },
  {
   "cell_type": "code",
   "execution_count": null,
   "id": "b9e11722",
   "metadata": {
    "scrolled": true
   },
   "outputs": [],
   "source": [
    "# compute co-occurrence indicator for each class-class-pair:\n",
    "cooc = sdata.stats.co_occurrence(resolution=5,max_radius=200,linear_steps=40,category='celltype')"
   ]
  },
  {
   "cell_type": "markdown",
   "id": "fcd69c39",
   "metadata": {},
   "source": [
    "As an example, the width of the auto-co-occurrence peak next to the center indicates the radius of the respective individual structures:"
   ]
  },
  {
   "cell_type": "code",
   "execution_count": null,
   "id": "8d880228",
   "metadata": {
    "scrolled": false
   },
   "outputs": [],
   "source": [
    "autos = cooc.diagonal()\n",
    "\n",
    "figure(20,10)\n",
    "\n",
    "for i,c in enumerate(tissue_colors):\n",
    "    _=plt.plot(autos[:,i]/autos[0,i], c = c)\n",
    "\n",
    "plt.legend(handles,labels,)\n",
    "\n",
    "plt.xticks(np.arange(0,40,5),np.arange(0,40,5)*5)\n",
    "plt.title('Auto-co-occurrence curves for all molecules, by SSAM-assigned cell types:')"
   ]
  },
  {
   "cell_type": "markdown",
   "id": "0ab19291",
   "metadata": {},
   "source": [
    "For these auto-co-occurrence curves, the results show the difference in structural diameters for different tissue type structures. For better interpretability, it might be easier to plot three prototypical cases individually:"
   ]
  },
  {
   "cell_type": "code",
   "execution_count": null,
   "id": "ad523f25",
   "metadata": {},
   "outputs": [],
   "source": [
    "figure(18,6)\n",
    "\n",
    "genes_to_plot=['Airway fibroblast','Erythrocyte','Mesothelial']\n",
    "\n",
    "plt.subplot(141)\n",
    "plt.title('Auto co-occurrence')\n",
    "plt.xticks(np.arange(0,40,5),np.arange(0,40,5)*5)\n",
    "\n",
    "for i,c in enumerate(genes_to_plot):\n",
    "    \n",
    "    tissue_index = np.where(signatures.index==c)[0][0]\n",
    "    color = tissue_colors[tissue_index]\n",
    "    \n",
    "    plt.subplot(1,4,1)\n",
    "    plt.plot(autos[:,tissue_index]/autos[0,tissue_index],color=color)\n",
    "    \n",
    "    plt.subplot(1,4,i+2)\n",
    "    sdata[sdata.celltype==c].scatter(color = color)\n",
    "    plt.title(c)"
   ]
  },
  {
   "cell_type": "markdown",
   "id": "c003b7d4",
   "metadata": {},
   "source": [
    "Transcripts assigned to 'Airway fibroblast' seem to have a higher chance of occurring close to other transcripts of the same type, compared to other cell types. 'Erythrocytes' and 'Mesothelials' are more isolated and hence have steeper auto-co-occurrence profiles. \n",
    "\n",
    "#### 2.6 cross-co-occurrence against 'other' transcripts\n",
    "\n",
    "Co-occurrence curves can also be created between molecule types. Co-occurrence to the 'other' category (in empty space) shows that Cilated Epithelial cells and Mesothelial cells seem to occur closer to the sample edge than Airway fibroblasts do."
   ]
  },
  {
   "cell_type": "code",
   "execution_count": null,
   "id": "8bfe2463",
   "metadata": {},
   "outputs": [],
   "source": [
    "figure(18,6)\n",
    "\n",
    "genes_to_plot=['Airway fibroblast','Ciliated epithelial','Mesothelial']\n",
    "\n",
    "plt.subplot(141)\n",
    "plt.title('Co-occurrence with \"other\":')\n",
    "plt.xticks(np.arange(0,40,5),np.arange(0,40,5)*5)\n",
    "\n",
    "for i,c in enumerate(genes_to_plot):\n",
    "    \n",
    "    tissue_index = np.where(signatures.index==c)[0][0]\n",
    "    color = tissue_colors[tissue_index]\n",
    "    \n",
    "    plt.subplot(1,4,1)\n",
    "    plt.plot(cooc[-1,tissue_index]/autos[0,tissue_index],color=color)\n",
    "    \n",
    "    plt.subplot(1,4,i+2)\n",
    "    sdata[sdata.celltype==c].scatter(color = color)\n",
    "    plt.title(c)"
   ]
  },
  {
   "cell_type": "code",
   "execution_count": null,
   "id": "de652795",
   "metadata": {},
   "outputs": [],
   "source": []
  }
 ],
 "metadata": {
  "kernelspec": {
   "display_name": "Python 3 (ipykernel)",
   "language": "python",
   "name": "python3"
  },
  "language_info": {
   "codemirror_mode": {
    "name": "ipython",
    "version": 3
   },
   "file_extension": ".py",
   "mimetype": "text/x-python",
   "name": "python",
   "nbconvert_exporter": "python",
   "pygments_lexer": "ipython3",
   "version": "3.9.12"
  },
  "vscode": {
   "interpreter": {
    "hash": "f6b9d6e730bf6df7c9897fa1856547fd50d49d2d45d563ddaa6b6024ccbc1870"
   }
  }
 },
 "nbformat": 4,
 "nbformat_minor": 5
}
